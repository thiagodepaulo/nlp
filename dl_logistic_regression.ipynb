{
  "nbformat": 4,
  "nbformat_minor": 0,
  "metadata": {
    "colab": {
      "provenance": [],
      "gpuType": "T4",
      "authorship_tag": "ABX9TyMVMNY1B9oF8H8TpuBRGN2m",
      "include_colab_link": true
    },
    "kernelspec": {
      "name": "python3",
      "display_name": "Python 3"
    },
    "language_info": {
      "name": "python"
    },
    "accelerator": "GPU"
  },
  "cells": [
    {
      "cell_type": "markdown",
      "metadata": {
        "id": "view-in-github",
        "colab_type": "text"
      },
      "source": [
        "<a href=\"https://colab.research.google.com/github/thiagodepaulo/nlp/blob/enap/dl_logistic_regression.ipynb\" target=\"_parent\"><img src=\"https://colab.research.google.com/assets/colab-badge.svg\" alt=\"Open In Colab\"/></a>"
      ]
    },
    {
      "cell_type": "code",
      "execution_count": 1,
      "metadata": {
        "id": "4HqeMJ9aT29h"
      },
      "outputs": [],
      "source": [
        "import torch\n",
        "import torch.nn as nn\n",
        "from torch.utils.data import TensorDataset, DataLoader\n",
        "\n",
        "import numpy as np\n",
        "from tqdm.notebook import tqdm\n",
        "from sklearn.datasets import fetch_20newsgroups\n",
        "from sklearn.feature_extraction.text import CountVectorizer\n",
        "from sklearn.metrics import classification_report, confusion_matrix"
      ]
    },
    {
      "cell_type": "code",
      "source": [
        "categories = ['talk.religion.misc', 'comp.graphics', 'sci.space']\n",
        "#categories=categories\n",
        "newsgroups_train = fetch_20newsgroups(subset='train')\n",
        "newsgroups_test = fetch_20newsgroups(subset='test')\n",
        "\n",
        "vectorizer = CountVectorizer(max_features=5000)\n",
        "vectors = vectorizer.fit_transform(newsgroups_train.data)\n",
        "X = vectors.toarray()\n",
        "X = X.astype(float)\n",
        "n, n_features = X.shape\n",
        "\n",
        "y_train = newsgroups_train.target\n",
        "n_classes = len(set(y_train))\n",
        "y_train = np.eye(n_classes)[y_train]\n",
        "\n",
        "X_test = vectorizer.transform(newsgroups_test.data)\n",
        "X_test = X_test.toarray()\n",
        "X_test = X_test.astype(float)\n",
        "y_test = newsgroups_test.target"
      ],
      "metadata": {
        "id": "18nkOAIzT7kz"
      },
      "execution_count": 2,
      "outputs": []
    },
    {
      "cell_type": "code",
      "source": [
        "batch_size = 16\n",
        "\n",
        "X = torch.tensor(X, dtype=torch.float32)\n",
        "y = torch.tensor(y_train, dtype=torch.float32)\n",
        "\n",
        "train_dataset = TensorDataset(X, y)\n",
        "train_loader = DataLoader(train_dataset, batch_size=batch_size, shuffle=True)\n",
        "\n",
        "X_test = torch.tensor(X_test, dtype=torch.float32)\n",
        "y_test = torch.tensor(y_test, dtype=torch.float32)\n",
        "\n",
        "test_dataset = TensorDataset(X_test, y_test)\n",
        "test_loader = DataLoader(test_dataset, batch_size=batch_size, shuffle=True)"
      ],
      "metadata": {
        "id": "j9IbOOfWU7th"
      },
      "execution_count": 3,
      "outputs": []
    },
    {
      "cell_type": "code",
      "source": [
        "class LogisticRegression(nn.Module):\n",
        "    def __init__(self, input_size, num_classes):\n",
        "        super(LogisticRegression, self).__init__()\n",
        "        self.linear = nn.Linear(input_size, num_classes)\n",
        "\n",
        "    def forward(self, x):\n",
        "        out = self.linear(x)\n",
        "        out = nn.functional.softmax(out, dim=1)\n",
        "        return out"
      ],
      "metadata": {
        "id": "_n4ueMZsY04t"
      },
      "execution_count": 4,
      "outputs": []
    },
    {
      "cell_type": "code",
      "source": [
        "model = LogisticRegression(input_size=n_features, num_classes=n_classes)\n",
        "\n",
        "# Check for cuda\n",
        "device = torch.device('cuda:0' if torch.cuda.is_available() else 'cpu')\n",
        "print(device)\n",
        "# Move the model to the device\n",
        "model = model.to(device)"
      ],
      "metadata": {
        "colab": {
          "base_uri": "https://localhost:8080/"
        },
        "id": "XGTdVYzCY43r",
        "outputId": "8b3502ea-3da2-4f5b-aad7-4ab1748bd316"
      },
      "execution_count": 5,
      "outputs": [
        {
          "output_type": "stream",
          "name": "stdout",
          "text": [
            "cuda:0\n"
          ]
        }
      ]
    },
    {
      "cell_type": "code",
      "source": [
        "# Define the loss function and optimizer\n",
        "criterion = nn.CrossEntropyLoss()\n",
        "optimizer = torch.optim.SGD(model.parameters(), lr=0.02)"
      ],
      "metadata": {
        "id": "ytIYUil8Y_3b"
      },
      "execution_count": 6,
      "outputs": []
    },
    {
      "cell_type": "code",
      "source": [
        "# Define training parameters\n",
        "num_epochs = 100\n",
        "\n",
        "# Train the model\n",
        "for epoch in range(num_epochs):\n",
        "    for i, (inputs, labels) in enumerate(train_loader):\n",
        "        # Move inputs and labels to the device\n",
        "        inputs = inputs.to(device)\n",
        "        labels = labels.to(device)\n",
        "\n",
        "        # Forward pass\n",
        "        outputs = model(inputs)\n",
        "        loss = criterion(outputs, labels)\n",
        "\n",
        "        # Backward and optimize\n",
        "        optimizer.zero_grad()\n",
        "        loss.backward()\n",
        "        optimizer.step()\n",
        "\n",
        "    # Print training loss for each epoch\n",
        "    if (epoch+1)%10 == 0:\n",
        "        print('Epoch [{}/{}], Loss: {:.4f}'.format(epoch+1, num_epochs, loss.item()))"
      ],
      "metadata": {
        "colab": {
          "base_uri": "https://localhost:8080/"
        },
        "id": "Ts-Unv8ZZGBr",
        "outputId": "6e6eb870-9797-4f02-dfbf-4643d88a21e2"
      },
      "execution_count": 7,
      "outputs": [
        {
          "output_type": "stream",
          "name": "stdout",
          "text": [
            "Epoch [10/100], Loss: 2.5325\n",
            "Epoch [20/100], Loss: 2.7105\n",
            "Epoch [30/100], Loss: 2.5731\n",
            "Epoch [40/100], Loss: 2.4027\n",
            "Epoch [50/100], Loss: 2.6202\n",
            "Epoch [60/100], Loss: 3.0552\n",
            "Epoch [70/100], Loss: 2.5677\n",
            "Epoch [80/100], Loss: 3.0405\n",
            "Epoch [90/100], Loss: 2.5775\n",
            "Epoch [100/100], Loss: 2.6648\n"
          ]
        }
      ]
    },
    {
      "cell_type": "code",
      "source": [
        "with torch.no_grad():\n",
        "    correct = 0\n",
        "    total = 0\n",
        "    for inputs, labels in test_loader:\n",
        "        # Move inputs and labels to the device\n",
        "        inputs = inputs.to(device)\n",
        "        labels = labels.to(device)\n",
        "\n",
        "        # Compute the model's predictions\n",
        "        outputs = model(inputs)\n",
        "        _, predicted = torch.max(outputs.data, 1)\n",
        "\n",
        "        # Compute the accuracy\n",
        "        total += labels.size(0)\n",
        "        correct += (predicted == labels).sum().item()\n",
        "\n",
        "    print('Validation Accuracy: {:.2f}%'.format(100 * correct / total))"
      ],
      "metadata": {
        "colab": {
          "base_uri": "https://localhost:8080/"
        },
        "id": "l0t78uMHZkYa",
        "outputId": "12c20d62-39c9-448d-ab26-7a98528e81d5"
      },
      "execution_count": 8,
      "outputs": [
        {
          "output_type": "stream",
          "name": "stdout",
          "text": [
            "Validation Accuracy: 52.10%\n"
          ]
        }
      ]
    }
  ]
}