{
  "nbformat": 4,
  "nbformat_minor": 0,
  "metadata": {
    "colab": {
      "provenance": [],
      "authorship_tag": "ABX9TyOxepQqdjLU0lJJqB1Auzcn",
      "include_colab_link": true
    },
    "kernelspec": {
      "name": "python3",
      "display_name": "Python 3"
    },
    "language_info": {
      "name": "python"
    }
  },
  "cells": [
    {
      "cell_type": "markdown",
      "metadata": {
        "id": "view-in-github",
        "colab_type": "text"
      },
      "source": [
        "<a href=\"https://colab.research.google.com/github/thiagodepaulo/nlp/blob/enap/preprocessing.ipynb\" target=\"_parent\"><img src=\"https://colab.research.google.com/assets/colab-badge.svg\" alt=\"Open In Colab\"/></a>"
      ]
    },
    {
      "cell_type": "code",
      "execution_count": null,
      "metadata": {
        "id": "a39QjygMBh80"
      },
      "outputs": [],
      "source": [
        "import os.path\n",
        "import glob\n",
        "import codecs\n",
        "import nltk\n",
        "import re\n",
        "import spacy\n",
        "from nltk.stem import SnowballStemmer\n",
        "from nltk.stem import WordNetLemmatizer\n",
        "import unicodedata\n",
        "from sklearn.feature_extraction.text import TfidfTransformer\n",
        "import pandas as pd"
      ]
    },
    {
      "cell_type": "code",
      "source": [
        "corpus = [\"\"\"Naruto (ナルト?) é uma série de mangá escrita e ilustrada por Masashi Kishimoto,\n",
        "que conta a história de Naruto Uzumaki, um jovem ninja que constantemente procura por\n",
        "reconhecimento e sonha em se tornar Hokage, o ninja líder de sua vila.\n",
        "A história é dividida em duas partes, a primeira parte se passa nos anos da pré-adolescência de Naruto,\n",
        "e a segunda parte se passa em sua adolescência. A série é baseada em dois mangás one-shots de Kishimoto:\n",
        "Karakuri (1995), e que por causa dele Kishimoto ganhou uma menção honrosa no prêmio Hop Step da Shueisha\n",
        "no ano seguinte, e Naruto (1997). A editora Panini Comics licenciou e publicou o mangá em\n",
        "três versões no Brasil, e em Portugal é a editora Devir Manga quem licencia e publica o mangá.\n",
        "A história de Naruto continua com o seu filho, Boruto Uzumaki em Boruto: Naruto Next Generations.\"\"\",\n",
        "\n",
        "\"\"\"Serial Experiments Lain (シリアルエクスペリメンツレイン Shiriaru Ekusuperimentsu Rein?) é uma série anime\n",
        "lançada pelo estúdio Triangle Staff, dirigida por Ryutaro Nakamura, criação de cenários por\n",
        "Chiaki J. Konaka e desenhada por Yoshitoshi ABe. A série foi transmitida pela TV Tokyo de Julho a\n",
        "Setembro de 1998 e teve um jogo para PlayStation lançado no mesmo ano.\"\"\",\n",
        "\n",
        "\"\"\"Fullmetal Alchemist (鋼の錬金術師 Hagane no Renkinjutsushi?, lit. \"Alquimista de Aço\")\n",
        "é um anime baseado no mangá shōnen escrito e ilustrado por Hiromu Arakawa. O mangá foi\n",
        "serializado na revista mensal japonesa Monthly Shōnen Gangan entre agosto de 2001 e junho de 2010,\n",
        "com os seus 108 capítulos individuais compilados em 27 volumes em formato tankōbon e publicados pela\n",
        "editora Square Enix. O mundo de Fullmetal Alchemist é baseado no período após a Revolução Industrial\n",
        "Europeia. Situado em um universo ficcional em que a alquimia é uma das mais avançadas técnicas científicas\n",
        "conhecidas pelo homem, a história centra-se nos irmãos Edward Elric e Alphonse Elric, que estão procurando\n",
        "a pedra filosofal para restaurar seus corpos após uma desastrosa tentativa de trazer a mãe falecida de volta à\n",
        "vida através da alquimia.\"\"\"\n",
        "]"
      ],
      "metadata": {
        "id": "iVENH3OlGdUB"
      },
      "execution_count": null,
      "outputs": []
    },
    {
      "cell_type": "markdown",
      "source": [
        "# Pré-processamento"
      ],
      "metadata": {
        "id": "90g4EZs-GzxH"
      }
    },
    {
      "cell_type": "markdown",
      "source": [
        "limpando o texto"
      ],
      "metadata": {
        "id": "yLx5fSsZHDee"
      }
    },
    {
      "cell_type": "code",
      "source": [
        "corpus_clean1 = [ unicodedata.normalize('NFKD', s).encode('ISO-8859-1', 'ignore').decode('ISO-8859-1')\n",
        "                 for s in corpus]"
      ],
      "metadata": {
        "id": "43aew-9FHFXC"
      },
      "execution_count": null,
      "outputs": []
    },
    {
      "cell_type": "code",
      "source": [
        "single_char = 'ê'\n",
        "multiple_chars = '\\N{LATIN SMALL LETTER E}\\N{COMBINING CIRCUMFLEX ACCENT}'"
      ],
      "metadata": {
        "id": "BVXjrqmGHNzJ"
      },
      "execution_count": null,
      "outputs": []
    },
    {
      "cell_type": "code",
      "source": [
        "unicodedata.normalize('NFKD', corpus_clean1[0]).encode('ISO-8859-1', 'ignore')"
      ],
      "metadata": {
        "colab": {
          "base_uri": "https://localhost:8080/"
        },
        "id": "OIz4m_liHTsk",
        "outputId": "4371280a-546b-44c6-d179-2885f7dbd3e9"
      },
      "execution_count": null,
      "outputs": [
        {
          "output_type": "execute_result",
          "data": {
            "text/plain": [
              "b'Naruto (?) e uma serie de manga escrita e ilustrada por Masashi Kishimoto, \\nque conta a historia de Naruto Uzumaki, um jovem ninja que constantemente procura por \\nreconhecimento e sonha em se tornar Hokage, o ninja lider de sua vila. \\nA historia e dividida em duas partes, a primeira parte se passa nos anos da pre-adolescencia de Naruto, \\ne a segunda parte se passa em sua adolescencia. A serie e baseada em dois mangas one-shots de Kishimoto: \\nKarakuri (1995), e que por causa dele Kishimoto ganhou uma mencao honrosa no premio Hop Step da Shueisha \\nno ano seguinte, e Naruto (1997). A editora Panini Comics licenciou e publicou o manga em \\ntres versoes no Brasil, e em Portugal e a editora Devir Manga quem licencia e publica o manga. \\nA historia de Naruto continua com o seu filho, Boruto Uzumaki em Boruto: Naruto Next Generations.'"
            ]
          },
          "metadata": {},
          "execution_count": 31
        }
      ]
    },
    {
      "cell_type": "code",
      "source": [
        "# stop words\n",
        "import nltk\n",
        "nltk.download('stopwords')\n",
        "nltk.download('punkt')"
      ],
      "metadata": {
        "colab": {
          "base_uri": "https://localhost:8080/"
        },
        "id": "6SWhZU8KHVz8",
        "outputId": "31366c65-1028-4d5a-8065-677e99e08d7d"
      },
      "execution_count": null,
      "outputs": [
        {
          "output_type": "stream",
          "name": "stderr",
          "text": [
            "[nltk_data] Downloading package stopwords to /root/nltk_data...\n",
            "[nltk_data]   Package stopwords is already up-to-date!\n",
            "[nltk_data] Downloading package punkt to /root/nltk_data...\n",
            "[nltk_data]   Package punkt is already up-to-date!\n"
          ]
        },
        {
          "output_type": "execute_result",
          "data": {
            "text/plain": [
              "True"
            ]
          },
          "metadata": {},
          "execution_count": 32
        }
      ]
    },
    {
      "cell_type": "code",
      "source": [
        "stop_list = nltk.corpus.stopwords.words('portuguese')"
      ],
      "metadata": {
        "id": "F-3p_OHsHya8"
      },
      "execution_count": null,
      "outputs": []
    },
    {
      "cell_type": "code",
      "source": [
        "corpus_tokens = [nltk.word_tokenize(doc) for doc in corpus_clean]"
      ],
      "metadata": {
        "id": "ru6x61ZaHz7b"
      },
      "execution_count": null,
      "outputs": []
    },
    {
      "cell_type": "code",
      "source": [
        "# Stemming\n",
        "\n",
        "corpus_tokens2 = [nltk.word_tokenize(doc) for doc in corpus_clean]\n",
        "ps = SnowballStemmer('portuguese')\n",
        "def do_stem(tokens):\n",
        "    return [ps.stem(word) for word in tokens]\n",
        "\n",
        "corpus_stem = [' '.join(do_stem(doc)) for doc in corpus_tokens2]"
      ],
      "metadata": {
        "id": "pAvS3AjyIVIw"
      },
      "execution_count": null,
      "outputs": []
    },
    {
      "cell_type": "code",
      "source": [
        "ps.stem('falando'), ps.stem('falado')"
      ],
      "metadata": {
        "colab": {
          "base_uri": "https://localhost:8080/"
        },
        "id": "t1FJUfdJIgms",
        "outputId": "ae192116-619f-4397-9068-cc1351c795c9"
      },
      "execution_count": null,
      "outputs": [
        {
          "output_type": "execute_result",
          "data": {
            "text/plain": [
              "('fal', 'fal')"
            ]
          },
          "metadata": {},
          "execution_count": 36
        }
      ]
    },
    {
      "cell_type": "code",
      "source": [
        "# Lematizador\n",
        "!python -m spacy download pt_core_news_sm"
      ],
      "metadata": {
        "colab": {
          "base_uri": "https://localhost:8080/"
        },
        "id": "rto91Tg-IloE",
        "outputId": "527794e6-90d4-44b5-9c5b-17a8c35a3ca9"
      },
      "execution_count": null,
      "outputs": [
        {
          "output_type": "stream",
          "name": "stdout",
          "text": [
            "Collecting pt-core-news-sm==3.7.0\n",
            "  Downloading https://github.com/explosion/spacy-models/releases/download/pt_core_news_sm-3.7.0/pt_core_news_sm-3.7.0-py3-none-any.whl (13.0 MB)\n",
            "\u001b[2K     \u001b[90m━━━━━━━━━━━━━━━━━━━━━━━━━━━━━━━━━━━━━━━━\u001b[0m \u001b[32m13.0/13.0 MB\u001b[0m \u001b[31m24.2 MB/s\u001b[0m eta \u001b[36m0:00:00\u001b[0m\n",
            "\u001b[?25hRequirement already satisfied: spacy<3.8.0,>=3.7.0 in /usr/local/lib/python3.10/dist-packages (from pt-core-news-sm==3.7.0) (3.7.4)\n",
            "Requirement already satisfied: spacy-legacy<3.1.0,>=3.0.11 in /usr/local/lib/python3.10/dist-packages (from spacy<3.8.0,>=3.7.0->pt-core-news-sm==3.7.0) (3.0.12)\n",
            "Requirement already satisfied: spacy-loggers<2.0.0,>=1.0.0 in /usr/local/lib/python3.10/dist-packages (from spacy<3.8.0,>=3.7.0->pt-core-news-sm==3.7.0) (1.0.5)\n",
            "Requirement already satisfied: murmurhash<1.1.0,>=0.28.0 in /usr/local/lib/python3.10/dist-packages (from spacy<3.8.0,>=3.7.0->pt-core-news-sm==3.7.0) (1.0.10)\n",
            "Requirement already satisfied: cymem<2.1.0,>=2.0.2 in /usr/local/lib/python3.10/dist-packages (from spacy<3.8.0,>=3.7.0->pt-core-news-sm==3.7.0) (2.0.8)\n",
            "Requirement already satisfied: preshed<3.1.0,>=3.0.2 in /usr/local/lib/python3.10/dist-packages (from spacy<3.8.0,>=3.7.0->pt-core-news-sm==3.7.0) (3.0.9)\n",
            "Requirement already satisfied: thinc<8.3.0,>=8.2.2 in /usr/local/lib/python3.10/dist-packages (from spacy<3.8.0,>=3.7.0->pt-core-news-sm==3.7.0) (8.2.3)\n",
            "Requirement already satisfied: wasabi<1.2.0,>=0.9.1 in /usr/local/lib/python3.10/dist-packages (from spacy<3.8.0,>=3.7.0->pt-core-news-sm==3.7.0) (1.1.2)\n",
            "Requirement already satisfied: srsly<3.0.0,>=2.4.3 in /usr/local/lib/python3.10/dist-packages (from spacy<3.8.0,>=3.7.0->pt-core-news-sm==3.7.0) (2.4.8)\n",
            "Requirement already satisfied: catalogue<2.1.0,>=2.0.6 in /usr/local/lib/python3.10/dist-packages (from spacy<3.8.0,>=3.7.0->pt-core-news-sm==3.7.0) (2.0.10)\n",
            "Requirement already satisfied: weasel<0.4.0,>=0.1.0 in /usr/local/lib/python3.10/dist-packages (from spacy<3.8.0,>=3.7.0->pt-core-news-sm==3.7.0) (0.3.4)\n",
            "Requirement already satisfied: typer<0.10.0,>=0.3.0 in /usr/local/lib/python3.10/dist-packages (from spacy<3.8.0,>=3.7.0->pt-core-news-sm==3.7.0) (0.9.4)\n",
            "Requirement already satisfied: smart-open<7.0.0,>=5.2.1 in /usr/local/lib/python3.10/dist-packages (from spacy<3.8.0,>=3.7.0->pt-core-news-sm==3.7.0) (6.4.0)\n",
            "Requirement already satisfied: tqdm<5.0.0,>=4.38.0 in /usr/local/lib/python3.10/dist-packages (from spacy<3.8.0,>=3.7.0->pt-core-news-sm==3.7.0) (4.66.2)\n",
            "Requirement already satisfied: requests<3.0.0,>=2.13.0 in /usr/local/lib/python3.10/dist-packages (from spacy<3.8.0,>=3.7.0->pt-core-news-sm==3.7.0) (2.31.0)\n",
            "Requirement already satisfied: pydantic!=1.8,!=1.8.1,<3.0.0,>=1.7.4 in /usr/local/lib/python3.10/dist-packages (from spacy<3.8.0,>=3.7.0->pt-core-news-sm==3.7.0) (2.6.4)\n",
            "Requirement already satisfied: jinja2 in /usr/local/lib/python3.10/dist-packages (from spacy<3.8.0,>=3.7.0->pt-core-news-sm==3.7.0) (3.1.3)\n",
            "Requirement already satisfied: setuptools in /usr/local/lib/python3.10/dist-packages (from spacy<3.8.0,>=3.7.0->pt-core-news-sm==3.7.0) (67.7.2)\n",
            "Requirement already satisfied: packaging>=20.0 in /usr/local/lib/python3.10/dist-packages (from spacy<3.8.0,>=3.7.0->pt-core-news-sm==3.7.0) (24.0)\n",
            "Requirement already satisfied: langcodes<4.0.0,>=3.2.0 in /usr/local/lib/python3.10/dist-packages (from spacy<3.8.0,>=3.7.0->pt-core-news-sm==3.7.0) (3.3.0)\n",
            "Requirement already satisfied: numpy>=1.19.0 in /usr/local/lib/python3.10/dist-packages (from spacy<3.8.0,>=3.7.0->pt-core-news-sm==3.7.0) (1.25.2)\n",
            "Requirement already satisfied: annotated-types>=0.4.0 in /usr/local/lib/python3.10/dist-packages (from pydantic!=1.8,!=1.8.1,<3.0.0,>=1.7.4->spacy<3.8.0,>=3.7.0->pt-core-news-sm==3.7.0) (0.6.0)\n",
            "Requirement already satisfied: pydantic-core==2.16.3 in /usr/local/lib/python3.10/dist-packages (from pydantic!=1.8,!=1.8.1,<3.0.0,>=1.7.4->spacy<3.8.0,>=3.7.0->pt-core-news-sm==3.7.0) (2.16.3)\n",
            "Requirement already satisfied: typing-extensions>=4.6.1 in /usr/local/lib/python3.10/dist-packages (from pydantic!=1.8,!=1.8.1,<3.0.0,>=1.7.4->spacy<3.8.0,>=3.7.0->pt-core-news-sm==3.7.0) (4.10.0)\n",
            "Requirement already satisfied: charset-normalizer<4,>=2 in /usr/local/lib/python3.10/dist-packages (from requests<3.0.0,>=2.13.0->spacy<3.8.0,>=3.7.0->pt-core-news-sm==3.7.0) (3.3.2)\n",
            "Requirement already satisfied: idna<4,>=2.5 in /usr/local/lib/python3.10/dist-packages (from requests<3.0.0,>=2.13.0->spacy<3.8.0,>=3.7.0->pt-core-news-sm==3.7.0) (3.6)\n",
            "Requirement already satisfied: urllib3<3,>=1.21.1 in /usr/local/lib/python3.10/dist-packages (from requests<3.0.0,>=2.13.0->spacy<3.8.0,>=3.7.0->pt-core-news-sm==3.7.0) (2.0.7)\n",
            "Requirement already satisfied: certifi>=2017.4.17 in /usr/local/lib/python3.10/dist-packages (from requests<3.0.0,>=2.13.0->spacy<3.8.0,>=3.7.0->pt-core-news-sm==3.7.0) (2024.2.2)\n",
            "Requirement already satisfied: blis<0.8.0,>=0.7.8 in /usr/local/lib/python3.10/dist-packages (from thinc<8.3.0,>=8.2.2->spacy<3.8.0,>=3.7.0->pt-core-news-sm==3.7.0) (0.7.11)\n",
            "Requirement already satisfied: confection<1.0.0,>=0.0.1 in /usr/local/lib/python3.10/dist-packages (from thinc<8.3.0,>=8.2.2->spacy<3.8.0,>=3.7.0->pt-core-news-sm==3.7.0) (0.1.4)\n",
            "Requirement already satisfied: click<9.0.0,>=7.1.1 in /usr/local/lib/python3.10/dist-packages (from typer<0.10.0,>=0.3.0->spacy<3.8.0,>=3.7.0->pt-core-news-sm==3.7.0) (8.1.7)\n",
            "Requirement already satisfied: cloudpathlib<0.17.0,>=0.7.0 in /usr/local/lib/python3.10/dist-packages (from weasel<0.4.0,>=0.1.0->spacy<3.8.0,>=3.7.0->pt-core-news-sm==3.7.0) (0.16.0)\n",
            "Requirement already satisfied: MarkupSafe>=2.0 in /usr/local/lib/python3.10/dist-packages (from jinja2->spacy<3.8.0,>=3.7.0->pt-core-news-sm==3.7.0) (2.1.5)\n",
            "\u001b[38;5;2m✔ Download and installation successful\u001b[0m\n",
            "You can now load the package via spacy.load('pt_core_news_sm')\n",
            "\u001b[38;5;3m⚠ Restart to reload dependencies\u001b[0m\n",
            "If you are in a Jupyter or Colab notebook, you may need to restart Python in\n",
            "order to load all the package's dependencies. You can do this by selecting the\n",
            "'Restart kernel' or 'Restart runtime' option.\n"
          ]
        }
      ]
    },
    {
      "cell_type": "code",
      "source": [
        "sp = spacy.load(\"pt_core_news_sm\")"
      ],
      "metadata": {
        "id": "qahdjexEIs18"
      },
      "execution_count": null,
      "outputs": []
    },
    {
      "cell_type": "code",
      "source": [
        "doc = sp(corpus[0])\n",
        "' '.join([token.lemma_ for token in doc])"
      ],
      "metadata": {
        "colab": {
          "base_uri": "https://localhost:8080/",
          "height": 122
        },
        "id": "x4xT1_moJVFN",
        "outputId": "b1955a86-ffd0-46e9-8f4f-81c40352b17f"
      },
      "execution_count": null,
      "outputs": [
        {
          "output_type": "execute_result",
          "data": {
            "text/plain": [
              "'Naruto ( ナルト ? ) ser um série de mangá escrever e ilustrar por Masashi Kishimoto , \\n que contar o história de Naruto Uzumaki , um jovem ninja que constantemente procurar por \\n reconhecimento e sonhar em se tornar Hokage , o ninja líder de seu vila . \\n o história ser divider em dois parte , o primeiro parte se passar em o ano de o pré-adolescência de Naruto , \\n e o segundo parte se passar em seu adolescência . o série ser basear em dois mangás one-shots de Kishimoto : \\n Karakuri ( 1995 ) , e que por causa de ele Kishimoto ganhar um menção honroso em o prêmio Hop Step de o Shueisha \\n em o ano seguinte , e Naruto ( 1997 ) . o editora Panini Comics licenciar e publicar o mangá em \\n três versão em o Brasil , e em Portugal ser o editora Devir Manga quem licencia e publicar o mangá . \\n o história de Naruto continuar com o seu filho , Boruto Uzumaki em Boruto : Naruto Next Generations .'"
            ],
            "application/vnd.google.colaboratory.intrinsic+json": {
              "type": "string"
            }
          },
          "metadata": {},
          "execution_count": 39
        }
      ]
    },
    {
      "cell_type": "code",
      "source": [
        "# Criando Matrizes"
      ],
      "metadata": {
        "id": "5pjp4trsJXw9"
      },
      "execution_count": null,
      "outputs": []
    },
    {
      "cell_type": "code",
      "source": [
        "from scipy.sparse import csr_matrix\n",
        "import numpy as np\n",
        "\n",
        "indptr = np.array([0,2,3,6])\n",
        "indices = np.array([0,2,2,0,1,2])\n",
        "data = np.array([1,2,3,4,5,6])\n",
        "S = csr_matrix( (data,indices,indptr))\n",
        "print(S)"
      ],
      "metadata": {
        "colab": {
          "base_uri": "https://localhost:8080/"
        },
        "id": "LyPw1cjSYAZI",
        "outputId": "32a845f8-3db2-43f7-ca88-b2e0aa9d6d76"
      },
      "execution_count": null,
      "outputs": [
        {
          "output_type": "stream",
          "name": "stdout",
          "text": [
            "  (0, 0)\t1\n",
            "  (0, 2)\t2\n",
            "  (1, 2)\t3\n",
            "  (2, 0)\t4\n",
            "  (2, 1)\t5\n",
            "  (2, 2)\t6\n"
          ]
        }
      ]
    },
    {
      "cell_type": "code",
      "source": [
        "S.todense()"
      ],
      "metadata": {
        "colab": {
          "base_uri": "https://localhost:8080/"
        },
        "id": "oUEtO8A5YJdg",
        "outputId": "cb80e598-fd4b-48ad-bf33-f0bef2ae03db"
      },
      "execution_count": null,
      "outputs": [
        {
          "output_type": "execute_result",
          "data": {
            "text/plain": [
              "matrix([[1, 0, 2],\n",
              "        [0, 0, 3],\n",
              "        [4, 5, 6]])"
            ]
          },
          "metadata": {},
          "execution_count": 43
        }
      ]
    },
    {
      "cell_type": "code",
      "source": [
        "from sklearn.feature_extraction.text import CountVectorizer, TfidfVectorizer, HashingVectorizer\n",
        "\n",
        "count_vect = CountVectorizer()\n",
        "count_vect.fit(corpus)\n",
        "X = count_vect.transform(corpus)\n",
        "X.shape"
      ],
      "metadata": {
        "colab": {
          "base_uri": "https://localhost:8080/"
        },
        "id": "cm6Ps3PBaDhX",
        "outputId": "a268437d-3169-4194-fec1-844e37fb4763"
      },
      "execution_count": null,
      "outputs": [
        {
          "output_type": "execute_result",
          "data": {
            "text/plain": [
              "(3, 194)"
            ]
          },
          "metadata": {},
          "execution_count": 45
        }
      ]
    },
    {
      "cell_type": "code",
      "source": [
        "names = count_vect.get_feature_names_out()"
      ],
      "metadata": {
        "id": "mKHuZ1MHaD-u"
      },
      "execution_count": null,
      "outputs": []
    },
    {
      "cell_type": "code",
      "source": [
        "print( [ (names[w],w) for w in X.getrow(0).nonzero()[1]] )"
      ],
      "metadata": {
        "colab": {
          "base_uri": "https://localhost:8080/"
        },
        "id": "z-SXjWsjaKom",
        "outputId": "237968d1-8bd3-400f-ef04-afa9d7159444"
      },
      "execution_count": null,
      "outputs": [
        {
          "output_type": "stream",
          "name": "stdout",
          "text": [
            "[('1995', 1), ('1997', 2), ('adolescência', 8), ('ano', 15), ('anos', 16), ('baseada', 22), ('boruto', 24), ('brasil', 25), ('causa', 27), ('com', 32), ('comics', 33), ('constantemente', 36), ('conta', 37), ('continua', 38), ('da', 41), ('de', 43), ('dele', 44), ('devir', 47), ('dividida', 49), ('dois', 50), ('duas', 51), ('editora', 52), ('em', 56), ('escrita', 59), ('filho', 67), ('ganhou', 73), ('generations', 74), ('história', 77), ('hokage', 78), ('honrosa', 80), ('hop', 81), ('ilustrada', 82), ('jovem', 89), ('karakuri', 92), ('kishimoto', 93), ('licencia', 98), ('licenciou', 99), ('líder', 101), ('manga', 103), ('mangá', 104), ('mangás', 105), ('masashi', 106), ('menção', 108), ('naruto', 115), ('next', 116), ('ninja', 117), ('no', 118), ('nos', 119), ('one', 120), ('panini', 122), ('parte', 124), ('partes', 125), ('passa', 126), ('por', 132), ('portugal', 133), ('primeira', 134), ('procura', 135), ('pré', 137), ('prêmio', 138), ('publica', 139), ('publicou', 141), ('que', 142), ('quem', 143), ('reconhecimento', 144), ('se', 151), ('seguinte', 152), ('segunda', 153), ('seu', 157), ('shots', 160), ('shueisha', 161), ('sonha', 164), ('step', 167), ('sua', 168), ('série', 169), ('tornar', 174), ('três', 178), ('um', 181), ('uma', 182), ('uzumaki', 184), ('versões', 185), ('vila', 187), ('ナルト', 192)]\n"
          ]
        }
      ]
    },
    {
      "cell_type": "code",
      "source": [
        "hash_vect = HashingVectorizer(n_features=10000)\n",
        "X3 = hash_vect.fit_transform(corpus)\n",
        "X3.shape"
      ],
      "metadata": {
        "id": "BhT_ht5Dacx_",
        "outputId": "0468e86e-7300-4683-b557-82e5b8c4b8a6",
        "colab": {
          "base_uri": "https://localhost:8080/"
        }
      },
      "execution_count": null,
      "outputs": [
        {
          "output_type": "execute_result",
          "data": {
            "text/plain": [
              "(3, 10000)"
            ]
          },
          "metadata": {},
          "execution_count": 50
        }
      ]
    },
    {
      "cell_type": "code",
      "source": [],
      "metadata": {
        "id": "Px4ajmI7ah1G"
      },
      "execution_count": null,
      "outputs": []
    }
  ]
}