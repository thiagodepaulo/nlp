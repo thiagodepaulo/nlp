{
  "nbformat": 4,
  "nbformat_minor": 0,
  "metadata": {
    "colab": {
      "provenance": [],
      "authorship_tag": "ABX9TyOFRVwnmrix24pbAPsEJoUU",
      "include_colab_link": true
    },
    "kernelspec": {
      "name": "python3",
      "display_name": "Python 3"
    },
    "language_info": {
      "name": "python"
    }
  },
  "cells": [
    {
      "cell_type": "markdown",
      "metadata": {
        "id": "view-in-github",
        "colab_type": "text"
      },
      "source": [
        "<a href=\"https://colab.research.google.com/github/thiagodepaulo/nlp/blob/enap/preprocessing.ipynb\" target=\"_parent\"><img src=\"https://colab.research.google.com/assets/colab-badge.svg\" alt=\"Open In Colab\"/></a>"
      ]
    },
    {
      "cell_type": "code",
      "execution_count": null,
      "metadata": {
        "id": "a39QjygMBh80"
      },
      "outputs": [],
      "source": [
        "import os.path\n",
        "import glob\n",
        "import codecs\n",
        "import nltk\n",
        "import re\n",
        "import spacy\n",
        "from nltk.stem import SnowballStemmer\n",
        "from nltk.stem import WordNetLemmatizer\n",
        "import unicodedata\n",
        "from sklearn.feature_extraction.text import TfidfTransformer\n",
        "import pandas as pd"
      ]
    },
    {
      "cell_type": "code",
      "source": [
        "corpus = [\"\"\"Naruto (ナルト?) é uma série de mangá escrita e ilustrada por Masashi Kishimoto,\n",
        "que conta a história de Naruto Uzumaki, um jovem ninja que constantemente procura por\n",
        "reconhecimento e sonha em se tornar Hokage, o ninja líder de sua vila.\n",
        "A história é dividida em duas partes, a primeira parte se passa nos anos da pré-adolescência de Naruto,\n",
        "e a segunda parte se passa em sua adolescência. A série é baseada em dois mangás one-shots de Kishimoto:\n",
        "Karakuri (1995), e que por causa dele Kishimoto ganhou uma menção honrosa no prêmio Hop Step da Shueisha\n",
        "no ano seguinte, e Naruto (1997). A editora Panini Comics licenciou e publicou o mangá em\n",
        "três versões no Brasil, e em Portugal é a editora Devir Manga quem licencia e publica o mangá.\n",
        "A história de Naruto continua com o seu filho, Boruto Uzumaki em Boruto: Naruto Next Generations.\"\"\",\n",
        "\n",
        "\"\"\"Serial Experiments Lain (シリアルエクスペリメンツレイン Shiriaru Ekusuperimentsu Rein?) é uma série anime\n",
        "lançada pelo estúdio Triangle Staff, dirigida por Ryutaro Nakamura, criação de cenários por\n",
        "Chiaki J. Konaka e desenhada por Yoshitoshi ABe. A série foi transmitida pela TV Tokyo de Julho a\n",
        "Setembro de 1998 e teve um jogo para PlayStation lançado no mesmo ano.\"\"\",\n",
        "\n",
        "\"\"\"Fullmetal Alchemist (鋼の錬金術師 Hagane no Renkinjutsushi?, lit. \"Alquimista de Aço\")\n",
        "é um anime baseado no mangá shōnen escrito e ilustrado por Hiromu Arakawa. O mangá foi\n",
        "serializado na revista mensal japonesa Monthly Shōnen Gangan entre agosto de 2001 e junho de 2010,\n",
        "com os seus 108 capítulos individuais compilados em 27 volumes em formato tankōbon e publicados pela\n",
        "editora Square Enix. O mundo de Fullmetal Alchemist é baseado no período após a Revolução Industrial\n",
        "Europeia. Situado em um universo ficcional em que a alquimia é uma das mais avançadas técnicas científicas\n",
        "conhecidas pelo homem, a história centra-se nos irmãos Edward Elric e Alphonse Elric, que estão procurando\n",
        "a pedra filosofal para restaurar seus corpos após uma desastrosa tentativa de trazer a mãe falecida de volta à\n",
        "vida através da alquimia.\"\"\"\n",
        "]"
      ],
      "metadata": {
        "id": "iVENH3OlGdUB"
      },
      "execution_count": 2,
      "outputs": []
    },
    {
      "cell_type": "code",
      "source": [
        "from transformers import AutoTokenizer\n",
        "\n",
        "model = 'distilbert-base-uncased'\n",
        "tokenizer = AutoTokenizer.from_pretrained(model)\n",
        "enc_text = tokenizer(corpus)\n",
        "print(enc_text)"
      ],
      "metadata": {
        "colab": {
          "base_uri": "https://localhost:8080/"
        },
        "id": "pYDxpEfUZw-t",
        "outputId": "e59df757-e554-477d-aab2-5554dfd01d47"
      },
      "execution_count": 3,
      "outputs": [
        {
          "output_type": "stream",
          "name": "stdout",
          "text": [
            "{'input_ids': [[101, 6583, 22134, 2080, 1006, 1715, 30259, 30240, 1029, 1007, 1041, 8529, 2050, 8668, 2139, 8952, 9686, 26775, 6590, 1041, 6335, 19966, 28510, 18499, 16137, 12914, 11382, 6182, 15319, 1010, 10861, 9530, 2696, 1037, 19891, 2139, 6583, 22134, 2080, 1057, 9759, 2863, 3211, 1010, 8529, 8183, 3726, 2213, 14104, 10861, 5377, 13665, 2063, 4013, 10841, 2527, 18499, 28667, 2239, 5369, 6895, 23065, 1041, 2365, 3270, 7861, 7367, 7950, 2906, 7570, 2912, 3351, 1010, 1051, 14104, 11876, 2121, 2139, 10514, 2050, 23840, 1012, 1037, 19891, 1041, 4487, 17258, 8524, 7861, 4241, 3022, 2112, 2229, 1010, 1037, 3539, 7895, 2112, 2063, 7367, 3413, 2050, 16839, 2019, 2891, 4830, 3653, 1011, 4748, 29111, 27524, 7405, 2139, 6583, 22134, 2080, 1010, 1041, 1037, 19071, 2112, 2063, 7367, 3413, 2050, 7861, 10514, 2050, 4748, 29111, 27524, 7405, 1012, 1037, 8668, 1041, 2918, 8447, 7861, 9193, 2015, 8952, 2015, 2028, 1011, 7171, 2139, 11382, 6182, 15319, 1024, 13173, 18569, 2072, 1006, 2786, 1007, 1010, 1041, 10861, 18499, 6187, 10383, 3972, 2063, 11382, 6182, 15319, 25957, 6806, 2226, 8529, 2050, 2273, 20808, 10189, 7352, 2050, 2053, 23031, 6154, 3357, 4830, 18454, 17580, 3270, 2053, 2019, 2080, 7367, 25698, 10111, 1010, 1041, 6583, 22134, 2080, 1006, 2722, 1007, 1012, 1037, 3559, 2050, 6090, 5498, 5888, 5622, 27524, 9793, 2226, 1041, 2270, 7140, 1051, 8952, 7861, 24403, 2310, 25301, 2229, 2053, 21133, 1010, 1041, 7861, 5978, 1041, 1037, 3559, 2050, 14386, 2099, 8952, 10861, 2213, 5622, 27524, 7405, 1041, 2270, 2050, 1051, 8952, 1012, 1037, 19891, 2139, 6583, 22134, 2080, 9530, 7629, 6692, 4012, 1051, 7367, 2226, 10882, 28061, 1010, 8945, 22134, 2080, 1057, 9759, 2863, 3211, 7861, 8945, 22134, 2080, 1024, 6583, 22134, 2080, 2279, 8213, 1012, 102], [101, 7642, 7885, 21110, 2078, 1006, 1706, 30258, 30219, 30259, 30224, 30228, 30233, 30247, 30258, 30252, 30263, 30238, 30260, 30221, 30263, 11895, 4360, 6820, 23969, 2271, 6279, 11124, 8163, 2226, 27788, 1029, 1007, 1041, 8529, 2050, 8668, 8750, 17595, 3540, 2850, 21877, 4135, 9765, 21041, 2080, 9546, 3095, 1010, 16101, 8004, 8524, 18499, 19367, 28160, 23981, 1010, 13675, 20469, 7113, 2139, 8292, 11802, 10735, 18499, 9610, 8978, 1046, 1012, 12849, 2532, 2912, 1041, 4078, 2368, 16102, 2050, 18499, 10930, 6182, 13122, 4048, 14863, 1012, 1037, 8668, 1042, 10448, 19818, 8524, 21877, 2721, 2694, 5522, 2139, 21650, 6806, 1037, 2275, 6633, 12618, 2139, 2687, 1041, 8915, 3726, 8529, 8183, 3995, 11498, 9160, 17595, 3540, 3527, 2053, 2033, 25855, 2019, 2080, 1012, 102], [101, 2440, 11368, 2389, 2632, 24229, 1006, 100, 1671, 100, 1964, 100, 100, 5292, 5289, 2063, 2053, 14916, 4939, 9103, 10422, 6182, 1029, 1010, 5507, 1012, 1000, 2632, 15549, 23738, 2050, 2139, 9353, 2080, 1000, 1007, 1041, 8529, 8750, 2918, 9365, 2053, 8952, 14707, 2078, 9686, 26775, 9956, 1041, 6335, 19966, 12173, 2080, 18499, 7632, 21716, 2226, 19027, 13069, 1012, 1051, 8952, 1042, 10448, 7642, 21335, 3527, 6583, 7065, 11921, 2273, 12002, 14855, 29513, 3736, 7058, 14707, 2078, 28646, 2078, 4372, 7913, 3283, 16033, 2139, 2541, 1041, 12022, 6806, 2139, 2230, 1010, 4012, 9808, 7367, 2271, 10715, 6178, 4183, 18845, 2015, 27427, 12848, 3593, 6692, 2483, 4012, 8197, 27266, 2891, 7861, 2676, 6702, 7861, 4289, 2080, 4951, 16429, 2239, 1041, 2270, 28118, 21877, 2721, 3559, 2050, 2675, 4372, 7646, 1012, 1051, 25989, 2139, 2440, 11368, 2389, 2632, 24229, 1041, 2918, 9365, 2053, 2558, 2080, 9706, 2891, 1037, 7065, 4747, 18100, 2080, 3919, 2885, 2401, 1012, 26179, 9365, 7861, 8529, 4895, 16402, 6499, 10882, 14693, 16026, 7861, 10861, 1037, 2632, 15549, 10092, 1041, 8529, 2050, 8695, 14736, 2015, 10927, 20909, 8883, 8915, 2278, 12782, 2015, 25022, 4765, 18513, 3022, 9530, 5369, 6895, 8883, 21877, 4135, 2188, 2213, 1010, 1037, 19891, 9358, 2527, 1011, 7367, 16839, 20868, 2863, 2891, 3487, 3449, 7277, 1041, 2632, 20846, 3366, 3449, 7277, 1010, 10861, 9765, 7113, 4013, 10841, 13033, 2080, 1037, 21877, 7265, 10882, 10483, 11253, 2389, 11498, 2717, 21159, 2906, 7367, 2271, 13058, 2891, 9706, 2891, 8529, 2050, 4078, 14083, 7352, 2050, 9311, 10450, 3567, 2139, 19817, 10936, 2121, 1037, 11530, 6904, 2571, 6895, 2850, 2139, 26089, 1037, 19830, 2012, 22401, 2015, 4830, 2632, 15549, 10092, 1012, 102]], 'attention_mask': [[1, 1, 1, 1, 1, 1, 1, 1, 1, 1, 1, 1, 1, 1, 1, 1, 1, 1, 1, 1, 1, 1, 1, 1, 1, 1, 1, 1, 1, 1, 1, 1, 1, 1, 1, 1, 1, 1, 1, 1, 1, 1, 1, 1, 1, 1, 1, 1, 1, 1, 1, 1, 1, 1, 1, 1, 1, 1, 1, 1, 1, 1, 1, 1, 1, 1, 1, 1, 1, 1, 1, 1, 1, 1, 1, 1, 1, 1, 1, 1, 1, 1, 1, 1, 1, 1, 1, 1, 1, 1, 1, 1, 1, 1, 1, 1, 1, 1, 1, 1, 1, 1, 1, 1, 1, 1, 1, 1, 1, 1, 1, 1, 1, 1, 1, 1, 1, 1, 1, 1, 1, 1, 1, 1, 1, 1, 1, 1, 1, 1, 1, 1, 1, 1, 1, 1, 1, 1, 1, 1, 1, 1, 1, 1, 1, 1, 1, 1, 1, 1, 1, 1, 1, 1, 1, 1, 1, 1, 1, 1, 1, 1, 1, 1, 1, 1, 1, 1, 1, 1, 1, 1, 1, 1, 1, 1, 1, 1, 1, 1, 1, 1, 1, 1, 1, 1, 1, 1, 1, 1, 1, 1, 1, 1, 1, 1, 1, 1, 1, 1, 1, 1, 1, 1, 1, 1, 1, 1, 1, 1, 1, 1, 1, 1, 1, 1, 1, 1, 1, 1, 1, 1, 1, 1, 1, 1, 1, 1, 1, 1, 1, 1, 1, 1, 1, 1, 1, 1, 1, 1, 1, 1, 1, 1, 1, 1, 1, 1, 1, 1, 1, 1, 1, 1, 1, 1, 1, 1, 1, 1, 1, 1, 1, 1, 1, 1, 1, 1, 1, 1, 1, 1, 1, 1, 1, 1, 1, 1, 1, 1], [1, 1, 1, 1, 1, 1, 1, 1, 1, 1, 1, 1, 1, 1, 1, 1, 1, 1, 1, 1, 1, 1, 1, 1, 1, 1, 1, 1, 1, 1, 1, 1, 1, 1, 1, 1, 1, 1, 1, 1, 1, 1, 1, 1, 1, 1, 1, 1, 1, 1, 1, 1, 1, 1, 1, 1, 1, 1, 1, 1, 1, 1, 1, 1, 1, 1, 1, 1, 1, 1, 1, 1, 1, 1, 1, 1, 1, 1, 1, 1, 1, 1, 1, 1, 1, 1, 1, 1, 1, 1, 1, 1, 1, 1, 1, 1, 1, 1, 1, 1, 1, 1, 1, 1, 1, 1, 1, 1, 1, 1, 1, 1, 1, 1, 1, 1, 1, 1, 1, 1, 1], [1, 1, 1, 1, 1, 1, 1, 1, 1, 1, 1, 1, 1, 1, 1, 1, 1, 1, 1, 1, 1, 1, 1, 1, 1, 1, 1, 1, 1, 1, 1, 1, 1, 1, 1, 1, 1, 1, 1, 1, 1, 1, 1, 1, 1, 1, 1, 1, 1, 1, 1, 1, 1, 1, 1, 1, 1, 1, 1, 1, 1, 1, 1, 1, 1, 1, 1, 1, 1, 1, 1, 1, 1, 1, 1, 1, 1, 1, 1, 1, 1, 1, 1, 1, 1, 1, 1, 1, 1, 1, 1, 1, 1, 1, 1, 1, 1, 1, 1, 1, 1, 1, 1, 1, 1, 1, 1, 1, 1, 1, 1, 1, 1, 1, 1, 1, 1, 1, 1, 1, 1, 1, 1, 1, 1, 1, 1, 1, 1, 1, 1, 1, 1, 1, 1, 1, 1, 1, 1, 1, 1, 1, 1, 1, 1, 1, 1, 1, 1, 1, 1, 1, 1, 1, 1, 1, 1, 1, 1, 1, 1, 1, 1, 1, 1, 1, 1, 1, 1, 1, 1, 1, 1, 1, 1, 1, 1, 1, 1, 1, 1, 1, 1, 1, 1, 1, 1, 1, 1, 1, 1, 1, 1, 1, 1, 1, 1, 1, 1, 1, 1, 1, 1, 1, 1, 1, 1, 1, 1, 1, 1, 1, 1, 1, 1, 1, 1, 1, 1, 1, 1, 1, 1, 1, 1, 1, 1, 1, 1, 1, 1, 1, 1, 1, 1, 1, 1, 1, 1, 1, 1, 1, 1, 1, 1, 1, 1, 1, 1, 1, 1, 1, 1, 1, 1, 1, 1, 1, 1, 1, 1, 1, 1, 1, 1, 1, 1, 1, 1, 1, 1, 1, 1]]}\n"
          ]
        }
      ]
    },
    {
      "cell_type": "code",
      "source": [
        "tokens = tokenizer.convert_ids_to_tokens(enc_text.input_ids[0])\n",
        "print(tokens)"
      ],
      "metadata": {
        "colab": {
          "base_uri": "https://localhost:8080/"
        },
        "id": "bCQe9oZ4bBM7",
        "outputId": "54933681-c838-4a1f-b57a-63a464ba3cc9"
      },
      "execution_count": 6,
      "outputs": [
        {
          "output_type": "stream",
          "name": "stdout",
          "text": [
            "['[CLS]', 'na', '##rut', '##o', '(', 'ナ', '##ル', '##ト', '?', ')', 'e', 'um', '##a', 'serie', 'de', 'manga', 'es', '##cr', '##ita', 'e', 'il', '##ust', '##rada', 'por', 'mas', '##ashi', 'ki', '##shi', '##moto', ',', 'que', 'con', '##ta', 'a', 'historia', 'de', 'na', '##rut', '##o', 'u', '##zu', '##ma', '##ki', ',', 'um', 'jo', '##ve', '##m', 'ninja', 'que', 'constant', '##ement', '##e', 'pro', '##cu', '##ra', 'por', 'rec', '##on', '##he', '##ci', '##mento', 'e', 'son', '##ha', 'em', 'se', 'torn', '##ar', 'ho', '##ka', '##ge', ',', 'o', 'ninja', 'lid', '##er', 'de', 'su', '##a', 'vila', '.', 'a', 'historia', 'e', 'di', '##vid', '##ida', 'em', 'du', '##as', 'part', '##es', ',', 'a', 'prime', '##ira', 'part', '##e', 'se', 'pass', '##a', 'nos', 'an', '##os', 'da', 'pre', '-', 'ad', '##oles', '##cen', '##cia', 'de', 'na', '##rut', '##o', ',', 'e', 'a', 'segunda', 'part', '##e', 'se', 'pass', '##a', 'em', 'su', '##a', 'ad', '##oles', '##cen', '##cia', '.', 'a', 'serie', 'e', 'base', '##ada', 'em', 'doi', '##s', 'manga', '##s', 'one', '-', 'shots', 'de', 'ki', '##shi', '##moto', ':', 'kara', '##kur', '##i', '(', '1995', ')', ',', 'e', 'que', 'por', 'ca', '##usa', 'del', '##e', 'ki', '##shi', '##moto', 'gan', '##ho', '##u', 'um', '##a', 'men', '##cao', 'hon', '##ros', '##a', 'no', 'premio', 'hop', 'step', 'da', 'shu', '##eis', '##ha', 'no', 'an', '##o', 'se', '##gui', '##nte', ',', 'e', 'na', '##rut', '##o', '(', '1997', ')', '.', 'a', 'editor', '##a', 'pan', '##ini', 'comics', 'li', '##cen', '##cio', '##u', 'e', 'public', '##ou', 'o', 'manga', 'em', 'tres', 've', '##rso', '##es', 'no', 'brasil', ',', 'e', 'em', 'portugal', 'e', 'a', 'editor', '##a', 'devi', '##r', 'manga', 'que', '##m', 'li', '##cen', '##cia', 'e', 'public', '##a', 'o', 'manga', '.', 'a', 'historia', 'de', 'na', '##rut', '##o', 'con', '##tin', '##ua', 'com', 'o', 'se', '##u', 'fi', '##lho', ',', 'bo', '##rut', '##o', 'u', '##zu', '##ma', '##ki', 'em', 'bo', '##rut', '##o', ':', 'na', '##rut', '##o', 'next', 'generations', '.', '[SEP]']\n"
          ]
        }
      ]
    },
    {
      "cell_type": "code",
      "source": [
        "print(tokenizer.convert_tokens_to_string(tokens))"
      ],
      "metadata": {
        "colab": {
          "base_uri": "https://localhost:8080/"
        },
        "id": "LPO4UfLbb4kT",
        "outputId": "762dd704-7053-443b-e5a2-38fa5c456e10"
      },
      "execution_count": 7,
      "outputs": [
        {
          "output_type": "stream",
          "name": "stdout",
          "text": [
            "[CLS] naruto ( ナルト? ) e uma serie de manga escrita e ilustrada por masashi kishimoto, que conta a historia de naruto uzumaki, um jovem ninja que constantemente procura por reconhecimento e sonha em se tornar hokage, o ninja lider de sua vila. a historia e dividida em duas partes, a primeira parte se passa nos anos da pre - adolescencia de naruto, e a segunda parte se passa em sua adolescencia. a serie e baseada em dois mangas one - shots de kishimoto : karakuri ( 1995 ), e que por causa dele kishimoto ganhou uma mencao honrosa no premio hop step da shueisha no ano seguinte, e naruto ( 1997 ). a editora panini comics licenciou e publicou o manga em tres versoes no brasil, e em portugal e a editora devir manga quem licencia e publica o manga. a historia de naruto continua com o seu filho, boruto uzumaki em boruto : naruto next generations. [SEP]\n"
          ]
        }
      ]
    },
    {
      "cell_type": "markdown",
      "source": [
        "# Pré-processamento"
      ],
      "metadata": {
        "id": "90g4EZs-GzxH"
      }
    },
    {
      "cell_type": "markdown",
      "source": [
        "limpando o texto"
      ],
      "metadata": {
        "id": "yLx5fSsZHDee"
      }
    },
    {
      "cell_type": "code",
      "source": [
        "corpus_clean1 = [ unicodedata.normalize('NFKD', s).encode('ISO-8859-1', 'ignore').decode('ISO-8859-1')\n",
        "                 for s in corpus]"
      ],
      "metadata": {
        "id": "43aew-9FHFXC"
      },
      "execution_count": null,
      "outputs": []
    },
    {
      "cell_type": "code",
      "source": [
        "single_char = 'ê'\n",
        "multiple_chars = '\\N{LATIN SMALL LETTER E}\\N{COMBINING CIRCUMFLEX ACCENT}'"
      ],
      "metadata": {
        "id": "BVXjrqmGHNzJ"
      },
      "execution_count": null,
      "outputs": []
    },
    {
      "cell_type": "code",
      "source": [
        "unicodedata.normalize('NFKD', corpus_clean1[0]).encode('ISO-8859-1', 'ignore')"
      ],
      "metadata": {
        "colab": {
          "base_uri": "https://localhost:8080/"
        },
        "id": "OIz4m_liHTsk",
        "outputId": "4371280a-546b-44c6-d179-2885f7dbd3e9"
      },
      "execution_count": null,
      "outputs": [
        {
          "output_type": "execute_result",
          "data": {
            "text/plain": [
              "b'Naruto (?) e uma serie de manga escrita e ilustrada por Masashi Kishimoto, \\nque conta a historia de Naruto Uzumaki, um jovem ninja que constantemente procura por \\nreconhecimento e sonha em se tornar Hokage, o ninja lider de sua vila. \\nA historia e dividida em duas partes, a primeira parte se passa nos anos da pre-adolescencia de Naruto, \\ne a segunda parte se passa em sua adolescencia. A serie e baseada em dois mangas one-shots de Kishimoto: \\nKarakuri (1995), e que por causa dele Kishimoto ganhou uma mencao honrosa no premio Hop Step da Shueisha \\nno ano seguinte, e Naruto (1997). A editora Panini Comics licenciou e publicou o manga em \\ntres versoes no Brasil, e em Portugal e a editora Devir Manga quem licencia e publica o manga. \\nA historia de Naruto continua com o seu filho, Boruto Uzumaki em Boruto: Naruto Next Generations.'"
            ]
          },
          "metadata": {},
          "execution_count": 31
        }
      ]
    },
    {
      "cell_type": "code",
      "source": [
        "# stop words\n",
        "import nltk\n",
        "nltk.download('stopwords')\n",
        "nltk.download('punkt')"
      ],
      "metadata": {
        "colab": {
          "base_uri": "https://localhost:8080/"
        },
        "id": "6SWhZU8KHVz8",
        "outputId": "31366c65-1028-4d5a-8065-677e99e08d7d"
      },
      "execution_count": null,
      "outputs": [
        {
          "output_type": "stream",
          "name": "stderr",
          "text": [
            "[nltk_data] Downloading package stopwords to /root/nltk_data...\n",
            "[nltk_data]   Package stopwords is already up-to-date!\n",
            "[nltk_data] Downloading package punkt to /root/nltk_data...\n",
            "[nltk_data]   Package punkt is already up-to-date!\n"
          ]
        },
        {
          "output_type": "execute_result",
          "data": {
            "text/plain": [
              "True"
            ]
          },
          "metadata": {},
          "execution_count": 32
        }
      ]
    },
    {
      "cell_type": "code",
      "source": [
        "stop_list = nltk.corpus.stopwords.words('portuguese')"
      ],
      "metadata": {
        "id": "F-3p_OHsHya8"
      },
      "execution_count": null,
      "outputs": []
    },
    {
      "cell_type": "code",
      "source": [
        "corpus_tokens = [nltk.word_tokenize(doc) for doc in corpus_clean]"
      ],
      "metadata": {
        "id": "ru6x61ZaHz7b"
      },
      "execution_count": null,
      "outputs": []
    },
    {
      "cell_type": "code",
      "source": [
        "# Stemming\n",
        "\n",
        "corpus_tokens2 = [nltk.word_tokenize(doc) for doc in corpus_clean]\n",
        "ps = SnowballStemmer('portuguese')\n",
        "def do_stem(tokens):\n",
        "    return [ps.stem(word) for word in tokens]\n",
        "\n",
        "corpus_stem = [' '.join(do_stem(doc)) for doc in corpus_tokens2]"
      ],
      "metadata": {
        "id": "pAvS3AjyIVIw"
      },
      "execution_count": null,
      "outputs": []
    },
    {
      "cell_type": "code",
      "source": [
        "ps.stem('falando'), ps.stem('falado')"
      ],
      "metadata": {
        "colab": {
          "base_uri": "https://localhost:8080/"
        },
        "id": "t1FJUfdJIgms",
        "outputId": "ae192116-619f-4397-9068-cc1351c795c9"
      },
      "execution_count": null,
      "outputs": [
        {
          "output_type": "execute_result",
          "data": {
            "text/plain": [
              "('fal', 'fal')"
            ]
          },
          "metadata": {},
          "execution_count": 36
        }
      ]
    },
    {
      "cell_type": "code",
      "source": [
        "# Lematizador\n",
        "!python -m spacy download pt_core_news_sm"
      ],
      "metadata": {
        "colab": {
          "base_uri": "https://localhost:8080/"
        },
        "id": "rto91Tg-IloE",
        "outputId": "527794e6-90d4-44b5-9c5b-17a8c35a3ca9"
      },
      "execution_count": null,
      "outputs": [
        {
          "output_type": "stream",
          "name": "stdout",
          "text": [
            "Collecting pt-core-news-sm==3.7.0\n",
            "  Downloading https://github.com/explosion/spacy-models/releases/download/pt_core_news_sm-3.7.0/pt_core_news_sm-3.7.0-py3-none-any.whl (13.0 MB)\n",
            "\u001b[2K     \u001b[90m━━━━━━━━━━━━━━━━━━━━━━━━━━━━━━━━━━━━━━━━\u001b[0m \u001b[32m13.0/13.0 MB\u001b[0m \u001b[31m24.2 MB/s\u001b[0m eta \u001b[36m0:00:00\u001b[0m\n",
            "\u001b[?25hRequirement already satisfied: spacy<3.8.0,>=3.7.0 in /usr/local/lib/python3.10/dist-packages (from pt-core-news-sm==3.7.0) (3.7.4)\n",
            "Requirement already satisfied: spacy-legacy<3.1.0,>=3.0.11 in /usr/local/lib/python3.10/dist-packages (from spacy<3.8.0,>=3.7.0->pt-core-news-sm==3.7.0) (3.0.12)\n",
            "Requirement already satisfied: spacy-loggers<2.0.0,>=1.0.0 in /usr/local/lib/python3.10/dist-packages (from spacy<3.8.0,>=3.7.0->pt-core-news-sm==3.7.0) (1.0.5)\n",
            "Requirement already satisfied: murmurhash<1.1.0,>=0.28.0 in /usr/local/lib/python3.10/dist-packages (from spacy<3.8.0,>=3.7.0->pt-core-news-sm==3.7.0) (1.0.10)\n",
            "Requirement already satisfied: cymem<2.1.0,>=2.0.2 in /usr/local/lib/python3.10/dist-packages (from spacy<3.8.0,>=3.7.0->pt-core-news-sm==3.7.0) (2.0.8)\n",
            "Requirement already satisfied: preshed<3.1.0,>=3.0.2 in /usr/local/lib/python3.10/dist-packages (from spacy<3.8.0,>=3.7.0->pt-core-news-sm==3.7.0) (3.0.9)\n",
            "Requirement already satisfied: thinc<8.3.0,>=8.2.2 in /usr/local/lib/python3.10/dist-packages (from spacy<3.8.0,>=3.7.0->pt-core-news-sm==3.7.0) (8.2.3)\n",
            "Requirement already satisfied: wasabi<1.2.0,>=0.9.1 in /usr/local/lib/python3.10/dist-packages (from spacy<3.8.0,>=3.7.0->pt-core-news-sm==3.7.0) (1.1.2)\n",
            "Requirement already satisfied: srsly<3.0.0,>=2.4.3 in /usr/local/lib/python3.10/dist-packages (from spacy<3.8.0,>=3.7.0->pt-core-news-sm==3.7.0) (2.4.8)\n",
            "Requirement already satisfied: catalogue<2.1.0,>=2.0.6 in /usr/local/lib/python3.10/dist-packages (from spacy<3.8.0,>=3.7.0->pt-core-news-sm==3.7.0) (2.0.10)\n",
            "Requirement already satisfied: weasel<0.4.0,>=0.1.0 in /usr/local/lib/python3.10/dist-packages (from spacy<3.8.0,>=3.7.0->pt-core-news-sm==3.7.0) (0.3.4)\n",
            "Requirement already satisfied: typer<0.10.0,>=0.3.0 in /usr/local/lib/python3.10/dist-packages (from spacy<3.8.0,>=3.7.0->pt-core-news-sm==3.7.0) (0.9.4)\n",
            "Requirement already satisfied: smart-open<7.0.0,>=5.2.1 in /usr/local/lib/python3.10/dist-packages (from spacy<3.8.0,>=3.7.0->pt-core-news-sm==3.7.0) (6.4.0)\n",
            "Requirement already satisfied: tqdm<5.0.0,>=4.38.0 in /usr/local/lib/python3.10/dist-packages (from spacy<3.8.0,>=3.7.0->pt-core-news-sm==3.7.0) (4.66.2)\n",
            "Requirement already satisfied: requests<3.0.0,>=2.13.0 in /usr/local/lib/python3.10/dist-packages (from spacy<3.8.0,>=3.7.0->pt-core-news-sm==3.7.0) (2.31.0)\n",
            "Requirement already satisfied: pydantic!=1.8,!=1.8.1,<3.0.0,>=1.7.4 in /usr/local/lib/python3.10/dist-packages (from spacy<3.8.0,>=3.7.0->pt-core-news-sm==3.7.0) (2.6.4)\n",
            "Requirement already satisfied: jinja2 in /usr/local/lib/python3.10/dist-packages (from spacy<3.8.0,>=3.7.0->pt-core-news-sm==3.7.0) (3.1.3)\n",
            "Requirement already satisfied: setuptools in /usr/local/lib/python3.10/dist-packages (from spacy<3.8.0,>=3.7.0->pt-core-news-sm==3.7.0) (67.7.2)\n",
            "Requirement already satisfied: packaging>=20.0 in /usr/local/lib/python3.10/dist-packages (from spacy<3.8.0,>=3.7.0->pt-core-news-sm==3.7.0) (24.0)\n",
            "Requirement already satisfied: langcodes<4.0.0,>=3.2.0 in /usr/local/lib/python3.10/dist-packages (from spacy<3.8.0,>=3.7.0->pt-core-news-sm==3.7.0) (3.3.0)\n",
            "Requirement already satisfied: numpy>=1.19.0 in /usr/local/lib/python3.10/dist-packages (from spacy<3.8.0,>=3.7.0->pt-core-news-sm==3.7.0) (1.25.2)\n",
            "Requirement already satisfied: annotated-types>=0.4.0 in /usr/local/lib/python3.10/dist-packages (from pydantic!=1.8,!=1.8.1,<3.0.0,>=1.7.4->spacy<3.8.0,>=3.7.0->pt-core-news-sm==3.7.0) (0.6.0)\n",
            "Requirement already satisfied: pydantic-core==2.16.3 in /usr/local/lib/python3.10/dist-packages (from pydantic!=1.8,!=1.8.1,<3.0.0,>=1.7.4->spacy<3.8.0,>=3.7.0->pt-core-news-sm==3.7.0) (2.16.3)\n",
            "Requirement already satisfied: typing-extensions>=4.6.1 in /usr/local/lib/python3.10/dist-packages (from pydantic!=1.8,!=1.8.1,<3.0.0,>=1.7.4->spacy<3.8.0,>=3.7.0->pt-core-news-sm==3.7.0) (4.10.0)\n",
            "Requirement already satisfied: charset-normalizer<4,>=2 in /usr/local/lib/python3.10/dist-packages (from requests<3.0.0,>=2.13.0->spacy<3.8.0,>=3.7.0->pt-core-news-sm==3.7.0) (3.3.2)\n",
            "Requirement already satisfied: idna<4,>=2.5 in /usr/local/lib/python3.10/dist-packages (from requests<3.0.0,>=2.13.0->spacy<3.8.0,>=3.7.0->pt-core-news-sm==3.7.0) (3.6)\n",
            "Requirement already satisfied: urllib3<3,>=1.21.1 in /usr/local/lib/python3.10/dist-packages (from requests<3.0.0,>=2.13.0->spacy<3.8.0,>=3.7.0->pt-core-news-sm==3.7.0) (2.0.7)\n",
            "Requirement already satisfied: certifi>=2017.4.17 in /usr/local/lib/python3.10/dist-packages (from requests<3.0.0,>=2.13.0->spacy<3.8.0,>=3.7.0->pt-core-news-sm==3.7.0) (2024.2.2)\n",
            "Requirement already satisfied: blis<0.8.0,>=0.7.8 in /usr/local/lib/python3.10/dist-packages (from thinc<8.3.0,>=8.2.2->spacy<3.8.0,>=3.7.0->pt-core-news-sm==3.7.0) (0.7.11)\n",
            "Requirement already satisfied: confection<1.0.0,>=0.0.1 in /usr/local/lib/python3.10/dist-packages (from thinc<8.3.0,>=8.2.2->spacy<3.8.0,>=3.7.0->pt-core-news-sm==3.7.0) (0.1.4)\n",
            "Requirement already satisfied: click<9.0.0,>=7.1.1 in /usr/local/lib/python3.10/dist-packages (from typer<0.10.0,>=0.3.0->spacy<3.8.0,>=3.7.0->pt-core-news-sm==3.7.0) (8.1.7)\n",
            "Requirement already satisfied: cloudpathlib<0.17.0,>=0.7.0 in /usr/local/lib/python3.10/dist-packages (from weasel<0.4.0,>=0.1.0->spacy<3.8.0,>=3.7.0->pt-core-news-sm==3.7.0) (0.16.0)\n",
            "Requirement already satisfied: MarkupSafe>=2.0 in /usr/local/lib/python3.10/dist-packages (from jinja2->spacy<3.8.0,>=3.7.0->pt-core-news-sm==3.7.0) (2.1.5)\n",
            "\u001b[38;5;2m✔ Download and installation successful\u001b[0m\n",
            "You can now load the package via spacy.load('pt_core_news_sm')\n",
            "\u001b[38;5;3m⚠ Restart to reload dependencies\u001b[0m\n",
            "If you are in a Jupyter or Colab notebook, you may need to restart Python in\n",
            "order to load all the package's dependencies. You can do this by selecting the\n",
            "'Restart kernel' or 'Restart runtime' option.\n"
          ]
        }
      ]
    },
    {
      "cell_type": "code",
      "source": [
        "sp = spacy.load(\"pt_core_news_sm\")"
      ],
      "metadata": {
        "id": "qahdjexEIs18"
      },
      "execution_count": null,
      "outputs": []
    },
    {
      "cell_type": "code",
      "source": [
        "doc = sp(corpus[0])\n",
        "' '.join([token.lemma_ for token in doc])"
      ],
      "metadata": {
        "colab": {
          "base_uri": "https://localhost:8080/",
          "height": 122
        },
        "id": "x4xT1_moJVFN",
        "outputId": "b1955a86-ffd0-46e9-8f4f-81c40352b17f"
      },
      "execution_count": null,
      "outputs": [
        {
          "output_type": "execute_result",
          "data": {
            "text/plain": [
              "'Naruto ( ナルト ? ) ser um série de mangá escrever e ilustrar por Masashi Kishimoto , \\n que contar o história de Naruto Uzumaki , um jovem ninja que constantemente procurar por \\n reconhecimento e sonhar em se tornar Hokage , o ninja líder de seu vila . \\n o história ser divider em dois parte , o primeiro parte se passar em o ano de o pré-adolescência de Naruto , \\n e o segundo parte se passar em seu adolescência . o série ser basear em dois mangás one-shots de Kishimoto : \\n Karakuri ( 1995 ) , e que por causa de ele Kishimoto ganhar um menção honroso em o prêmio Hop Step de o Shueisha \\n em o ano seguinte , e Naruto ( 1997 ) . o editora Panini Comics licenciar e publicar o mangá em \\n três versão em o Brasil , e em Portugal ser o editora Devir Manga quem licencia e publicar o mangá . \\n o história de Naruto continuar com o seu filho , Boruto Uzumaki em Boruto : Naruto Next Generations .'"
            ],
            "application/vnd.google.colaboratory.intrinsic+json": {
              "type": "string"
            }
          },
          "metadata": {},
          "execution_count": 39
        }
      ]
    },
    {
      "cell_type": "code",
      "source": [
        "# Criando Matrizes"
      ],
      "metadata": {
        "id": "5pjp4trsJXw9"
      },
      "execution_count": null,
      "outputs": []
    },
    {
      "cell_type": "code",
      "source": [
        "from scipy.sparse import csr_matrix\n",
        "import numpy as np\n",
        "\n",
        "indptr = np.array([0,2,3,6])\n",
        "indices = np.array([0,2,2,0,1,2])\n",
        "data = np.array([1,2,3,4,5,6])\n",
        "S = csr_matrix( (data,indices,indptr))\n",
        "print(S)"
      ],
      "metadata": {
        "colab": {
          "base_uri": "https://localhost:8080/"
        },
        "id": "LyPw1cjSYAZI",
        "outputId": "32a845f8-3db2-43f7-ca88-b2e0aa9d6d76"
      },
      "execution_count": null,
      "outputs": [
        {
          "output_type": "stream",
          "name": "stdout",
          "text": [
            "  (0, 0)\t1\n",
            "  (0, 2)\t2\n",
            "  (1, 2)\t3\n",
            "  (2, 0)\t4\n",
            "  (2, 1)\t5\n",
            "  (2, 2)\t6\n"
          ]
        }
      ]
    },
    {
      "cell_type": "code",
      "source": [
        "S.todense()"
      ],
      "metadata": {
        "colab": {
          "base_uri": "https://localhost:8080/"
        },
        "id": "oUEtO8A5YJdg",
        "outputId": "cb80e598-fd4b-48ad-bf33-f0bef2ae03db"
      },
      "execution_count": null,
      "outputs": [
        {
          "output_type": "execute_result",
          "data": {
            "text/plain": [
              "matrix([[1, 0, 2],\n",
              "        [0, 0, 3],\n",
              "        [4, 5, 6]])"
            ]
          },
          "metadata": {},
          "execution_count": 43
        }
      ]
    },
    {
      "cell_type": "code",
      "source": [
        "from sklearn.feature_extraction.text import CountVectorizer, TfidfVectorizer, HashingVectorizer\n",
        "\n",
        "count_vect = CountVectorizer()\n",
        "count_vect.fit(corpus)\n",
        "X = count_vect.transform(corpus)\n",
        "X.shape"
      ],
      "metadata": {
        "colab": {
          "base_uri": "https://localhost:8080/"
        },
        "id": "cm6Ps3PBaDhX",
        "outputId": "a268437d-3169-4194-fec1-844e37fb4763"
      },
      "execution_count": null,
      "outputs": [
        {
          "output_type": "execute_result",
          "data": {
            "text/plain": [
              "(3, 194)"
            ]
          },
          "metadata": {},
          "execution_count": 45
        }
      ]
    },
    {
      "cell_type": "code",
      "source": [
        "names = count_vect.get_feature_names_out()"
      ],
      "metadata": {
        "id": "mKHuZ1MHaD-u"
      },
      "execution_count": null,
      "outputs": []
    },
    {
      "cell_type": "code",
      "source": [
        "print( [ (names[w],w) for w in X.getrow(0).nonzero()[1]] )"
      ],
      "metadata": {
        "colab": {
          "base_uri": "https://localhost:8080/"
        },
        "id": "z-SXjWsjaKom",
        "outputId": "237968d1-8bd3-400f-ef04-afa9d7159444"
      },
      "execution_count": null,
      "outputs": [
        {
          "output_type": "stream",
          "name": "stdout",
          "text": [
            "[('1995', 1), ('1997', 2), ('adolescência', 8), ('ano', 15), ('anos', 16), ('baseada', 22), ('boruto', 24), ('brasil', 25), ('causa', 27), ('com', 32), ('comics', 33), ('constantemente', 36), ('conta', 37), ('continua', 38), ('da', 41), ('de', 43), ('dele', 44), ('devir', 47), ('dividida', 49), ('dois', 50), ('duas', 51), ('editora', 52), ('em', 56), ('escrita', 59), ('filho', 67), ('ganhou', 73), ('generations', 74), ('história', 77), ('hokage', 78), ('honrosa', 80), ('hop', 81), ('ilustrada', 82), ('jovem', 89), ('karakuri', 92), ('kishimoto', 93), ('licencia', 98), ('licenciou', 99), ('líder', 101), ('manga', 103), ('mangá', 104), ('mangás', 105), ('masashi', 106), ('menção', 108), ('naruto', 115), ('next', 116), ('ninja', 117), ('no', 118), ('nos', 119), ('one', 120), ('panini', 122), ('parte', 124), ('partes', 125), ('passa', 126), ('por', 132), ('portugal', 133), ('primeira', 134), ('procura', 135), ('pré', 137), ('prêmio', 138), ('publica', 139), ('publicou', 141), ('que', 142), ('quem', 143), ('reconhecimento', 144), ('se', 151), ('seguinte', 152), ('segunda', 153), ('seu', 157), ('shots', 160), ('shueisha', 161), ('sonha', 164), ('step', 167), ('sua', 168), ('série', 169), ('tornar', 174), ('três', 178), ('um', 181), ('uma', 182), ('uzumaki', 184), ('versões', 185), ('vila', 187), ('ナルト', 192)]\n"
          ]
        }
      ]
    },
    {
      "cell_type": "code",
      "source": [
        "hash_vect = HashingVectorizer(n_features=10000)\n",
        "X3 = hash_vect.fit_transform(corpus)\n",
        "X3.shape"
      ],
      "metadata": {
        "id": "BhT_ht5Dacx_",
        "outputId": "0468e86e-7300-4683-b557-82e5b8c4b8a6",
        "colab": {
          "base_uri": "https://localhost:8080/"
        }
      },
      "execution_count": null,
      "outputs": [
        {
          "output_type": "execute_result",
          "data": {
            "text/plain": [
              "(3, 10000)"
            ]
          },
          "metadata": {},
          "execution_count": 50
        }
      ]
    },
    {
      "cell_type": "code",
      "source": [],
      "metadata": {
        "id": "Px4ajmI7ah1G"
      },
      "execution_count": null,
      "outputs": []
    }
  ]
}