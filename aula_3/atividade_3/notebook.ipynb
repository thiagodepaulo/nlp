{
 "cells": [
  {
   "cell_type": "code",
   "execution_count": 1,
   "metadata": {},
   "outputs": [
    {
     "name": "stdout",
     "output_type": "stream",
     "text": [
      "Classe iniciada com semente 21!\n"
     ]
    }
   ],
   "source": [
    "# Importa find_best_hyperparameter\n",
    "\n",
    "from find_best_hyperparameters import AtividadeTres\n",
    "a3 = AtividadeTres(random_state=21)"
   ]
  },
  {
   "cell_type": "code",
   "execution_count": 5,
   "metadata": {},
   "outputs": [
    {
     "name": "stdout",
     "output_type": "stream",
     "text": [
      "  file_name                                               text  \\\n",
      "0   126.txt  Rhetorical (Rhet) is a programming / knowledge...   \n",
      "1     5.txt  Reduction is the operation of transforming a p...   \n",
      "2    48.txt  For years, researchers have used knowledge-int...   \n",
      "3    81.txt  Proceedings of a workshop held in conjunction ...   \n",
      "4    25.txt  The Medication Advisor is the latest project o...   \n",
      "\n",
      "                     class  \n",
      "0  ArtificiallIntelligence  \n",
      "1  ArtificiallIntelligence  \n",
      "2  ArtificiallIntelligence  \n",
      "3  ArtificiallIntelligence  \n",
      "4  ArtificiallIntelligence                     file_name  \\\n",
      "0  Intelligence_1434272.txt   \n",
      "1  Intelligence_1433615.txt   \n",
      "2  Intelligence_1434400.txt   \n",
      "3  Intelligence_1434281.txt   \n",
      "4  Intelligence_1434141.txt   \n",
      "\n",
      "                                                text       class  \n",
      "0  Principal Curves Page Introduction to principa...  Artificial  \n",
      "1  Iowa State University - Artificial Intelligenc...  Artificial  \n",
      "2  Paccanaro, Alberto Learning distributed repres...  Artificial  \n",
      "3  Attrasoft Provider of a number of neural netwo...  Artificial  \n",
      "4  LibML A machine learning library. New implemen...  Artificial  \n"
     ]
    }
   ],
   "source": [
    "# Leitura das bases CSTR.csv e Dmoz-Computers.csv\n",
    "cstr = a3.load_data('CSTR.csv')\n",
    "dmoz = a3.load_data('Dmoz-Computers.csv')\n",
    "print(cstr.head(), dmoz.head())"
   ]
  }
 ],
 "metadata": {
  "kernelspec": {
   "display_name": "venv",
   "language": "python",
   "name": "python3"
  },
  "language_info": {
   "codemirror_mode": {
    "name": "ipython",
    "version": 3
   },
   "file_extension": ".py",
   "mimetype": "text/x-python",
   "name": "python",
   "nbconvert_exporter": "python",
   "pygments_lexer": "ipython3",
   "version": "3.13.0"
  }
 },
 "nbformat": 4,
 "nbformat_minor": 2
}
