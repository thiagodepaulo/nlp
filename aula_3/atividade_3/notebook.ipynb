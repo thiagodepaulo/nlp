{
 "cells": [
  {
   "cell_type": "markdown",
   "metadata": {},
   "source": [
    "# Greedy Search"
   ]
  },
  {
   "cell_type": "markdown",
   "metadata": {},
   "source": [
    "## Definição dos hiper parâmetros"
   ]
  },
  {
   "cell_type": "code",
   "execution_count": null,
   "metadata": {},
   "outputs": [],
   "source": [
    "# Importa Pandas e find_best_hyperparameter\n",
    "import pandas as pd\n",
    "from find_best_hyperparameters import AtividadeTres\n",
    "\n",
    "# Carrega Atividade 3\n",
    "a3 = AtividadeTres(26)\n",
    "\n",
    "# Define hiper parâmetros para Greedy Search\n",
    "hyper_params = {}\n",
    "\n",
    "hyper_params['nb'] = {\n",
    "    'model_name': 'MultinomialNB',\n",
    "    'params': a3.create_param_grid({   \n",
    "        # Explicar alpha\n",
    "        'alpha': [0.1, 0.25, 0.5, 0.75, 1.0, 2.0, 5.0],\n",
    "        # Aprender probabilidades anteriores de classe\n",
    "        'fit_prior': [True, False]\n",
    "    })\n",
    "}\n",
    "\n",
    "hyper_params['lr'] = {\n",
    "    'model_name': 'LogisticRegression',\n",
    "    'params': a3.create_param_grid({\n",
    "        # Força da regularização\n",
    "        'C': [0.1, 0.25, 1.0, 5.0, 10.0, 20.0],\n",
    "        # Algoritmos de otimização\n",
    "        'solver': ['lbfgs', 'liblinear', 'sag'],\n",
    "        # Tipos de regularização\n",
    "        'penalty': ['l1', 'l2', 'elasticnet', None],\n",
    "        # Iterações máximas\n",
    "        'max_iter': [100, 200, 500, 1000]\n",
    "    })\n",
    "}\n",
    "\n",
    "hyper_params['svm'] = {\n",
    "    'model_name': 'LinearSVC',\n",
    "    'params': a3.create_param_grid({\n",
    "        # Força da regularização\n",
    "        'C': [0.01, 0.1, 1, 5, 10, 50, 100],\n",
    "        # Função de perda\n",
    "        'loss': ['hinge', 'squared_hinge'],\n",
    "        # Iterações máximas\n",
    "        'max_iter': [100, 250, 500, 1000, 5000],\n",
    "        # Critério de tolerância para parar\n",
    "        'tol': [1e-3, 1e-4, 1e-5]\n",
    "    })\n",
    "}"
   ]
  },
  {
   "cell_type": "markdown",
   "metadata": {},
   "source": [
    "## Base Classic4.csv"
   ]
  },
  {
   "cell_type": "code",
   "execution_count": null,
   "metadata": {},
   "outputs": [],
   "source": [
    "# Leitura da base Classic4.csv\n",
    "BASE='classic4'\n",
    "FILENAME='classic4.csv'\n",
    "cstr = a3.load_data(FILENAME)\n",
    "cstr.head()"
   ]
  },
  {
   "cell_type": "code",
   "execution_count": null,
   "metadata": {},
   "outputs": [],
   "source": [
    "# Separação dos dados de treino e teste\n",
    "train, test, series = a3.split_data(data=cstr, text_col='text', class_col='class', test_size=0.2)\n",
    "\n",
    "# Salva resultados\n",
    "a3.save_data_frame(train, BASE + '_train.csv')\n",
    "a3.save_data_frame(test, BASE + '_test.csv')\n",
    "\n",
    "# Mostra primeiras linhas do teste\n",
    "test.head()"
   ]
  },
  {
   "cell_type": "code",
   "execution_count": null,
   "metadata": {},
   "outputs": [],
   "source": [
    "# Greedy Search para NB, LR and SVM\n",
    "best_greedy = {}\n",
    "greedy = None\n",
    "\n",
    "for item in hyper_params:\n",
    "    # Testa parâmetros com Greedy Search\n",
    "    greedy = pd.DataFrame(a3.greedy_search(\n",
    "        model_name=hyper_params[item]['model_name'],\n",
    "        param_grid=hyper_params[item]['params'],\n",
    "        series=series\n",
    "    ))\n",
    "    # Salva resultados em arquivo\n",
    "    a3.save_data_frame(greedy, BASE + '_greedy_' + item + '.csv')\n",
    "    # Resgata melhor resultado para treinamento\n",
    "    max_score = greedy['score'].max()\n",
    "    max_rows = greedy[greedy['score'] == max_score]\n",
    "    best_greedy[item] = max_rows.sample(1).reset_index(drop=True).iloc[0].to_dict()\n",
    "    \n",
    "# Exibe valores no notebook\n",
    "pd.DataFrame(best_greedy)"
   ]
  },
  {
   "cell_type": "code",
   "execution_count": null,
   "metadata": {},
   "outputs": [],
   "source": [
    "# Treina modelo com melhores parâmetros\n",
    "metrics = {}\n",
    "\n",
    "for item in best_greedy:\n",
    "    # Remove key score\n",
    "    try:\n",
    "        best_greedy[item].pop('score')\n",
    "    except:\n",
    "        pass\n",
    "    metrics[item] = a3.train(model_name=item, params=best_greedy[item], series=series, base=BASE)\n",
    "\n",
    "a3.save_data_frame(pd.DataFrame(metrics), BASE + '_metrics.csv')\n",
    "\n",
    "# Exibe valores no notebook\n",
    "pd.DataFrame(metrics)"
   ]
  },
  {
   "cell_type": "markdown",
   "metadata": {},
   "source": [
    "## Base Dmoz-Sports.csv"
   ]
  },
  {
   "cell_type": "code",
   "execution_count": null,
   "metadata": {},
   "outputs": [],
   "source": [
    "# Leitura da base Dmoz-Sports.csv\n",
    "BASE='Dmoz-Sports'\n",
    "FILENAME='Dmoz-Sports.csv'\n",
    "cstr = a3.load_data(FILENAME)\n",
    "cstr.head()"
   ]
  },
  {
   "cell_type": "code",
   "execution_count": null,
   "metadata": {},
   "outputs": [],
   "source": [
    "# Separação dos dados de treino e teste\n",
    "train, test, series = a3.split_data(data=cstr, text_col='text', class_col='class', test_size=0.2)\n",
    "\n",
    "# Salva resultados\n",
    "a3.save_data_frame(train, BASE + '_train.csv')\n",
    "a3.save_data_frame(test, BASE + '_test.csv')\n",
    "\n",
    "# Mostra primeiras linhas do teste\n",
    "test.head()"
   ]
  },
  {
   "cell_type": "code",
   "execution_count": null,
   "metadata": {},
   "outputs": [],
   "source": [
    "# Greedy Search para NB, LR and SVM\n",
    "best_greedy = {}\n",
    "greedy = None\n",
    "\n",
    "for item in hyper_params:\n",
    "    # Testa parâmetros com Greedy Search\n",
    "    greedy = pd.DataFrame(a3.greedy_search(\n",
    "        model_name=hyper_params[item]['model_name'],\n",
    "        param_grid=hyper_params[item]['params'],\n",
    "        series=series\n",
    "    ))\n",
    "    # Salva resultados em arquivo\n",
    "    a3.save_data_frame(greedy, BASE + '_greedy_' + item + '.csv')\n",
    "    # Resgata melhor resultado para treinamento\n",
    "    max_score = greedy['score'].max()\n",
    "    max_rows = greedy[greedy['score'] == max_score]\n",
    "    best_greedy[item] = max_rows.sample(1).reset_index(drop=True).iloc[0].to_dict()\n",
    "    \n",
    "# Exibe valores no notebook\n",
    "pd.DataFrame(best_greedy)"
   ]
  },
  {
   "cell_type": "code",
   "execution_count": null,
   "metadata": {},
   "outputs": [],
   "source": [
    "# Treina modelo com melhores parâmetros\n",
    "metrics = {}\n",
    "\n",
    "for item in best_greedy:\n",
    "    # Remove key score\n",
    "    try:\n",
    "        best_greedy[item].pop('score')\n",
    "    except:\n",
    "        pass\n",
    "    metrics[item] = a3.train(model_name=item, params=best_greedy[item], series=series, base=BASE)\n",
    "\n",
    "a3.save_data_frame(pd.DataFrame(metrics), BASE + '_metrics.csv')\n",
    "\n",
    "# Exibe valores no notebook\n",
    "pd.DataFrame(metrics)"
   ]
  }
 ],
 "metadata": {
  "kernelspec": {
   "display_name": "venv",
   "language": "python",
   "name": "python3"
  },
  "language_info": {
   "codemirror_mode": {
    "name": "ipython",
    "version": 3
   },
   "file_extension": ".py",
   "mimetype": "text/x-python",
   "name": "python",
   "nbconvert_exporter": "python",
   "pygments_lexer": "ipython3",
   "version": "3.13.0"
  }
 },
 "nbformat": 4,
 "nbformat_minor": 2
}
