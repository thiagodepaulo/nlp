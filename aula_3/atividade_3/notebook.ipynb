{
 "cells": [
  {
   "cell_type": "code",
   "execution_count": 6,
   "metadata": {},
   "outputs": [
    {
     "name": "stdout",
     "output_type": "stream",
     "text": [
      "Classe iniciada com semente 21!\n"
     ]
    }
   ],
   "source": [
    "# Importa find_best_hyperparameter e pandas\n",
    "from find_best_hyperparameters import AtividadeTres\n",
    "import pandas as pd\n",
    "\n",
    "# Carrega Atividade 3\n",
    "a3 = AtividadeTres(random_state=21)"
   ]
  },
  {
   "cell_type": "code",
   "execution_count": 7,
   "metadata": {},
   "outputs": [
    {
     "data": {
      "text/html": [
       "<div>\n",
       "<style scoped>\n",
       "    .dataframe tbody tr th:only-of-type {\n",
       "        vertical-align: middle;\n",
       "    }\n",
       "\n",
       "    .dataframe tbody tr th {\n",
       "        vertical-align: top;\n",
       "    }\n",
       "\n",
       "    .dataframe thead th {\n",
       "        text-align: right;\n",
       "    }\n",
       "</style>\n",
       "<table border=\"1\" class=\"dataframe\">\n",
       "  <thead>\n",
       "    <tr style=\"text-align: right;\">\n",
       "      <th></th>\n",
       "      <th>file_name</th>\n",
       "      <th>text</th>\n",
       "      <th>class</th>\n",
       "    </tr>\n",
       "  </thead>\n",
       "  <tbody>\n",
       "    <tr>\n",
       "      <th>0</th>\n",
       "      <td>126.txt</td>\n",
       "      <td>Rhetorical (Rhet) is a programming / knowledge...</td>\n",
       "      <td>ArtificiallIntelligence</td>\n",
       "    </tr>\n",
       "    <tr>\n",
       "      <th>1</th>\n",
       "      <td>5.txt</td>\n",
       "      <td>Reduction is the operation of transforming a p...</td>\n",
       "      <td>ArtificiallIntelligence</td>\n",
       "    </tr>\n",
       "    <tr>\n",
       "      <th>2</th>\n",
       "      <td>48.txt</td>\n",
       "      <td>For years, researchers have used knowledge-int...</td>\n",
       "      <td>ArtificiallIntelligence</td>\n",
       "    </tr>\n",
       "    <tr>\n",
       "      <th>3</th>\n",
       "      <td>81.txt</td>\n",
       "      <td>Proceedings of a workshop held in conjunction ...</td>\n",
       "      <td>ArtificiallIntelligence</td>\n",
       "    </tr>\n",
       "    <tr>\n",
       "      <th>4</th>\n",
       "      <td>25.txt</td>\n",
       "      <td>The Medication Advisor is the latest project o...</td>\n",
       "      <td>ArtificiallIntelligence</td>\n",
       "    </tr>\n",
       "  </tbody>\n",
       "</table>\n",
       "</div>"
      ],
      "text/plain": [
       "  file_name                                               text  \\\n",
       "0   126.txt  Rhetorical (Rhet) is a programming / knowledge...   \n",
       "1     5.txt  Reduction is the operation of transforming a p...   \n",
       "2    48.txt  For years, researchers have used knowledge-int...   \n",
       "3    81.txt  Proceedings of a workshop held in conjunction ...   \n",
       "4    25.txt  The Medication Advisor is the latest project o...   \n",
       "\n",
       "                     class  \n",
       "0  ArtificiallIntelligence  \n",
       "1  ArtificiallIntelligence  \n",
       "2  ArtificiallIntelligence  \n",
       "3  ArtificiallIntelligence  \n",
       "4  ArtificiallIntelligence  "
      ]
     },
     "execution_count": 7,
     "metadata": {},
     "output_type": "execute_result"
    }
   ],
   "source": [
    "# Leitura da base CSTR\n",
    "BASE='CSTR'\n",
    "cstr = a3.load_data(BASE + '.csv')\n",
    "cstr.head()"
   ]
  },
  {
   "cell_type": "code",
   "execution_count": 8,
   "metadata": {},
   "outputs": [
    {
     "name": "stdout",
     "output_type": "stream",
     "text": [
      "Dados divididos com tamanho do teste 0.20 e semente 21!\n",
      "Chaves do dicionário: dict_keys(['X_train', 'X_test', 'y_train', 'y_test'])\n",
      "Arquivo out/CSTR_train.csv salvo com sucesso!\n",
      "Arquivo out/CSTR_test.csv salvo com sucesso!\n"
     ]
    },
    {
     "data": {
      "text/html": [
       "<div>\n",
       "<style scoped>\n",
       "    .dataframe tbody tr th:only-of-type {\n",
       "        vertical-align: middle;\n",
       "    }\n",
       "\n",
       "    .dataframe tbody tr th {\n",
       "        vertical-align: top;\n",
       "    }\n",
       "\n",
       "    .dataframe thead th {\n",
       "        text-align: right;\n",
       "    }\n",
       "</style>\n",
       "<table border=\"1\" class=\"dataframe\">\n",
       "  <thead>\n",
       "    <tr style=\"text-align: right;\">\n",
       "      <th></th>\n",
       "      <th>text</th>\n",
       "      <th>class</th>\n",
       "    </tr>\n",
       "  </thead>\n",
       "  <tbody>\n",
       "    <tr>\n",
       "      <th>61</th>\n",
       "      <td>This study of the Fall 2002 Computer Programmi...</td>\n",
       "      <td>ArtificiallIntelligence</td>\n",
       "    </tr>\n",
       "    <tr>\n",
       "      <th>297</th>\n",
       "      <td>We study the complexity of influencing electio...</td>\n",
       "      <td>Theory</td>\n",
       "    </tr>\n",
       "    <tr>\n",
       "      <th>55</th>\n",
       "      <td>We describe two domain-independent temporal re...</td>\n",
       "      <td>ArtificiallIntelligence</td>\n",
       "    </tr>\n",
       "    <tr>\n",
       "      <th>243</th>\n",
       "      <td>We argue for transactions as the synchronizati...</td>\n",
       "      <td>Systems</td>\n",
       "    </tr>\n",
       "    <tr>\n",
       "      <th>95</th>\n",
       "      <td>In this paper, we present the results for sema...</td>\n",
       "      <td>ArtificiallIntelligence</td>\n",
       "    </tr>\n",
       "  </tbody>\n",
       "</table>\n",
       "</div>"
      ],
      "text/plain": [
       "                                                  text  \\\n",
       "61   This study of the Fall 2002 Computer Programmi...   \n",
       "297  We study the complexity of influencing electio...   \n",
       "55   We describe two domain-independent temporal re...   \n",
       "243  We argue for transactions as the synchronizati...   \n",
       "95   In this paper, we present the results for sema...   \n",
       "\n",
       "                       class  \n",
       "61   ArtificiallIntelligence  \n",
       "297                   Theory  \n",
       "55   ArtificiallIntelligence  \n",
       "243                  Systems  \n",
       "95   ArtificiallIntelligence  "
      ]
     },
     "execution_count": 8,
     "metadata": {},
     "output_type": "execute_result"
    }
   ],
   "source": [
    "# Separação dos dados de treino e teste\n",
    "train, test, series = a3.split_data(data=cstr, text_col='text', class_col='class', test_size=0.2)\n",
    "\n",
    "# Salva resultados\n",
    "a3.save_data_frame(train, BASE + '_train.csv')\n",
    "a3.save_data_frame(test, BASE + '_test.csv')\n",
    "\n",
    "# Mostra primeiras linhas do teste\n",
    "test.head()"
   ]
  },
  {
   "cell_type": "code",
   "execution_count": 4,
   "metadata": {},
   "outputs": [
    {
     "data": {
      "text/plain": [
       "dict_keys(['X_train', 'X_test', 'y_train', 'y_test'])"
      ]
     },
     "execution_count": 4,
     "metadata": {},
     "output_type": "execute_result"
    }
   ],
   "source": [
    "serie.keys()"
   ]
  }
 ],
 "metadata": {
  "kernelspec": {
   "display_name": "venv",
   "language": "python",
   "name": "python3"
  },
  "language_info": {
   "codemirror_mode": {
    "name": "ipython",
    "version": 3
   },
   "file_extension": ".py",
   "mimetype": "text/x-python",
   "name": "python",
   "nbconvert_exporter": "python",
   "pygments_lexer": "ipython3",
   "version": "3.13.0"
  }
 },
 "nbformat": 4,
 "nbformat_minor": 2
}
