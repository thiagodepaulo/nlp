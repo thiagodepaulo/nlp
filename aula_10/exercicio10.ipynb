{
 "cells": [
  {
   "cell_type": "markdown",
   "metadata": {},
   "source": [
    "### Instalação de pacotes"
   ]
  },
  {
   "cell_type": "code",
   "execution_count": 1,
   "metadata": {},
   "outputs": [
    {
     "name": "stdout",
     "output_type": "stream",
     "text": [
      "Note: you may need to restart the kernel to use updated packages.\n"
     ]
    }
   ],
   "source": [
    "# Instala bibliotecas necessárias\n",
    "%pip install -qr requirements.txt"
   ]
  },
  {
   "cell_type": "markdown",
   "metadata": {},
   "source": [
    "### Instanciação do modelo"
   ]
  },
  {
   "cell_type": "code",
   "execution_count": 2,
   "metadata": {},
   "outputs": [],
   "source": [
    "# Importa biblioteca para treino do Dmoz-Sports e classic4\n",
    "from exercicio10 import MyBert"
   ]
  },
  {
   "cell_type": "markdown",
   "metadata": {},
   "source": [
    "### Treinamento da base Dmoz-Sports"
   ]
  },
  {
   "cell_type": "code",
   "execution_count": 3,
   "metadata": {},
   "outputs": [],
   "source": [
    "# Dmoz-Sports\n",
    "base_dados = 'Dmoz-Sports'\n",
    "arquivo_csv = f'../aula_3/atividade_3/in/{base_dados}.csv'\n",
    "modelo = 'bert-base-uncased'\n",
    "\n",
    "# Cria instância do modelo\n",
    "dmoz_sports = MyBert(modelo)"
   ]
  },
  {
   "cell_type": "code",
   "execution_count": 4,
   "metadata": {},
   "outputs": [],
   "source": [
    "# Carrega dados (treino, validação e teste)\n",
    "dmoz_sports.carregar_csv(arquivo_csv)"
   ]
  },
  {
   "cell_type": "code",
   "execution_count": 5,
   "metadata": {},
   "outputs": [
    {
     "name": "stdout",
     "output_type": "stream",
     "text": [
      "\n",
      "Texto de amostra  : Seattle Pacific University - Men's Track and Field Falcon men's official site. Coaching staff, schedule, roster, news, and history. \n",
      "Amostra em tokens: ['seattle', 'pacific', 'university', '-', 'men', \"'\", 's', 'track', 'and', 'field', 'falcon', 'men', \"'\", 's', 'official', 'site', '.', 'coaching', 'staff', ',', 'schedule', ',', 'roster', ',', 'news', ',', 'and', 'history', '.']\n",
      "Tokens IDs       : [101, 5862, 3534, 2118, 1011, 2273, 1005, 1055, 2650, 1998, 2492, 11684, 2273, 1005, 1055, 2880, 2609, 1012, 7748, 3095, 1010, 6134, 1010, 9238, 1010, 2739, 1010, 1998, 2381, 1012, 102]\n"
     ]
    }
   ],
   "source": [
    "# Exibe tokenização\n",
    "dmoz_sports.imprimir_amostra()"
   ]
  },
  {
   "cell_type": "code",
   "execution_count": null,
   "metadata": {},
   "outputs": [
    {
     "name": "stderr",
     "output_type": "stream",
     "text": [
      "/Users/thyarles/SPAI/unb-fmc-nlp/venv/lib/python3.13/site-packages/transformers/training_args.py:1575: FutureWarning: `evaluation_strategy` is deprecated and will be removed in version 4.46 of 🤗 Transformers. Use `eval_strategy` instead\n",
      "  warnings.warn(\n",
      "Some weights of BertForSequenceClassification were not initialized from the model checkpoint at bert-base-uncased and are newly initialized: ['classifier.bias', 'classifier.weight']\n",
      "You should probably TRAIN this model on a down-stream task to be able to use it for predictions and inference.\n"
     ]
    },
    {
     "data": {
      "text/html": [
       "\n",
       "    <div>\n",
       "      \n",
       "      <progress value='387' max='3546' style='width:300px; height:20px; vertical-align: middle;'></progress>\n",
       "      [ 387/3546 01:22 < 11:18, 4.66 it/s, Epoch 0.33/3]\n",
       "    </div>\n",
       "    <table border=\"1\" class=\"dataframe\">\n",
       "  <thead>\n",
       " <tr style=\"text-align: left;\">\n",
       "      <th>Epoch</th>\n",
       "      <th>Training Loss</th>\n",
       "      <th>Validation Loss</th>\n",
       "    </tr>\n",
       "  </thead>\n",
       "  <tbody>\n",
       "  </tbody>\n",
       "</table><p>"
      ],
      "text/plain": [
       "<IPython.core.display.HTML object>"
      ]
     },
     "metadata": {},
     "output_type": "display_data"
    }
   ],
   "source": [
    "# Treina modelo\n",
    "from transformers import TrainingArguments\n",
    "\n",
    "dmoz_sports.treinar(TrainingArguments(\n",
    "    output_dir='./out',\n",
    "    num_train_epochs=3,\n",
    "    per_device_train_batch_size=8,\n",
    "    per_device_eval_batch_size=8,\n",
    "    evaluation_strategy='epoch',\n",
    "    logging_dir='./logs',\n",
    "    logging_steps=1,\n",
    "    save_strategy='epoch',\n",
    "    load_best_model_at_end=True,\n",
    "))"
   ]
  },
  {
   "cell_type": "code",
   "execution_count": null,
   "metadata": {},
   "outputs": [],
   "source": [
    "# Métricas no conjunto de teste\n",
    "resultado = dmoz_sports.modelo_treinado.predict(dmoz_sports.ds_teste)\n",
    "print(\"\\nResultados da avaliação do teste:\")\n",
    "print(f\"Acurácia: {resultado.metrics['test_accuracy']:.4f}\")\n",
    "print(f\"F1 Micro: {resultado.metrics['test_f1_micro']:.4f}\")\n",
    "print(f\"F1 Macro: {resultado.metrics['test_f1_macro']:.4f}\")"
   ]
  },
  {
   "cell_type": "code",
   "execution_count": null,
   "metadata": {},
   "outputs": [],
   "source": [
    "# Matriz de confusão\n",
    "dmoz_sports.matriz_confusao(resultado)"
   ]
  }
 ],
 "metadata": {
  "kernelspec": {
   "display_name": "venv",
   "language": "python",
   "name": "python3"
  },
  "language_info": {
   "codemirror_mode": {
    "name": "ipython",
    "version": 3
   },
   "file_extension": ".py",
   "mimetype": "text/x-python",
   "name": "python",
   "nbconvert_exporter": "python",
   "pygments_lexer": "ipython3",
   "version": "3.13.0"
  }
 },
 "nbformat": 4,
 "nbformat_minor": 2
}
