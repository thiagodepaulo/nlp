{
  "nbformat": 4,
  "nbformat_minor": 0,
  "metadata": {
    "colab": {
      "provenance": [],
      "include_colab_link": true
    },
    "kernelspec": {
      "name": "python3",
      "display_name": "Python 3"
    },
    "language_info": {
      "name": "python"
    }
  },
  "cells": [
    {
      "cell_type": "markdown",
      "metadata": {
        "id": "view-in-github",
        "colab_type": "text"
      },
      "source": [
        "<a href=\"https://colab.research.google.com/github/thyarles/unb-fmc-nlp/blob/main/aula_1/notes_lets_build_the_gpt_tokenizer.ipynb\" target=\"_parent\"><img src=\"https://colab.research.google.com/assets/colab-badge.svg\" alt=\"Open In Colab\"/></a>"
      ]
    },
    {
      "cell_type": "code",
      "execution_count": null,
      "metadata": {
        "id": "vfWzAv9xByu5"
      },
      "outputs": [],
      "source": []
    },
    {
      "cell_type": "markdown",
      "source": [
        "# Let's build the GPT Tokenizer\n",
        "Notes from the video https://www.youtube.com/watch?v=zduSFxRajkE."
      ],
      "metadata": {
        "id": "siTnhXnKCCGf"
      }
    },
    {
      "cell_type": "markdown",
      "source": [
        "* Most of the problem we see on the LLM are from Tokenizers (like do simple math wrong).\n",
        "* The unicode has three types, UTF-8, UTF-16, and UTF-32. The UTF-8 is the standard because it the only one that has variable length. For latin characters, the UTF-16 add zero word on every letter, and UTF-32 add two zero words.\n",
        "* We can't use the Unicode to tokenizer because it has a huge code space (about 150 thousand).  "
      ],
      "metadata": {
        "id": "PA5OEDpzKKzK"
      }
    },
    {
      "cell_type": "code",
      "source": [
        "# To check the UTF-8 value\n",
        "[ord(x) for x in \"Charles.\"]"
      ],
      "metadata": {
        "colab": {
          "base_uri": "https://localhost:8080/"
        },
        "id": "U8bAFEWtDG4V",
        "outputId": "5ec31f5f-5a95-43cb-ecb0-331e22b81d05"
      },
      "execution_count": null,
      "outputs": [
        {
          "output_type": "execute_result",
          "data": {
            "text/plain": [
              "[67, 104, 97, 114, 108, 101, 115, 46]"
            ]
          },
          "metadata": {},
          "execution_count": 1
        }
      ]
    },
    {
      "cell_type": "code",
      "source": [
        "# To check the UTFs 8, 16 and 32.\n",
        "print(\"%s\\n%s\\n%s\" %\n",
        "(\n",
        "  list(\"Charles.\".encode(\"utf-8\")),\n",
        "  list(\"Charles.\".encode(\"utf-16\")),\n",
        "  list(\"Charles.\".encode(\"utf-32\")))\n",
        ")"
      ],
      "metadata": {
        "colab": {
          "base_uri": "https://localhost:8080/"
        },
        "id": "4--l6YylDdGy",
        "outputId": "250d158c-91bf-4386-f5c1-92c539b77960"
      },
      "execution_count": null,
      "outputs": [
        {
          "output_type": "stream",
          "name": "stdout",
          "text": [
            "[67, 104, 97, 114, 108, 101, 115, 46]\n",
            "[255, 254, 67, 0, 104, 0, 97, 0, 114, 0, 108, 0, 101, 0, 115, 0, 46, 0]\n",
            "[255, 254, 0, 0, 67, 0, 0, 0, 104, 0, 0, 0, 97, 0, 0, 0, 114, 0, 0, 0, 108, 0, 0, 0, 101, 0, 0, 0, 115, 0, 0, 0, 46, 0, 0, 0]\n"
          ]
        }
      ]
    },
    {
      "cell_type": "markdown",
      "source": [
        "# Byte pair encoding"
      ],
      "metadata": {
        "id": "3JlXUqeCJ_26"
      }
    },
    {
      "cell_type": "code",
      "source": [
        "# Example: aaabdaaabac (vocabulary size = eleven, four tokens)\n",
        "#          -> find the pair that occurs more frequently and replace it with a single token\n",
        "#          Z = aa, Y = ab, X = zy -> XdXac (vocabulary size = seven, five tokens)\n",
        "\n",
        "# Fancy chars consume more bytes, that's why the code points is less than tokens\n",
        "text = \"Հայերեն Shqip العربية Български Català 中文简体 Hrvatski Česky Dansk Nederlands English.\"\n",
        "tokens = text.encode(\"utf-8\")     # raw bytes\n",
        "tokens = list(map(int, tokens))   # integers\n",
        "print(\"The text has %d code points and %d tokens.\" % (len(text), len(tokens)))"
      ],
      "metadata": {
        "id": "42y0W-yxDvSO",
        "colab": {
          "base_uri": "https://localhost:8080/"
        },
        "outputId": "f4606532-884b-4b09-bbfe-e5b560591628"
      },
      "execution_count": 11,
      "outputs": [
        {
          "output_type": "stream",
          "name": "stdout",
          "text": [
            "The text has 84 code points and 117 tokens.\n"
          ]
        }
      ]
    },
    {
      "cell_type": "code",
      "source": [
        "# Let's find the most frequent value\n",
        "\n",
        "# Using the pythonic way\n",
        "def get_stats_pythonic(ids):\n",
        "  counts = {}\n",
        "  for pair in zip(ids, ids[1:]):\n",
        "    counts[pair] = counts.get(pair, 0) + 1\n",
        "  return counts\n",
        "\n",
        "# Using human way\n",
        "def get_stats_human(ids):\n",
        "    counts = {}\n",
        "    for i in range(len(ids) - 1):\n",
        "        pair = (ids[i], ids[i + 1])\n",
        "        if pair in counts:\n",
        "            counts[pair] += 1\n",
        "        else:\n",
        "            counts[pair] = 1\n",
        "    return counts\n",
        "\n",
        "stats = get_stats_pythonic(tokens)\n",
        "print(sorted(((v, k) for k,v in stats.items()), reverse=True))"
      ],
      "metadata": {
        "id": "NJE8nzsPJ68I",
        "outputId": "cbe35ba0-ee30-4eee-df98-f7d01dde2d7d",
        "colab": {
          "base_uri": "https://localhost:8080/"
        }
      },
      "execution_count": 14,
      "outputs": [
        {
          "output_type": "stream",
          "name": "stdout",
          "text": [
            "[(3, (115, 107)), (2, (213, 165)), (2, (128, 213)), (2, (97, 116)), (2, (97, 110)), (1, (231, 174)), (1, (230, 150)), (1, (228, 189)), (1, (228, 184)), (1, (217, 138)), (1, (217, 132)), (1, (216, 185)), (1, (216, 177)), (1, (216, 169)), (1, (216, 168)), (1, (216, 167)), (1, (214, 128)), (1, (213, 182)), (1, (213, 181)), (1, (213, 161)), (1, (213, 128)), (1, (209, 138)), (1, (209, 129)), (1, (209, 128)), (1, (208, 187)), (1, (208, 186)), (1, (208, 184)), (1, (208, 179)), (1, (208, 176)), (1, (208, 145)), (1, (196, 140)), (1, (195, 160)), (1, (189, 147)), (1, (187, 208)), (1, (186, 208)), (1, (185, 216)), (1, (184, 173)), (1, (184, 32)), (1, (182, 32)), (1, (181, 213)), (1, (179, 208)), (1, (177, 216)), (1, (176, 209)), (1, (174, 128)), (1, (173, 230)), (1, (169, 32)), (1, (168, 217)), (1, (167, 217)), (1, (165, 214)), (1, (165, 213)), (1, (161, 213)), (1, (160, 32)), (1, (150, 135)), (1, (147, 32)), (1, (145, 209)), (1, (140, 101)), (1, (138, 216)), (1, (138, 208)), (1, (135, 231)), (1, (132, 216)), (1, (129, 208)), (1, (128, 228)), (1, (128, 209)), (1, (121, 32)), (1, (118, 97)), (1, (116, 115)), (1, (116, 97)), (1, (115, 104)), (1, (115, 32)), (1, (114, 118)), (1, (114, 108)), (1, (113, 105)), (1, (112, 32)), (1, (110, 115)), (1, (110, 103)), (1, (110, 100)), (1, (108, 195)), (1, (108, 105)), (1, (108, 97)), (1, (107, 121)), (1, (107, 105)), (1, (107, 32)), (1, (105, 115)), (1, (105, 112)), (1, (105, 32)), (1, (104, 113)), (1, (104, 46)), (1, (103, 108)), (1, (101, 115)), (1, (101, 114)), (1, (101, 100)), (1, (100, 115)), (1, (100, 101)), (1, (97, 108)), (1, (83, 104)), (1, (78, 101)), (1, (72, 114)), (1, (69, 110)), (1, (68, 97)), (1, (67, 97)), (1, (32, 228)), (1, (32, 216)), (1, (32, 208)), (1, (32, 196)), (1, (32, 83)), (1, (32, 78)), (1, (32, 72)), (1, (32, 69)), (1, (32, 68)), (1, (32, 67))]\n"
          ]
        }
      ]
    }
  ]
}