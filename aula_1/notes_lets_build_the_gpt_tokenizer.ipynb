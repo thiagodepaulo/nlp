{
  "nbformat": 4,
  "nbformat_minor": 0,
  "metadata": {
    "colab": {
      "provenance": [],
      "include_colab_link": true
    },
    "kernelspec": {
      "name": "python3",
      "display_name": "Python 3"
    },
    "language_info": {
      "name": "python"
    }
  },
  "cells": [
    {
      "cell_type": "markdown",
      "metadata": {
        "id": "view-in-github",
        "colab_type": "text"
      },
      "source": [
        "<a href=\"https://colab.research.google.com/github/thyarles/unb-fmc-nlp/blob/main/aula_1/notes_lets_build_the_gpt_tokenizer.ipynb\" target=\"_parent\"><img src=\"https://colab.research.google.com/assets/colab-badge.svg\" alt=\"Open In Colab\"/></a>"
      ]
    },
    {
      "cell_type": "code",
      "execution_count": null,
      "metadata": {
        "id": "vfWzAv9xByu5"
      },
      "outputs": [],
      "source": []
    },
    {
      "cell_type": "markdown",
      "source": [
        "### Let's build the GPT Tokenizer\n",
        "\n",
        "Notes from the video https://www.youtube.com/watch?v=zduSFxRajkE.\n",
        "\n",
        "\n",
        "\n",
        "* Most of the problem we see on the LLM are from Tokenizers (like do simple math wrong).\n",
        "* The unicode has three types, UTF-8, UTF-16, and UTF-32. The UTF-8 is the standard because it the only one that has variable length. For latin characters, the UTF-16 add zero word on every letter, and UTF-32 add two zero words.\n",
        "* We can't use the Unicode to tokenizer because it has a huge code space (about 150 thousand).  "
      ],
      "metadata": {
        "id": "siTnhXnKCCGf"
      }
    },
    {
      "cell_type": "code",
      "source": [
        "# To check the UTF-8 value\n",
        "[ord(x) for x in \"Charles.\"]"
      ],
      "metadata": {
        "colab": {
          "base_uri": "https://localhost:8080/"
        },
        "id": "U8bAFEWtDG4V",
        "outputId": "5ec31f5f-5a95-43cb-ecb0-331e22b81d05"
      },
      "execution_count": null,
      "outputs": [
        {
          "output_type": "execute_result",
          "data": {
            "text/plain": [
              "[67, 104, 97, 114, 108, 101, 115, 46]"
            ]
          },
          "metadata": {},
          "execution_count": 1
        }
      ]
    },
    {
      "cell_type": "code",
      "source": [
        "# To check the UTFs 8, 16 and 32.\n",
        "print(\"%s\\n%s\\n%s\" %\n",
        "(\n",
        "  list(\"Charles.\".encode(\"utf-8\")),\n",
        "  list(\"Charles.\".encode(\"utf-16\")),\n",
        "  list(\"Charles.\".encode(\"utf-32\")))\n",
        ")"
      ],
      "metadata": {
        "colab": {
          "base_uri": "https://localhost:8080/"
        },
        "id": "4--l6YylDdGy",
        "outputId": "250d158c-91bf-4386-f5c1-92c539b77960"
      },
      "execution_count": null,
      "outputs": [
        {
          "output_type": "stream",
          "name": "stdout",
          "text": [
            "[67, 104, 97, 114, 108, 101, 115, 46]\n",
            "[255, 254, 67, 0, 104, 0, 97, 0, 114, 0, 108, 0, 101, 0, 115, 0, 46, 0]\n",
            "[255, 254, 0, 0, 67, 0, 0, 0, 104, 0, 0, 0, 97, 0, 0, 0, 114, 0, 0, 0, 108, 0, 0, 0, 101, 0, 0, 0, 115, 0, 0, 0, 46, 0, 0, 0]\n"
          ]
        }
      ]
    },
    {
      "cell_type": "code",
      "source": [
        "# Byte pair encoding\n",
        "\n",
        "# Example: aaabdaaabac (vocabulary size = eleven, four tokens)\n",
        "#          -> find the pair that occurs more frequently and replace it with a single token\n",
        "#          Z = aa, Y = ab, X = zy -> XdXac (vocabulary size = seven, five tokens)\n",
        "\n",
        "text = \"Charles.\"                 # any string\n",
        "tokens = text.encode(\"utf-8\")     # raw bytes\n",
        "tokens = list(map(int, tokens))   # integers\n",
        "print(\"The text has %d chars and %d tokens.\" % (len(text), len(tokens)))"
      ],
      "metadata": {
        "id": "42y0W-yxDvSO",
        "outputId": "9b07cb5f-cb19-41ad-e0e8-cc3a31207eb1",
        "colab": {
          "base_uri": "https://localhost:8080/"
        }
      },
      "execution_count": 5,
      "outputs": [
        {
          "output_type": "stream",
          "name": "stdout",
          "text": [
            "The text has 8 chars and 8 tokens.\n"
          ]
        }
      ]
    }
  ]
}