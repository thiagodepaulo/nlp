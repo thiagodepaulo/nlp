{
  "cells": [
    {
      "cell_type": "markdown",
      "metadata": {
        "colab_type": "text",
        "id": "view-in-github"
      },
      "source": [
        "<a href=\"https://colab.research.google.com/github/thyarles/unb-fmc-nlp/blob/main/aula_1/bpe.ipynb\" target=\"_parent\"><img src=\"https://colab.research.google.com/assets/colab-badge.svg\" alt=\"Open In Colab\"/></a>"
      ]
    },
    {
      "cell_type": "markdown",
      "metadata": {
        "id": "tV1x2AARpgTB"
      },
      "source": [
        "# Atividade: Aplicação do Algoritmo BPE"
      ]
    },
    {
      "cell_type": "code",
      "execution_count": null,
      "metadata": {},
      "outputs": [],
      "source": [
        "# Vamos baixar o corpus previamente preparado e descompactar\n",
        "# Corpus\n",
        "url = \"https://raw.githubusercontent.com/thyarles/unb-fmc-nlp/refs/heads/main/aula_1/corpus.tar.xz\"\n",
        "! wget \"url\" && tar -xvJf corpus.tar.xz && wc -l coprus.txt && echo \"Ok, arquivo do corpus baixado e descompactado!\"\n",
        "\n",
        "with open('corpus.txt', 'r', encoding='utf-8') as file:\n",
        "    corpus = file.read()"
      ]
    },
    {
      "cell_type": "code",
      "execution_count": 9,
      "metadata": {
        "id": "Ty1YCjtzpnE9"
      },
      "outputs": [],
      "source": [
        "# Vamos baixar os arquivos necessários com a biblioteca request\n",
        "\n",
        "import requests\n",
        "\n",
        "# Biblioteca\n",
        "url = \"https://raw.githubusercontent.com/thyarles/unb-fmc-nlp/refs/heads/main/aula_1/bpe.py\"\n",
        "response = requests.get(url)\n",
        "exec(response.text) # seria algo como from bpe import MyBPE\n",
        "my_bpe = MyBPE()"
      ]
    },
    {
      "cell_type": "code",
      "execution_count": 10,
      "metadata": {
        "id": "FiVnteCuqNPw"
      },
      "outputs": [],
      "source": [
        "# Vamos treinar\n",
        "my_bpe.train(corpus, 500)"
      ]
    },
    {
      "cell_type": "code",
      "execution_count": 16,
      "metadata": {
        "colab": {
          "base_uri": "https://localhost:8080/"
        },
        "id": "ul01g_x7s5Pl",
        "outputId": "1ed9acf2-b48a-49f6-9aa3-a9c3fc2fed8c"
      },
      "outputs": [
        {
          "name": "stdout",
          "output_type": "stream",
          "text": [
            "[299, 449, 258, 389, 390, 294, 450, 48, 32, 451, 101, 122, 295, 391, 318, 49, 56, 49, 53, 46]\n"
          ]
        }
      ],
      "source": [
        "# Vamos codificar algo\n",
        "test = my_bpe.encode('Ada Lovelace nasceu em 10 de Dezembro de 1815.')\n",
        "print(test)"
      ]
    },
    {
      "cell_type": "code",
      "execution_count": 17,
      "metadata": {
        "colab": {
          "base_uri": "https://localhost:8080/"
        },
        "id": "Qryc1gqItr_X",
        "outputId": "7c63886b-6391-4c0b-fdca-83f6cb6ea42c"
      },
      "outputs": [
        {
          "name": "stdout",
          "output_type": "stream",
          "text": [
            "Ada Lovelace nasceu em 10 de Dezembro de 1815.\n"
          ]
        }
      ],
      "source": [
        "# Vamos descodificar algo\n",
        "print(my_bpe.decode(test))"
      ]
    },
    {
      "cell_type": "code",
      "execution_count": 18,
      "metadata": {
        "colab": {
          "base_uri": "https://localhost:8080/"
        },
        "id": "FIKdJefbt0tF",
        "outputId": "bd93962b-c1fe-404d-cdb4-0c3823570fab"
      },
      "outputs": [
        {
          "name": "stdout",
          "output_type": "stream",
          "text": [
            "Vocabulary 257 with tokens (44, 32) decodes to \", \"\n",
            "Vocabulary 258 with tokens (46, 10) decodes to \".\n",
            "\"\n",
            "Vocabulary 259 with tokens (46, 32) decodes to \". \"\n",
            "Vocabulary 260 with tokens (53, 260) decodes to \"5, \"\n",
            "Vocabulary 261 with tokens (65, 110) decodes to \"An\"\n",
            "Vocabulary 262 with tokens (65, 265) decodes to \"Ada \"\n",
            "Vocabulary 263 with tokens (65, 355) decodes to \"Aug\"\n",
            "Vocabulary 264 with tokens (66, 121) decodes to \"By\"\n",
            "Vocabulary 265 with tokens (73, 110) decodes to \"In\"\n",
            "Vocabulary 266 with tokens (76, 111) decodes to \"Lo\"\n",
            "Vocabulary 267 with tokens (76, 261) decodes to \"Lon\"\n",
            "Vocabulary 268 with tokens (76, 263) decodes to \"Lor\"\n",
            "Vocabulary 269 with tokens (76, 340) decodes to \"Lad\"\n",
            "Vocabulary 270 with tokens (97, 32) decodes to \"a \"\n",
            "Vocabulary 271 with tokens (97, 98) decodes to \"ab\"\n",
            "Vocabulary 272 with tokens (97, 99) decodes to \"ac\"\n",
            "Vocabulary 273 with tokens (97, 100) decodes to \"ad\"\n",
            "Vocabulary 274 with tokens (97, 103) decodes to \"ag\"\n",
            "Vocabulary 275 with tokens (97, 105) decodes to \"ai\"\n",
            "Vocabulary 276 with tokens (97, 108) decodes to \"al\"\n",
            "Vocabulary 277 with tokens (97, 109) decodes to \"am\"\n",
            "Vocabulary 278 with tokens (97, 110) decodes to \"an\"\n",
            "Vocabulary 279 with tokens (97, 114) decodes to \"ar\"\n",
            "Vocabulary 280 with tokens (97, 115) decodes to \"as\"\n",
            "Vocabulary 281 with tokens (97, 116) decodes to \"at\"\n",
            "Vocabulary 282 with tokens (97, 257) decodes to \"ao \"\n",
            "Vocabulary 283 with tokens (97, 259) decodes to \"as \"\n",
            "Vocabulary 284 with tokens (97, 260) decodes to \"a, \"\n",
            "Vocabulary 285 with tokens (97, 264) decodes to \"ado \"\n",
            "Vocabulary 286 with tokens (97, 265) decodes to \"ada \"\n",
            "Vocabulary 287 with tokens (97, 278) decodes to \"a. \"\n",
            "Vocabulary 288 with tokens (97, 383) decodes to \"aç\"\n",
            "Vocabulary 289 with tokens (98, 114) decodes to \"br\"\n",
            "Vocabulary 290 with tokens (99, 101) decodes to \"ce\"\n",
            "Vocabulary 291 with tokens (99, 105) decodes to \"ci\"\n",
            "Vocabulary 292 with tokens (99, 111) decodes to \"co\"\n",
            "Vocabulary 293 with tokens (99, 114) decodes to \"cr\"\n",
            "Vocabulary 294 with tokens (99, 117) decodes to \"cu\"\n",
            "Vocabulary 295 with tokens (99, 261) decodes to \"con\"\n",
            "Vocabulary 296 with tokens (100, 105) decodes to \"di\"\n",
            "Vocabulary 297 with tokens (100, 117) decodes to \"du\"\n",
            "Vocabulary 298 with tokens (100, 256) decodes to \"da \"\n",
            "Vocabulary 299 with tokens (100, 257) decodes to \"do \"\n",
            "Vocabulary 300 with tokens (100, 258) decodes to \"de \"\n",
            "Vocabulary 301 with tokens (100, 261) decodes to \"don\"\n",
            "Vocabulary 302 with tokens (100, 289) decodes to \"dos \"\n",
            "Vocabulary 303 with tokens (101, 32) decodes to \"e \"\n",
            "Vocabulary 304 with tokens (101, 105) decodes to \"ei\"\n",
            "Vocabulary 305 with tokens (101, 108) decodes to \"el\"\n",
            "Vocabulary 306 with tokens (101, 109) decodes to \"em\"\n",
            "Vocabulary 307 with tokens (101, 110) decodes to \"en\"\n",
            "Vocabulary 308 with tokens (101, 114) decodes to \"er\"\n",
            "Vocabulary 309 with tokens (101, 115) decodes to \"es\"\n",
            "Vocabulary 310 with tokens (101, 116) decodes to \"et\"\n",
            "Vocabulary 311 with tokens (101, 118) decodes to \"ev\"\n",
            "Vocabulary 312 with tokens (101, 120) decodes to \"ex\"\n",
            "Vocabulary 313 with tokens (101, 259) decodes to \"es \"\n",
            "Vocabulary 314 with tokens (101, 260) decodes to \"e, \"\n",
            "Vocabulary 315 with tokens (101, 269) decodes to \"em \"\n",
            "Vocabulary 316 with tokens (102, 97) decodes to \"fa\"\n",
            "Vocabulary 317 with tokens (102, 111) decodes to \"fo\"\n",
            "Vocabulary 318 with tokens (102, 268) decodes to \"fin\"\n",
            "Vocabulary 319 with tokens (102, 332) decodes to \"filh\"\n",
            "Vocabulary 320 with tokens (102, 408) decodes to \"fânci\"\n",
            "Vocabulary 321 with tokens (104, 101) decodes to \"he\"\n",
            "Vocabulary 322 with tokens (104, 256) decodes to \"ha \"\n",
            "Vocabulary 323 with tokens (105, 99) decodes to \"ic\"\n",
            "Vocabulary 324 with tokens (105, 100) decodes to \"id\"\n",
            "Vocabulary 325 with tokens (105, 109) decodes to \"im\"\n",
            "Vocabulary 326 with tokens (105, 110) decodes to \"in\"\n",
            "Vocabulary 327 with tokens (105, 116) decodes to \"it\"\n",
            "Vocabulary 328 with tokens (105, 122) decodes to \"iz\"\n",
            "Vocabulary 329 with tokens (105, 264) decodes to \"ido \"\n",
            "Vocabulary 330 with tokens (105, 275) decodes to \"ico\"\n",
            "Vocabulary 331 with tokens (105, 287) decodes to \"ist\"\n",
            "Vocabulary 332 with tokens (105, 308) decodes to \"ilh\"\n",
            "Vocabulary 333 with tokens (108, 104) decodes to \"lh\"\n",
            "Vocabulary 334 with tokens (109, 32) decodes to \"m \"\n",
            "Vocabulary 335 with tokens (109, 117) decodes to \"mu\"\n",
            "Vocabulary 336 with tokens (109, 257) decodes to \"mo \"\n",
            "Vocabulary 337 with tokens (109, 267) decodes to \"ment\"\n",
            "Vocabulary 338 with tokens (109, 303) decodes to \"mat\"\n",
            "Vocabulary 339 with tokens (109, 334) decodes to \"mais \"\n",
            "Vocabulary 340 with tokens (109, 354) decodes to \"máquina \"\n",
            "Vocabulary 341 with tokens (110, 316) decodes to \"nas\"\n",
            "Vocabulary 342 with tokens (111, 32) decodes to \"o \"\n",
            "Vocabulary 343 with tokens (111, 109) decodes to \"om\"\n",
            "Vocabulary 344 with tokens (111, 110) decodes to \"on\"\n",
            "Vocabulary 345 with tokens (111, 114) decodes to \"or\"\n",
            "Vocabulary 346 with tokens (111, 259) decodes to \"os \"\n",
            "Vocabulary 347 with tokens (111, 260) decodes to \"o, \"\n",
            "Vocabulary 348 with tokens (111, 294) decodes to \"ou \"\n",
            "Vocabulary 349 with tokens (112, 111) decodes to \"po\"\n",
            "Vocabulary 350 with tokens (112, 114) decodes to \"pr\"\n",
            "Vocabulary 351 with tokens (112, 117) decodes to \"pu\"\n",
            "Vocabulary 352 with tokens (112, 282) decodes to \"par\"\n",
            "Vocabulary 353 with tokens (112, 296) decodes to \"por \"\n",
            "Vocabulary 354 with tokens (113, 117) decodes to \"qu\"\n",
            "Vocabulary 355 with tokens (114, 97) decodes to \"ra\"\n",
            "Vocabulary 356 with tokens (114, 101) decodes to \"re\"\n",
            "Vocabulary 357 with tokens (114, 105) decodes to \"ri\"\n",
            "Vocabulary 358 with tokens (114, 257) decodes to \"ro \"\n",
            "Vocabulary 359 with tokens (115, 32) decodes to \"s \"\n",
            "Vocabulary 360 with tokens (115, 101) decodes to \"se\"\n",
            "Vocabulary 361 with tokens (115, 116) decodes to \"st\"\n",
            "Vocabulary 362 with tokens (115, 117) decodes to \"su\"\n",
            "Vocabulary 363 with tokens (115, 258) decodes to \"se \"\n",
            "Vocabulary 364 with tokens (115, 260) decodes to \"s, \"\n",
            "Vocabulary 365 with tokens (115, 324) decodes to \"sendo \"\n",
            "Vocabulary 366 with tokens (116, 105) decodes to \"ti\"\n",
            "Vocabulary 367 with tokens (116, 117) decodes to \"tu\"\n",
            "Vocabulary 368 with tokens (116, 263) decodes to \"tor\"\n",
            "Vocabulary 369 with tokens (116, 276) decodes to \"tra\"\n",
            "Vocabulary 370 with tokens (116, 324) decodes to \"tendo \"\n",
            "Vocabulary 371 with tokens (116, 407) decodes to \"teve \"\n",
            "Vocabulary 372 with tokens (117, 32) decodes to \"u \"\n",
            "Vocabulary 373 with tokens (117, 103) decodes to \"ug\"\n",
            "Vocabulary 374 with tokens (117, 109) decodes to \"um\"\n",
            "Vocabulary 375 with tokens (117, 110) decodes to \"un\"\n",
            "Vocabulary 376 with tokens (117, 259) decodes to \"us \"\n",
            "Vocabulary 377 with tokens (117, 269) decodes to \"um \"\n",
            "Vocabulary 378 with tokens (118, 105) decodes to \"vi\"\n",
            "Vocabulary 379 with tokens (118, 272) decodes to \"vel\"\n",
            "Vocabulary 380 with tokens (118, 320) decodes to \"vei\"\n",
            "Vocabulary 381 with tokens (121, 32) decodes to \"y \"\n",
            "Vocabulary 382 with tokens (195, 161) decodes to \"á\"\n",
            "Vocabulary 383 with tokens (195, 162) decodes to \"â\"\n",
            "Vocabulary 384 with tokens (195, 163) decodes to \"ã\"\n",
            "Vocabulary 385 with tokens (195, 167) decodes to \"ç\"\n",
            "Vocabulary 386 with tokens (195, 169) decodes to \"é\"\n",
            "Vocabulary 387 with tokens (195, 173) decodes to \"í\"\n",
            "Vocabulary 388 with tokens (195, 179) decodes to \"ó\"\n",
            "Vocabulary 389 with tokens (195, 181) decodes to \"õ\"\n",
            "Vocabulary 390 with tokens (195, 186) decodes to \"ú\"\n",
            "Vocabulary 391 with tokens (226, 128) decodes to \"�\"\n",
            "Vocabulary 392 with tokens (256, 115) decodes to \"a s\"\n",
            "Vocabulary 393 with tokens (256, 258) decodes to \"a e \"\n",
            "Vocabulary 394 with tokens (256, 268) decodes to \"a in\"\n",
            "Vocabulary 395 with tokens (256, 270) decodes to \"a de \"\n",
            "Vocabulary 396 with tokens (257, 270) decodes to \"o de \"\n",
            "Vocabulary 397 with tokens (258, 77) decodes to \"e M\"\n",
            "Vocabulary 398 with tokens (258, 265) decodes to \"e da \"\n",
            "Vocabulary 399 with tokens (260, 258) decodes to \", e \"\n",
            "Vocabulary 400 with tokens (262, 116) decodes to \"ent\"\n",
            "Vocabulary 401 with tokens (262, 264) decodes to \"endo \"\n",
            "Vocabulary 402 with tokens (263, 32) decodes to \"or \"\n",
            "Vocabulary 403 with tokens (263, 103) decodes to \"org\"\n",
            "Vocabulary 404 with tokens (263, 116) decodes to \"ort\"\n",
            "Vocabulary 405 with tokens (264, 112) decodes to \"do p\"\n",
            "Vocabulary 406 with tokens (264, 313) decodes to \"do como \"\n",
            "Vocabulary 407 with tokens (266, 32) decodes to \"er \"\n",
            "Vocabulary 408 with tokens (266, 115) decodes to \"ers\"\n",
            "Vocabulary 409 with tokens (266, 276) decodes to \"erra\"\n",
            "Vocabulary 410 with tokens (270, 68) decodes to \"de D\"\n",
            "Vocabulary 411 with tokens (271, 116) decodes to \"est\"\n",
            "Vocabulary 412 with tokens (271, 270) decodes to \"esde \"\n",
            "Vocabulary 413 with tokens (271, 330) decodes to \"escr\"\n",
            "Vocabulary 414 with tokens (272, 258) decodes to \"ele \"\n",
            "Vocabulary 415 with tokens (272, 283) decodes to \"elas \"\n",
            "Vocabulary 416 with tokens (273, 116) decodes to \"ant\"\n",
            "Vocabulary 417 with tokens (274, 261) decodes to \"cion\"\n",
            "Vocabulary 418 with tokens (275, 269) decodes to \"com \"\n",
            "Vocabulary 419 with tokens (275, 293) decodes to \"como \"\n",
            "Vocabulary 420 with tokens (277, 279) decodes to \"áqu\"\n",
            "Vocabulary 421 with tokens (277, 362) decodes to \"ável \"\n",
            "Vocabulary 422 with tokens (279, 258) decodes to \"que \"\n",
            "Vocabulary 423 with tokens (280, 258) decodes to \"mente \"\n",
            "Vocabulary 424 with tokens (280, 315) decodes to \"mente, \"\n",
            "Vocabulary 425 with tokens (281, 99) decodes to \"tic\"\n",
            "Vocabulary 426 with tokens (281, 118) decodes to \"tiv\"\n",
            "Vocabulary 427 with tokens (282, 32) decodes to \"ar \"\n",
            "Vocabulary 428 with tokens (284, 103) decodes to \"alg\"\n",
            "Vocabulary 429 with tokens (284, 312) decodes to \"almente \"\n",
            "Vocabulary 430 with tokens (285, 257) decodes to \"ito \"\n",
            "Vocabulary 431 with tokens (288, 259) decodes to \"ais \"\n",
            "Vocabulary 432 with tokens (290, 256) decodes to \"uma \"\n",
            "Vocabulary 433 with tokens (292, 386) decodes to \"conheci\"\n",
            "Vocabulary 434 with tokens (296, 265) decodes to \"or da \"\n",
            "Vocabulary 435 with tokens (297, 256) decodes to \"sua \"\n",
            "Vocabulary 436 with tokens (299, 328) decodes to \"Ada foi \"\n",
            "Vocabulary 437 with tokens (300, 114) decodes to \"Byr\"\n",
            "Vocabulary 438 with tokens (301, 261) decodes to \"Byron\"\n",
            "Vocabulary 439 with tokens (302, 32) decodes to \"Byron \"\n",
            "Vocabulary 440 with tokens (302, 260) decodes to \"Byron, \"\n",
            "Vocabulary 441 with tokens (303, 117) decodes to \"atu\"\n",
            "Vocabulary 442 with tokens (305, 258) decodes to \"eve \"\n",
            "Vocabulary 443 with tokens (306, 116) decodes to \"que t\"\n",
            "Vocabulary 444 with tokens (307, 398) decodes to \"óri\"\n",
            "Vocabulary 445 with tokens (314, 32) decodes to \"vel \"\n",
            "Vocabulary 446 with tokens (317, 49) decodes to \"em 1\"\n",
            "Vocabulary 447 with tokens (318, 310) decodes to \"o de sua \"\n",
            "Vocabulary 448 with tokens (321, 111) decodes to \"pro\"\n",
            "Vocabulary 449 with tokens (322, 323) decodes to \"muito \"\n",
            "Vocabulary 450 with tokens (325, 369) decodes to \"se tor\"\n",
            "Vocabulary 451 with tokens (326, 105) decodes to \"foi\"\n",
            "Vocabulary 452 with tokens (327, 32) decodes to \"foi \"\n",
            "Vocabulary 453 with tokens (342, 32) decodes to \"don \"\n",
            "Vocabulary 454 with tokens (343, 318) decodes to \"ão de \"\n",
            "Vocabulary 455 with tokens (344, 110) decodes to \"Ann\"\n",
            "Vocabulary 456 with tokens (346, 288) decodes to \"do pai\"\n",
            "Vocabulary 457 with tokens (351, 258) decodes to \"ante \"\n",
            "Vocabulary 458 with tokens (352, 268) decodes to \"áquin\"\n",
            "Vocabulary 459 with tokens (353, 256) decodes to \"áquina \"\n",
            "Vocabulary 460 with tokens (357, 295) decodes to \"matem\"\n",
            "Vocabulary 461 with tokens (358, 277) decodes to \"matemá\"\n",
            "Vocabulary 462 with tokens (359, 329) decodes to \"matemátic\"\n",
            "Vocabulary 463 with tokens (365, 110) decodes to \"ân\"\n",
            "Vocabulary 464 with tokens (366, 274) decodes to \"ânci\"\n",
            "Vocabulary 465 with tokens (371, 108) decodes to \"ao l\"\n",
            "Vocabulary 466 with tokens (378, 304) decodes to \"ões \"\n",
            "Vocabulary 467 with tokens (385, 274) decodes to \"heci\"\n",
            "Vocabulary 468 with tokens (387, 314) decodes to \"Lovel\"\n",
            "Vocabulary 469 with tokens (393, 103) decodes to \"Ing\"\n",
            "Vocabulary 470 with tokens (397, 331) decodes to \"a ser \"\n",
            "Vocabulary 471 with tokens (401, 100) decodes to \"Lord\"\n",
            "Vocabulary 472 with tokens (402, 32) decodes to \"Lord \"\n",
            "Vocabulary 473 with tokens (404, 309) decodes to \"Annab\"\n",
            "Vocabulary 474 with tokens (405, 272) decodes to \"Annabel\"\n",
            "Vocabulary 475 with tokens (409, 273) decodes to \"finan\"\n",
            "Vocabulary 476 with tokens (412, 110) decodes to \"se torn\"\n",
            "Vocabulary 477 with tokens (418, 109) decodes to \"úm\"\n",
            "Vocabulary 478 with tokens (442, 117) decodes to \"Augu\"\n",
            "Vocabulary 479 with tokens (443, 287) decodes to \"August\"\n",
            "Vocabulary 480 with tokens (448, 388) decodes to \"Lovelac\"\n",
            "Vocabulary 481 with tokens (453, 108) decodes to \"Ingl\"\n",
            "Vocabulary 482 with tokens (454, 303) decodes to \"Inglat\"\n",
            "Vocabulary 483 with tokens (455, 394) decodes to \"Inglaterra\"\n",
            "Vocabulary 484 with tokens (456, 278) decodes to \"Inglaterra. \"\n",
            "Vocabulary 485 with tokens (468, 341) decodes to \"ória. \"\n",
            "Vocabulary 486 with tokens (474, 364) decodes to \"Lady \"\n",
            "Vocabulary 487 with tokens (475, 87) decodes to \"Lady W\"\n",
            "Vocabulary 488 with tokens (476, 267) decodes to \"Lady Went\"\n",
            "Vocabulary 489 with tokens (477, 119) decodes to \"Lady Wentw\"\n",
            "Vocabulary 490 with tokens (478, 333) decodes to \"Lady Wentwort\"\n",
            "Vocabulary 491 with tokens (479, 104) decodes to \"Lady Wentworth\"\n",
            "Vocabulary 492 with tokens (483, 99) decodes to \"financ\"\n",
            "Vocabulary 493 with tokens (484, 320) decodes to \"financei\"\n",
            "Vocabulary 494 with tokens (485, 276) decodes to \"financeira\"\n",
            "Vocabulary 495 with tokens (488, 261) decodes to \"ao lon\"\n",
            "Vocabulary 496 with tokens (489, 103) decodes to \"ao long\"\n",
            "Vocabulary 497 with tokens (494, 390) decodes to \"esde ce\"\n",
            "Vocabulary 498 with tokens (495, 264) decodes to \"esde cedo \"\n",
            "Vocabulary 499 with tokens (497, 266) decodes to \"úmer\"\n",
            "Vocabulary 500 with tokens (498, 289) decodes to \"úmeros \"\n"
          ]
        }
      ],
      "source": [
        "# Vamos imprimir as subpalavras\n",
        "my_bpe.print_subwords()"
      ]
    }
  ],
  "metadata": {
    "colab": {
      "authorship_tag": "ABX9TyNNM9lsgaqpM4DEMhLhzijA",
      "include_colab_link": true,
      "provenance": []
    },
    "kernelspec": {
      "display_name": "Python 3",
      "name": "python3"
    },
    "language_info": {
      "name": "python"
    }
  },
  "nbformat": 4,
  "nbformat_minor": 0
}
