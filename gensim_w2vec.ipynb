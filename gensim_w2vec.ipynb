{
  "nbformat": 4,
  "nbformat_minor": 0,
  "metadata": {
    "colab": {
      "provenance": [],
      "authorship_tag": "ABX9TyNZeTzk4pCDLpUBpD+LD5aS",
      "include_colab_link": true
    },
    "kernelspec": {
      "name": "python3",
      "display_name": "Python 3"
    },
    "language_info": {
      "name": "python"
    }
  },
  "cells": [
    {
      "cell_type": "markdown",
      "metadata": {
        "id": "view-in-github",
        "colab_type": "text"
      },
      "source": [
        "<a href=\"https://colab.research.google.com/github/thiagodepaulo/nlp/blob/enap/gensim_w2vec.ipynb\" target=\"_parent\"><img src=\"https://colab.research.google.com/assets/colab-badge.svg\" alt=\"Open In Colab\"/></a>"
      ]
    },
    {
      "cell_type": "code",
      "source": [
        "!pip install gensim"
      ],
      "metadata": {
        "colab": {
          "base_uri": "https://localhost:8080/"
        },
        "id": "b9_3MJzlBE9D",
        "outputId": "8b33c00e-56eb-4a8e-9aab-b2bb0c6d91e1"
      },
      "execution_count": 1,
      "outputs": [
        {
          "output_type": "stream",
          "name": "stdout",
          "text": [
            "Requirement already satisfied: gensim in /usr/local/lib/python3.10/dist-packages (4.3.2)\n",
            "Requirement already satisfied: numpy>=1.18.5 in /usr/local/lib/python3.10/dist-packages (from gensim) (1.25.2)\n",
            "Requirement already satisfied: scipy>=1.7.0 in /usr/local/lib/python3.10/dist-packages (from gensim) (1.11.4)\n",
            "Requirement already satisfied: smart-open>=1.8.1 in /usr/local/lib/python3.10/dist-packages (from gensim) (6.4.0)\n"
          ]
        }
      ]
    },
    {
      "cell_type": "code",
      "execution_count": 2,
      "metadata": {
        "id": "zrtgQoCAAvqC"
      },
      "outputs": [],
      "source": [
        "import logging\n",
        "logging.basicConfig(format='%(asctime)s : %(levelname)s : %(message)s', level=logging.INFO)\n"
      ]
    },
    {
      "cell_type": "code",
      "source": [
        "import gensim.downloader as api\n",
        "wv = api.load('word2vec-google-news-300')"
      ],
      "metadata": {
        "id": "ec0XkEPiCBlo",
        "colab": {
          "base_uri": "https://localhost:8080/"
        },
        "outputId": "1fcb737a-1d45-423b-81d0-c82db2b63567"
      },
      "execution_count": 3,
      "outputs": [
        {
          "output_type": "stream",
          "name": "stdout",
          "text": [
            "[==================================================] 100.0% 1662.8/1662.8MB downloaded\n"
          ]
        }
      ]
    },
    {
      "cell_type": "code",
      "source": [
        "for index, word in enumerate(wv.index_to_key):\n",
        "    if index == 10:\n",
        "        break\n",
        "    print(f\"word #{index}/{len(wv.index_to_key)} is {word}\")"
      ],
      "metadata": {
        "colab": {
          "base_uri": "https://localhost:8080/"
        },
        "id": "zKdUUrHfCER3",
        "outputId": "8294c42c-1410-42ca-9f51-5f3b893c325d"
      },
      "execution_count": 4,
      "outputs": [
        {
          "output_type": "stream",
          "name": "stdout",
          "text": [
            "word #0/3000000 is </s>\n",
            "word #1/3000000 is in\n",
            "word #2/3000000 is for\n",
            "word #3/3000000 is that\n",
            "word #4/3000000 is is\n",
            "word #5/3000000 is on\n",
            "word #6/3000000 is ##\n",
            "word #7/3000000 is The\n",
            "word #8/3000000 is with\n",
            "word #9/3000000 is said\n"
          ]
        }
      ]
    },
    {
      "cell_type": "code",
      "source": [
        "vec_king = wv['king']"
      ],
      "metadata": {
        "id": "cWiKtleRCdN_"
      },
      "execution_count": 5,
      "outputs": []
    },
    {
      "cell_type": "code",
      "source": [
        "try:\n",
        "    vec_cameroon = wv['cameroon']\n",
        "except KeyError:\n",
        "    print(\"The word 'cameroon' does not appear in this model\")"
      ],
      "metadata": {
        "colab": {
          "base_uri": "https://localhost:8080/"
        },
        "id": "OwcbB0NcCeS-",
        "outputId": "2fa0ede5-8287-48fb-c9c3-3d76029336b8"
      },
      "execution_count": 6,
      "outputs": [
        {
          "output_type": "stream",
          "name": "stdout",
          "text": [
            "The word 'cameroon' does not appear in this model\n"
          ]
        }
      ]
    },
    {
      "cell_type": "code",
      "source": [
        "pairs = [\n",
        "    ('car', 'minivan'),   # a minivan is a kind of car\n",
        "    ('car', 'bicycle'),   # still a wheeled vehicle\n",
        "    ('car', 'airplane'),  # ok, no wheels, but still a vehicle\n",
        "    ('car', 'cereal'),    # ... and so on\n",
        "    ('car', 'communism'),\n",
        "]\n",
        "for w1, w2 in pairs:\n",
        "    print('%r\\t%r\\t%.2f' % (w1, w2, wv.similarity(w1, w2)))"
      ],
      "metadata": {
        "colab": {
          "base_uri": "https://localhost:8080/"
        },
        "id": "1TtU4Q9uCsKE",
        "outputId": "5281cbcf-806c-49f7-ff1b-b2050d727dbe"
      },
      "execution_count": 7,
      "outputs": [
        {
          "output_type": "stream",
          "name": "stdout",
          "text": [
            "'car'\t'minivan'\t0.69\n",
            "'car'\t'bicycle'\t0.54\n",
            "'car'\t'airplane'\t0.42\n",
            "'car'\t'cereal'\t0.14\n",
            "'car'\t'communism'\t0.06\n"
          ]
        }
      ]
    },
    {
      "cell_type": "code",
      "source": [
        "print(wv.most_similar(positive=['car', 'minivan'], topn=5))"
      ],
      "metadata": {
        "id": "_j7tYPVSDZaz",
        "colab": {
          "base_uri": "https://localhost:8080/"
        },
        "outputId": "75ad2148-638c-489b-dd24-8ee94a89b084"
      },
      "execution_count": 8,
      "outputs": [
        {
          "output_type": "stream",
          "name": "stdout",
          "text": [
            "[('SUV', 0.8532192707061768), ('vehicle', 0.8175783753395081), ('pickup_truck', 0.7763688564300537), ('Jeep', 0.7567334175109863), ('Ford_Explorer', 0.7565720081329346)]\n"
          ]
        }
      ]
    },
    {
      "cell_type": "code",
      "source": [
        "print(wv.doesnt_match(['fire', 'water', 'land', 'sea', 'air', 'car']))"
      ],
      "metadata": {
        "colab": {
          "base_uri": "https://localhost:8080/"
        },
        "id": "Qzhve3zPDiim",
        "outputId": "2ebe703b-008a-49b8-83a3-90868ab851aa"
      },
      "execution_count": 9,
      "outputs": [
        {
          "output_type": "stream",
          "name": "stdout",
          "text": [
            "car\n"
          ]
        }
      ]
    },
    {
      "cell_type": "code",
      "source": [
        "from gensim.test.utils import datapath\n",
        "from gensim import utils\n",
        "\n",
        "class MyCorpus:\n",
        "    \"\"\"An iterator that yields sentences (lists of str).\"\"\"\n",
        "\n",
        "    def __iter__(self):\n",
        "        corpus_path = datapath('arq.txt')\n",
        "        for line in open(corpus_path):\n",
        "            # assume there's one document per line, tokens separated by whitespace\n",
        "            yield utils.simple_preprocess(line)"
      ],
      "metadata": {
        "id": "oIT56oa0Dx2-"
      },
      "execution_count": 10,
      "outputs": []
    },
    {
      "cell_type": "code",
      "source": [
        "import gensim.models\n",
        "\n",
        "sentences = MyCorpus()\n",
        "model = gensim.models.Word2Vec(sentences=sentences, window=5, min_count=5, vector_size=100, workers=3)"
      ],
      "metadata": {
        "id": "NP8ohFbCamn9"
      },
      "execution_count": null,
      "outputs": []
    },
    {
      "cell_type": "code",
      "source": [
        "with open(datapath('questions-words.txt'),'r') as fin:\n",
        "  qw = fin.read()\n"
      ],
      "metadata": {
        "id": "AGYCTxHDbu-G"
      },
      "execution_count": 13,
      "outputs": []
    },
    {
      "cell_type": "code",
      "source": [
        "[ s[:100] for s in qw.split(':')]"
      ],
      "metadata": {
        "colab": {
          "base_uri": "https://localhost:8080/"
        },
        "id": "jXpSyxx3cGff",
        "outputId": "36d8adaf-b2ac-428a-c556-d955f543a5d2"
      },
      "execution_count": 24,
      "outputs": [
        {
          "output_type": "execute_result",
          "data": {
            "text/plain": [
              "['',\n",
              " ' capital-common-countries\\nAthens Greece Baghdad Iraq\\nAthens Greece Bangkok Thailand\\nAthens Greece Be',\n",
              " ' capital-world\\nAbuja Nigeria Accra Ghana\\nAbuja Nigeria Algiers Algeria\\nAbuja Nigeria Amman Jordan\\nAb',\n",
              " ' currency\\nAlgeria dinar Angola kwanza\\nAlgeria dinar Argentina peso\\nAlgeria dinar Armenia dram\\nAlgeri',\n",
              " ' city-in-state\\nChicago Illinois Houston Texas\\nChicago Illinois Philadelphia Pennsylvania\\nChicago Ill',\n",
              " ' family\\nboy girl brother sister\\nboy girl brothers sisters\\nboy girl dad mom\\nboy girl father mother\\nbo',\n",
              " ' gram1-adjective-to-adverb\\namazing amazingly apparent apparently\\namazing amazingly calm calmly\\namazi',\n",
              " ' gram2-opposite\\nacceptable unacceptable aware unaware\\nacceptable unacceptable certain uncertain\\nacce',\n",
              " ' gram3-comparative\\nbad worse big bigger\\nbad worse bright brighter\\nbad worse cheap cheaper\\nbad worse ',\n",
              " ' gram4-superlative\\nbad worst big biggest\\nbad worst bright brightest\\nbad worst cold coldest\\nbad worst',\n",
              " ' gram5-present-participle\\ncode coding dance dancing\\ncode coding debug debugging\\ncode coding decrease',\n",
              " ' gram6-nationality-adjective\\nAlbania Albanian Argentina Argentinean\\nAlbania Albanian Australia Austr',\n",
              " ' gram7-past-tense\\ndancing danced decreasing decreased\\ndancing danced describing described\\ndancing da',\n",
              " ' gram8-plural\\nbanana bananas bird birds\\nbanana bananas bottle bottles\\nbanana bananas building buildi',\n",
              " ' gram9-plural-verbs\\ndecrease decreases describe describes\\ndecrease decreases eat eats\\ndecrease decre']"
            ]
          },
          "metadata": {},
          "execution_count": 24
        }
      ]
    },
    {
      "cell_type": "code",
      "source": [
        "model.wv.evaluate_word_analogies(datapath('questions-words.txt'))\n",
        "model.wv.evaluate_word_pairs(datapath('wordsim353.tsv'))"
      ],
      "metadata": {
        "id": "GJBPxlvjdKzk"
      },
      "execution_count": null,
      "outputs": []
    },
    {
      "cell_type": "code",
      "source": [
        "model = gensim.models.Word2Vec.load(temporary_filepath)\n",
        "more_sentences = [\n",
        "    ['Advanced', 'users', 'can', 'load', 'a', 'model',\n",
        "     'and', 'continue', 'training', 'it', 'with', 'more', 'sentences'],\n",
        "]\n",
        "model.build_vocab(more_sentences, update=True)\n",
        "model.train(more_sentences, total_examples=model.corpus_count, epochs=model.epochs)\n",
        "\n",
        "# cleaning up temporary file\n",
        "import os\n",
        "os.remove(temporary_filepath)\n"
      ],
      "metadata": {
        "id": "L-ka-Xk0dgMO"
      },
      "execution_count": null,
      "outputs": []
    },
    {
      "cell_type": "code",
      "source": [],
      "metadata": {
        "id": "B3sAuSwrdiOS"
      },
      "execution_count": null,
      "outputs": []
    }
  ]
}