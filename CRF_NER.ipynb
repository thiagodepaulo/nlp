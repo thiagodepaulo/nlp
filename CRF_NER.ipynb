{
  "nbformat": 4,
  "nbformat_minor": 0,
  "metadata": {
    "colab": {
      "provenance": [],
      "authorship_tag": "ABX9TyPB+yh8Hk5iMbnuxJFVij38",
      "include_colab_link": true
    },
    "kernelspec": {
      "name": "python3",
      "display_name": "Python 3"
    },
    "language_info": {
      "name": "python"
    }
  },
  "cells": [
    {
      "cell_type": "markdown",
      "metadata": {
        "id": "view-in-github",
        "colab_type": "text"
      },
      "source": [
        "<a href=\"https://colab.research.google.com/github/thiagodepaulo/nlp/blob/enap/CRF_NER.ipynb\" target=\"_parent\"><img src=\"https://colab.research.google.com/assets/colab-badge.svg\" alt=\"Open In Colab\"/></a>"
      ]
    },
    {
      "cell_type": "code",
      "execution_count": 2,
      "metadata": {
        "colab": {
          "base_uri": "https://localhost:8080/"
        },
        "id": "XoNTjkfTQYYi",
        "outputId": "dbec7ef0-9b34-4c73-e1d9-d57105d569e8"
      },
      "outputs": [
        {
          "output_type": "stream",
          "name": "stdout",
          "text": [
            "Collecting sklearn_crfsuite\n",
            "  Downloading sklearn_crfsuite-0.3.6-py2.py3-none-any.whl (12 kB)\n",
            "Collecting python-crfsuite>=0.8.3 (from sklearn_crfsuite)\n",
            "  Downloading python_crfsuite-0.9.10-cp310-cp310-manylinux_2_17_x86_64.manylinux2014_x86_64.whl (1.1 MB)\n",
            "\u001b[2K     \u001b[90m━━━━━━━━━━━━━━━━━━━━━━━━━━━━━━━━━━━━━━━━\u001b[0m \u001b[32m1.1/1.1 MB\u001b[0m \u001b[31m8.1 MB/s\u001b[0m eta \u001b[36m0:00:00\u001b[0m\n",
            "\u001b[?25hRequirement already satisfied: six in /usr/local/lib/python3.10/dist-packages (from sklearn_crfsuite) (1.16.0)\n",
            "Requirement already satisfied: tabulate in /usr/local/lib/python3.10/dist-packages (from sklearn_crfsuite) (0.9.0)\n",
            "Requirement already satisfied: tqdm>=2.0 in /usr/local/lib/python3.10/dist-packages (from sklearn_crfsuite) (4.66.2)\n",
            "Installing collected packages: python-crfsuite, sklearn_crfsuite\n",
            "Successfully installed python-crfsuite-0.9.10 sklearn_crfsuite-0.3.6\n"
          ]
        }
      ],
      "source": [
        "!pip install sklearn_crfsuite\n",
        "import pandas as pd\n",
        "import sklearn_crfsuite\n",
        "from sklearn_crfsuite import metrics\n",
        "import joblib\n",
        "import math"
      ]
    },
    {
      "cell_type": "code",
      "source": [
        "from google.colab import drive\n",
        "drive.mount('/content/drive')\n",
        "\n",
        "# Load the labeled data from Google Drive\n",
        "with open('/content/drive/My Drive/labeled.csv', 'r') as f:\n",
        "    df = pd.read_csv(f)\n"
      ],
      "metadata": {
        "colab": {
          "base_uri": "https://localhost:8080/"
        },
        "id": "0XqaZBqNQdET",
        "outputId": "d0a2ec1f-f818-4f3f-e49e-08a5492512e7"
      },
      "execution_count": 6,
      "outputs": [
        {
          "output_type": "stream",
          "name": "stdout",
          "text": [
            "Drive already mounted at /content/drive; to attempt to forcibly remount, call drive.mount(\"/content/drive\", force_remount=True).\n"
          ]
        }
      ]
    },
    {
      "cell_type": "code",
      "source": [
        "def extract_features(sentence):\n",
        "  sentence_features = []\n",
        "  for j in range(len(sentence)):\n",
        "    word_feat = {\n",
        "            'word': sentence[j].lower(),\n",
        "            'capital_letter': sentence[j][0].isupper(),\n",
        "            'all_capital': sentence[j].isupper(),\n",
        "            'isdigit': sentence[j].isdigit(),\n",
        "            'word_before': sentence[j].lower() if j==0 else sentence[j-1].lower(),\n",
        "            'word_after:': sentence[j].lower() if j+1>=len(sentence) else sentence[j+1].lower(),\n",
        "            'BOS': j==0,\n",
        "            'EOS': j==len(sentence)-1\n",
        "    }\n",
        "    sentence_features.append(word_feat)\n",
        "  return sentence_features\n",
        "\n",
        "def separate_cols(arq):\n",
        "    x = []\n",
        "    y = []\n",
        "    for i in range(len(arq)):\n",
        "        x.append(extract_features(arq['text'][i].split()))\n",
        "        y.append(arq['labels'][i].split())\n",
        "    return x, y\n",
        "\n",
        "x, y = separate_cols(df)\n",
        "train_x = x[:math.floor(0.7*len(df))]\n",
        "train_y = y[:math.floor(0.7*len(df))]\n",
        "test_x = x[math.floor(0.7*len(df)):]\n",
        "test_y = y[math.floor(0.7*len(df)):]\n",
        "\n",
        "len(df), len(train_x), len(train_y), len(test_x), len(test_y)"
      ],
      "metadata": {
        "colab": {
          "base_uri": "https://localhost:8080/"
        },
        "id": "fN3fgDTcRAcp",
        "outputId": "eefd7ed1-f5b3-4091-b5b6-eee6247edf07"
      },
      "execution_count": 7,
      "outputs": [
        {
          "output_type": "execute_result",
          "data": {
            "text/plain": [
              "(5516, 3861, 3861, 1655, 1655)"
            ]
          },
          "metadata": {},
          "execution_count": 7
        }
      ]
    },
    {
      "cell_type": "code",
      "source": [
        "model = sklearn_crfsuite.CRF(\n",
        "    algorithm = 'l2sgd',\n",
        "    c2=1,\n",
        "    max_iterations=100,\n",
        "    all_possible_transitions=True,\n",
        "    verbose=False\n",
        ")\n",
        "\n",
        "model.fit(train_x, train_y)\n",
        "y_pred = model.predict(test_x)"
      ],
      "metadata": {
        "id": "NdvuiauyRhgi"
      },
      "execution_count": 8,
      "outputs": []
    },
    {
      "cell_type": "code",
      "source": [
        "labels = list(model.classes_)\n",
        "labels.remove('O')\n",
        "\n",
        "f1 = metrics.flat_f1_score(test_y, y_pred,\n",
        "                      average='weighted', labels=labels)\n",
        "print(f1)"
      ],
      "metadata": {
        "colab": {
          "base_uri": "https://localhost:8080/"
        },
        "id": "fxvuiB7fRslG",
        "outputId": "c5f12909-ff99-41cf-8c64-25d123190f3c"
      },
      "execution_count": 9,
      "outputs": [
        {
          "output_type": "stream",
          "name": "stdout",
          "text": [
            "0.981261187383036\n"
          ]
        }
      ]
    },
    {
      "cell_type": "code",
      "source": [
        "from sklearn_crfsuite import metrics\n",
        "from sklearn_crfsuite.utils import flatten\n",
        "from sklearn import metrics as skmetrics\n",
        "\n",
        "\n",
        "y_test_flat = flatten(test_y)\n",
        "y_pred_flat = flatten(y_pred)\n",
        "\n",
        "print(skmetrics.classification_report(y_test_flat, y_pred_flat))\n"
      ],
      "metadata": {
        "colab": {
          "base_uri": "https://localhost:8080/"
        },
        "id": "cXCj3rYYR-k5",
        "outputId": "1f759196-2e35-4afa-8507-93b27c7eebab"
      },
      "execution_count": 18,
      "outputs": [
        {
          "output_type": "stream",
          "name": "stderr",
          "text": [
            "/usr/local/lib/python3.10/dist-packages/sklearn/metrics/_classification.py:1344: UndefinedMetricWarning: Precision and F-score are ill-defined and being set to 0.0 in labels with no predicted samples. Use `zero_division` parameter to control this behavior.\n",
            "  _warn_prf(average, modifier, msg_start, len(result))\n",
            "/usr/local/lib/python3.10/dist-packages/sklearn/metrics/_classification.py:1344: UndefinedMetricWarning: Precision and F-score are ill-defined and being set to 0.0 in labels with no predicted samples. Use `zero_division` parameter to control this behavior.\n",
            "  _warn_prf(average, modifier, msg_start, len(result))\n"
          ]
        },
        {
          "output_type": "stream",
          "name": "stdout",
          "text": [
            "                     precision    recall  f1-score   support\n",
            "\n",
            "              B-ATO       0.99      0.99      0.99      1654\n",
            "            B-CARGO       0.98      0.92      0.95      1646\n",
            "           B-CLASSE       0.99      0.99      0.99       877\n",
            "B-COD_MATRICULA_ATO       0.99      0.89      0.94      1652\n",
            "      B-EMPRESA_ATO       0.97      0.93      0.95       807\n",
            "       B-FUND_LEGAL       0.99      0.99      0.99      1655\n",
            "         B-NOME_ATO       0.98      0.97      0.98      1655\n",
            "           B-PADRAO       0.97      1.00      0.99      1499\n",
            "         B-PROCESSO       0.98      0.95      0.96      1516\n",
            "           B-QUADRO       0.97      0.99      0.98      1536\n",
            "              I-ATO       1.00      0.99      0.99      1392\n",
            "            I-CARGO       0.96      0.96      0.96      5013\n",
            "           I-CLASSE       0.99      0.98      0.98       882\n",
            "I-COD_MATRICULA_ATO       0.00      0.00      0.00        93\n",
            "      I-EMPRESA_ATO       0.97      0.93      0.95      4046\n",
            "       I-FUND_LEGAL       0.98      1.00      0.99     66456\n",
            "         I-NOME_ATO       0.97      0.98      0.98      5200\n",
            "           I-PADRAO       0.97      1.00      0.99      1500\n",
            "         I-PROCESSO       0.94      1.00      0.97      1179\n",
            "           I-QUADRO       0.98      0.99      0.98      7835\n",
            "                  O       0.95      0.92      0.93     25934\n",
            "\n",
            "           accuracy                           0.97    134027\n",
            "          macro avg       0.93      0.92      0.93    134027\n",
            "       weighted avg       0.97      0.97      0.97    134027\n",
            "\n"
          ]
        },
        {
          "output_type": "stream",
          "name": "stderr",
          "text": [
            "/usr/local/lib/python3.10/dist-packages/sklearn/metrics/_classification.py:1344: UndefinedMetricWarning: Precision and F-score are ill-defined and being set to 0.0 in labels with no predicted samples. Use `zero_division` parameter to control this behavior.\n",
            "  _warn_prf(average, modifier, msg_start, len(result))\n"
          ]
        }
      ]
    }
  ]
}