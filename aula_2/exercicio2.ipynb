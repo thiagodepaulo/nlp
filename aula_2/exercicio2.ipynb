{
 "cells": [
  {
   "cell_type": "markdown",
   "metadata": {},
   "source": [
    "### Atividade: Criação de Modelo de Bigrama para Geração de Texto"
   ]
  },
  {
   "cell_type": "markdown",
   "metadata": {},
   "source": [
    "#### Objetivo\n",
    "\n",
    "Nesta atividade, você irá construir um modelo de bigrama para geração de texto. A atividade será realizada utilizando o tokenizador que você implementou na atividade anterior (algoritmo BPE). O objetivo é treinar e avaliar o modelo, bem como medir sua perplexidade em um conjunto de dados de teste."
   ]
  },
  {
   "cell_type": "markdown",
   "metadata": {},
   "source": [
    "#### 1. Preparação dos Dados\n",
    "- Utilize o tokenizador implementado na atividade anterior para segmentar o [conjunto de dados fornecido](https://unbbr-my.sharepoint.com/:u:/g/personal/thiagodepaulo_unb_br/ETRbkBjaKihNmsQI0eWq9RkB3I9tE-SluKccadGOFJYqmA?e=V9k4Vb).\n",
    "- Divida os arquivos em *treino* (80%) e *teste* (20%) de forma aleatória.\n"
   ]
  },
  {
   "cell_type": "markdown",
   "metadata": {},
   "source": [
    "##### 1.1. Divisão em sentenças"
   ]
  },
  {
   "cell_type": "code",
   "execution_count": 1,
   "metadata": {},
   "outputs": [
    {
     "name": "stdout",
     "output_type": "stream",
     "text": [
      "==> Processando 10000 JSONs...\n"
     ]
    },
    {
     "name": "stderr",
     "output_type": "stream",
     "text": [
      "/Users/thyarles/SPAI/unb-fmc-nlp/venv/lib/python3.13/site-packages/tqdm/auto.py:21: TqdmWarning: IProgress not found. Please update jupyter and ipywidgets. See https://ipywidgets.readthedocs.io/en/stable/user_install.html\n",
      "  from .autonotebook import tqdm as notebook_tqdm\n",
      "100%|██████████| 10000/10000 [00:04<00:00, 2187.22it/s]\n"
     ]
    },
    {
     "name": "stdout",
     "output_type": "stream",
     "text": [
      "    feito em 4.85 segundos.\n"
     ]
    }
   ],
   "source": [
    "# Importa arquivo local\n",
    "from exercicio2 import ModeloBigramas\n",
    "modelo = ModeloBigramas()\n",
    "\n",
    "# Lê os JSONs e os quebra em Sentenças com paralelização de CPU - 1\n",
    "modelo.paralelizar(padrao='../corpus/*.json', funcao=modelo.sentenizar, tarefas='max');"
   ]
  },
  {
   "cell_type": "markdown",
   "metadata": {},
   "source": [
    "##### 1.2. Divisão em treino e teste"
   ]
  },
  {
   "cell_type": "code",
   "execution_count": null,
   "metadata": {},
   "outputs": [
    {
     "name": "stdout",
     "output_type": "stream",
     "text": [
      "==> Separando 397274 sentenças em treino e teste...\n",
      "    Treino: 317819 sentenças, Teste: 79455 sentenças.\n"
     ]
    }
   ],
   "source": [
    "# Por padrão, 80% para treino e 20% para teste\n",
    "# Pode mudar passando parâmetro percentual_teste\n",
    "modelo.separar_teste()"
   ]
  },
  {
   "cell_type": "markdown",
   "metadata": {},
   "source": [
    "#### 2. Implementação do Modelo de Bigrama\n",
    "- Implemente um modelo de bigrama em Python. O modelo deve calcular a probabilidade condicional de uma palavra dado a palavra anterior com base nos dados de treino.\n",
    "- A saída deve ser o modelo que calcula a distribuição de probabilidade das palavras baseando-se nas palavras anteriores.\n",
    "   "
   ]
  },
  {
   "cell_type": "markdown",
   "metadata": {},
   "source": [
    "##### 2.1. Cálculo das probabilidades (modelo)"
   ]
  },
  {
   "cell_type": "code",
   "execution_count": 3,
   "metadata": {},
   "outputs": [
    {
     "name": "stdout",
     "output_type": "stream",
     "text": [
      "==> Calculando probabilidades dos bigramas...\n",
      "    feito em 7.34 segundos.\n"
     ]
    }
   ],
   "source": [
    "# Calculando bigramas no conjunto de treino somente\n",
    "modelo.bigramas()"
   ]
  },
  {
   "cell_type": "markdown",
   "metadata": {},
   "source": [
    "#### 3. Cálculo da Perplexidade\n",
    "- Aplique o modelo de bigrama no conjunto de dados de teste para calcular a **perplexidade**, uma métrica usada para avaliar a capacidade preditiva do modelo. A perplexidade indica o quão bem o modelo prevê o próximo termo em uma sequência.\n"
   ]
  },
  {
   "cell_type": "markdown",
   "metadata": {},
   "source": [
    "##### 3.1. Calculando a perplexidade"
   ]
  },
  {
   "cell_type": "code",
   "execution_count": 4,
   "metadata": {},
   "outputs": [
    {
     "name": "stdout",
     "output_type": "stream",
     "text": [
      "==> Calculando a perplexidade...\n",
      "    perplexidade = 123.00.\n"
     ]
    }
   ],
   "source": [
    "# Cálculo da perplexidade\n",
    "modelo.perplexidade()"
   ]
  },
  {
   "cell_type": "markdown",
   "metadata": {},
   "source": [
    "##### 3.2. Resultado da perplexidade\n",
    "\n",
    "* Baixa perplexidade (1-100): modelo com boa predição\n",
    "* Alta perplexidade (100-1000): modelo não tem boa predição\n",
    "* Perplexidade perfeita: 1\n",
    "* Perplexidade imperfeita: infinito (modelo totalmente aleatório)"
   ]
  },
  {
   "cell_type": "markdown",
   "metadata": {},
   "source": [
    "#### 4. Geração de Texto\n",
    "- Implemente uma função que gera texto a partir do modelo de bigrama.\n",
    "- No *notebook*, gere um exemplo de texto com pelo menos 20 tokens para demonstrar o funcionamento do modelo.\n"
   ]
  },
  {
   "cell_type": "markdown",
   "metadata": {},
   "source": [
    "##### 4.1. Geração de texto sem raiz e sem parâmetros\n",
    "\n",
    "* `_______.` significa que o modelo encontrou uma palavra sem probabilidade para a palavra seguinte."
   ]
  },
  {
   "cell_type": "code",
   "execution_count": 5,
   "metadata": {},
   "outputs": [
    {
     "data": {
      "text/plain": [
       "'Na vigésima posição de\"Photograph\" e\"You\\'re Sixteen\" nos Países Baixos, em Direito, destacou-se dentre as cortes espanholas, inspirada na conservação de 1970, 1975, 1976 e o osso do alto posto de Parnaíba por doenças como atestam esses valores de que se contraiu, as doze grupos estavam completamente revisada a uma maioria tem um estrangeiro da propriedade das Dores, A 300 variações. _______. 11 de 1949 Heidelberg M e no município de 2011 D Samora Machel (Vilanculos, 10 anos, e piques. _______. Estes possuem uma análise atribui nomes pessoais fora de pelúcia do braço por narcotraficantes passaram a formação de Ryan Tiff Needell, ex-automobilista britânico.'"
      ]
     },
     "execution_count": 5,
     "metadata": {},
     "output_type": "execute_result"
    }
   ],
   "source": [
    "# Geração de texto sem raiz e sem parâmetros\n",
    "modelo.gerar_texto()"
   ]
  },
  {
   "cell_type": "markdown",
   "metadata": {},
   "source": [
    "##### 4.2. Geração de texto com raiz e sem parâmetros\n",
    "\n",
    "* `_______.` significa que o modelo encontrou uma palavra sem probabilidade para a palavra seguinte."
   ]
  },
  {
   "cell_type": "code",
   "execution_count": 6,
   "metadata": {},
   "outputs": [
    {
     "data": {
      "text/plain": [
       "'O município registrou que seria economicamente ativas sob responsabilidade de produção anual de Jacy Junqueira Marca do Peri de Nunes 18 metros ou células ramificadas chamadas faixas de abril o Detector de partida para quem vivera o Reino Unido obtiveram sucesso. _______. 28 Mundo 62 38 XIV e morre. _______. Apesar de Transfiguração, em Lisboa e 346 bgcolor #F1F1F1 81364 5 (Oct. _______. Para esse novo nome coreano Choe Bu conseguiu se reúne, nas seguintes localidades: Aupa Frattis Pietratagliata San Jose Villarubia. _______. Obteve mais proeminentes organizações internacionais para fomentar o Horto Municipal, Hospital Universitário Claretiano de português da povoação) e territórios.'"
      ]
     },
     "execution_count": 6,
     "metadata": {},
     "output_type": "execute_result"
    }
   ],
   "source": [
    "# Geração de texto com raiz e sem parâmetros\n",
    "modelo.gerar_texto(raiz='O município registrou')"
   ]
  },
  {
   "cell_type": "markdown",
   "metadata": {},
   "source": [
    "##### 4.3. Geração de texto sem raiz e com parâmetros\n",
    "\n",
    "* `_______.` significa que o modelo encontrou uma palavra sem probabilidade para a palavra seguinte."
   ]
  },
  {
   "cell_type": "code",
   "execution_count": 7,
   "metadata": {},
   "outputs": [
    {
     "data": {
      "text/plain": [
       "'Mostrou ao Cemitério de pouso 394 5 °C 61 e Bobsled em Santos entrou em maio de Jesus e na circunferência central que se confirmaram em mandarim.'"
      ]
     },
     "execution_count": 7,
     "metadata": {},
     "output_type": "execute_result"
    }
   ],
   "source": [
    "# Geração de texto sem raiz e com parâmetros\n",
    "modelo.gerar_texto(minimo=25, maximo=50)"
   ]
  },
  {
   "cell_type": "markdown",
   "metadata": {},
   "source": [
    "#### 5. Teste do modelo marromeno\n",
    "\n",
    "Nesse teste quero apenas ver qual seria o resultado de se analisar o arquivo teste e prever a próxima palavra.\n",
    "\n",
    "1. Para cada frase no arquivo teste, quebre em palavras.\n",
    "2. Pegue a primeira palavra e veja se o modelo acertou a próxima.\n",
    "3. Contabilize os resultados.\n",
    "4. Compare com a perplexidade."
   ]
  },
  {
   "cell_type": "code",
   "execution_count": 8,
   "metadata": {},
   "outputs": [
    {
     "name": "stdout",
     "output_type": "stream",
     "text": [
      "==> Testando o modelo...\n"
     ]
    },
    {
     "name": "stderr",
     "output_type": "stream",
     "text": [
      "100%|██████████| 79455/79455 [15:02<00:00, 88.01it/s]\n"
     ]
    },
    {
     "name": "stdout",
     "output_type": "stream",
     "text": [
      "    feito em 904.36 segundos.\n",
      "    Acertos: 258719, Erros: 1780379\n",
      "    Percentual de acerto: 0.12687913969804296\n"
     ]
    }
   ],
   "source": [
    "# Roda o teste\n",
    "modelo.testar_modelo()"
   ]
  }
 ],
 "metadata": {
  "kernelspec": {
   "display_name": "venv",
   "language": "python",
   "name": "python3"
  },
  "language_info": {
   "codemirror_mode": {
    "name": "ipython",
    "version": 3
   },
   "file_extension": ".py",
   "mimetype": "text/x-python",
   "name": "python",
   "nbconvert_exporter": "python",
   "pygments_lexer": "ipython3",
   "version": "3.13.0"
  }
 },
 "nbformat": 4,
 "nbformat_minor": 2
}
