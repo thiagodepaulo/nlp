{
 "cells": [
  {
   "cell_type": "markdown",
   "metadata": {},
   "source": [
    "### Atividade: Criação de Modelo de Bigrama para Geração de Texto"
   ]
  },
  {
   "cell_type": "markdown",
   "metadata": {},
   "source": [
    "#### Objetivo\n",
    "\n",
    "Nesta atividade, você irá construir um modelo de bigrama para geração de texto. A atividade será realizada utilizando o tokenizador que você implementou na atividade anterior (algoritmo BPE). O objetivo é treinar e avaliar o modelo, bem como medir sua perplexidade em um conjunto de dados de teste."
   ]
  },
  {
   "cell_type": "markdown",
   "metadata": {},
   "source": [
    "#### 1. Preparação dos Dados\n",
    "- Utilize o tokenizador implementado na atividade anterior para segmentar o [conjunto de dados fornecido](https://unbbr-my.sharepoint.com/:u:/g/personal/thiagodepaulo_unb_br/ETRbkBjaKihNmsQI0eWq9RkB3I9tE-SluKccadGOFJYqmA?e=V9k4Vb).\n",
    "- Divida os arquivos em *treino* (80%) e *teste* (20%) de forma aleatória.\n"
   ]
  },
  {
   "cell_type": "markdown",
   "metadata": {},
   "source": [
    "##### 1.1. Divisão em sentenças"
   ]
  },
  {
   "cell_type": "code",
   "execution_count": 1,
   "metadata": {},
   "outputs": [
    {
     "name": "stdout",
     "output_type": "stream",
     "text": [
      "==> Processando 10000 JSONs...\n"
     ]
    },
    {
     "data": {
      "application/vnd.jupyter.widget-view+json": {
       "model_id": "3bbd4e791a2140fe918ac684eb4df1e3",
       "version_major": 2,
       "version_minor": 0
      },
      "text/plain": [
       "  0%|          | 0/10000 [00:00<?, ?it/s]"
      ]
     },
     "metadata": {},
     "output_type": "display_data"
    },
    {
     "name": "stdout",
     "output_type": "stream",
     "text": [
      "    feito em 4.32 segundos.\n"
     ]
    }
   ],
   "source": [
    "# Importa arquivo local\n",
    "from exercicio2 import ModeloBigramas\n",
    "modelo = ModeloBigramas()\n",
    "\n",
    "# Lê os JSONs e os quebra em Sentenças com paralelização de CPU - 1\n",
    "modelo.paralelizar(padrao='../corpus/*.json', funcao=modelo.sentenizar, tarefas='max');"
   ]
  },
  {
   "cell_type": "markdown",
   "metadata": {},
   "source": [
    "##### 1.2. Divisão em treino e teste"
   ]
  },
  {
   "cell_type": "code",
   "execution_count": 2,
   "metadata": {},
   "outputs": [
    {
     "name": "stdout",
     "output_type": "stream",
     "text": [
      "==> Separando 397274 sentenças em treino e teste...\n",
      "    Treino: 317819 sentenças, Teste: 79455 sentenças.\n"
     ]
    }
   ],
   "source": [
    "# Vou carregar treino e teste, mas não vou usar porque o teste deu muito ruim\n",
    "# Preciso da ajuda do professor para enteder como fazer esse teste\n",
    "modelo.separar_teste()"
   ]
  },
  {
   "cell_type": "markdown",
   "metadata": {},
   "source": [
    "#### 2. Implementação do Modelo de Bigrama\n",
    "- Implemente um modelo de bigrama em Python. O modelo deve calcular a probabilidade condicional de uma palavra dado a palavra anterior com base nos dados de treino.\n",
    "- A saída deve ser o modelo que calcula a distribuição de probabilidade das palavras baseando-se nas palavras anteriores.\n",
    "   "
   ]
  },
  {
   "cell_type": "markdown",
   "metadata": {},
   "source": [
    "##### 2.1. Cálculo das probabilidades (modelo)"
   ]
  },
  {
   "cell_type": "code",
   "execution_count": 3,
   "metadata": {},
   "outputs": [
    {
     "name": "stdout",
     "output_type": "stream",
     "text": [
      "==> Calculando probabilidades dos bigramas...\n",
      "    feito em 11.90 segundos.\n"
     ]
    }
   ],
   "source": [
    "# Calculando bigramas no conjunto de treino somente\n",
    "modelo.bigramas()"
   ]
  },
  {
   "cell_type": "markdown",
   "metadata": {},
   "source": [
    "#### 3. Cálculo da Perplexidade\n",
    "- Aplique o modelo de bigrama no conjunto de dados de teste para calcular a **perplexidade**, uma métrica usada para avaliar a capacidade preditiva do modelo. A perplexidade indica o quão bem o modelo prevê o próximo termo em uma sequência.\n"
   ]
  },
  {
   "cell_type": "markdown",
   "metadata": {},
   "source": [
    "##### 3.1. Calculando a perplexidade"
   ]
  },
  {
   "cell_type": "code",
   "execution_count": 4,
   "metadata": {},
   "outputs": [
    {
     "name": "stdout",
     "output_type": "stream",
     "text": [
      "==> Calculando a perplexidade...\n",
      "    perplexidade = 122.37.\n"
     ]
    },
    {
     "data": {
      "text/plain": [
       "122.3679744820238"
      ]
     },
     "execution_count": 4,
     "metadata": {},
     "output_type": "execute_result"
    }
   ],
   "source": [
    "# Cálculo da perplexidade\n",
    "modelo.perplexidade()"
   ]
  },
  {
   "cell_type": "markdown",
   "metadata": {},
   "source": [
    "##### 3.2. Resultado da perplexidade\n",
    "\n",
    "* Baixa perplexidade (1-100): modelo com boa predição\n",
    "* Alta perplexidade (100-1000): modelo não tem boa predição\n",
    "* Perplexidade perfeita: 1\n",
    "* Perplexidade imperfeita: infinito (modelo totalmente aleatório)"
   ]
  },
  {
   "cell_type": "markdown",
   "metadata": {},
   "source": [
    "#### 4. Geração de Texto\n",
    "- Implemente uma função que gera texto a partir do modelo de bigrama.\n",
    "- No *notebook*, gere um exemplo de texto com pelo menos 20 tokens para demonstrar o funcionamento do modelo.\n"
   ]
  },
  {
   "cell_type": "markdown",
   "metadata": {},
   "source": [
    "##### 4.1. Geração de texto sem raiz e sem parâmetros\n",
    "\n",
    "* `_______.` significa que o modelo encontrou uma palavra sem probabilidade para a palavra seguinte."
   ]
  },
  {
   "cell_type": "code",
   "execution_count": 5,
   "metadata": {},
   "outputs": [
    {
     "data": {
      "text/plain": [
       "'Por fim, à média localizado no ministério. _______. \"Viajantes estrangeiros na fase está situada a menor grau militar de janeiro de ferro de mais juntaram mais forte de governa com um ano de Godoy, como a temperatura e a zona rural em 15 de Alexandria e é conhecida como o Vídeo Conversas com uma vez que ele chamava «libertadas» a constituição de 1 na interseção puros, mas foi formado de distância. _______. Acontece o paradigma aristotélico seguirá para a penitência, uma alternativa do Município integra o nascer em um Senhor Prefeito, integram uma situação envolvendo a sede da Copa Água 猴 Macaco Metal Massacre do Estado Novo, Santíssima Trindade, no 25° presidente se Ali McKenzie 1990 Oitavas de Portugal.'"
      ]
     },
     "execution_count": 5,
     "metadata": {},
     "output_type": "execute_result"
    }
   ],
   "source": [
    "# Geração de texto sem raiz e sem parâmetros\n",
    "modelo.gerar_texto()"
   ]
  },
  {
   "cell_type": "markdown",
   "metadata": {},
   "source": [
    "##### 4.2. Geração de texto com raiz e sem parâmetros\n",
    "\n",
    "* `_______.` significa que o modelo encontrou uma palavra sem probabilidade para a palavra seguinte."
   ]
  },
  {
   "cell_type": "code",
   "execution_count": 6,
   "metadata": {},
   "outputs": [
    {
     "data": {
      "text/plain": [
       "'O município registrou uma sonata em Lima 1997 and the Comoros 2001.svg 2001 e Silvite. _______. n Spring S Perry baixo e grades. _______. Hosingen Munshausen Troisvierges Weiswampach Wincrange _______. Só Falta Alguém poderia vingar as fotos incríveis abrangendo produção, o New Translation Fund desde 1948. _______. A sua casa. _______. Aquando da freguesia denominada extremidade do serrote formado por José Izecias de veículo.Envolverde: jornalismo é o autor expõe seu uso de Assis Chateaubriand recorreu ao soberano, dando graças à RTP de Ghowr ou Quinta da Arábia Saudita, além de vários heróis usam o casal de março de novembro, foral de tupi antigo: a presidente da Scopus, empresa particular para a reprodução, o parto do elemento de problemas, duas faces de Vila do Toural — -id 683 bgcolor #F1F1F1 68036 30 de peso relativo à intervenção em outros espaços.'"
      ]
     },
     "execution_count": 6,
     "metadata": {},
     "output_type": "execute_result"
    }
   ],
   "source": [
    "# Geração de texto com raiz e sem parâmetros\n",
    "modelo.gerar_texto(raiz='O município registrou')"
   ]
  },
  {
   "cell_type": "markdown",
   "metadata": {},
   "source": [
    "##### 4.3. Geração de texto sem raiz e com parâmetros\n",
    "\n",
    "* `_______.` significa que o modelo encontrou uma palavra sem probabilidade para a palavra seguinte."
   ]
  },
  {
   "cell_type": "code",
   "execution_count": 7,
   "metadata": {},
   "outputs": [
    {
     "data": {
      "text/plain": [
       "'Apesar do Papa Católico; João Agripino # Parcial de atividades de 1970 e não deve quebrar uma administração da Universidade da Canção do condado de hóquei no intervalo de velocidade em São João I de sistemas de não sejam nominalmente como pariparoba, caapeba, capeba e por adaptar ao progresso'"
      ]
     },
     "execution_count": 7,
     "metadata": {},
     "output_type": "execute_result"
    }
   ],
   "source": [
    "# Geração de texto sem raiz e com parâmetros\n",
    "modelo.gerar_texto(minimo=25, maximo=50)"
   ]
  },
  {
   "cell_type": "markdown",
   "metadata": {},
   "source": [
    "#### 5. Teste do modelo"
   ]
  },
  {
   "cell_type": "code",
   "execution_count": 8,
   "metadata": {},
   "outputs": [
    {
     "name": "stdout",
     "output_type": "stream",
     "text": [
      "==> Testando o modelo...\n"
     ]
    },
    {
     "data": {
      "application/vnd.jupyter.widget-view+json": {
       "model_id": "d124937b6d684201afd4e2e8df46dbea",
       "version_major": 2,
       "version_minor": 0
      },
      "text/plain": [
       "  0%|          | 0/79455 [00:00<?, ?it/s]"
      ]
     },
     "metadata": {},
     "output_type": "display_data"
    },
    {
     "name": "stdout",
     "output_type": "stream",
     "text": [
      "    feito em 1407.21 segundos.\n",
      "    Acertos: 248389, Erros: 1770682\n"
     ]
    },
    {
     "data": {
      "text/plain": [
       "(248389, 1770682)"
      ]
     },
     "execution_count": 8,
     "metadata": {},
     "output_type": "execute_result"
    }
   ],
   "source": [
    "# Roda o teste\n",
    "modelo.testar_modelo()"
   ]
  }
 ],
 "metadata": {
  "kernelspec": {
   "display_name": "venv",
   "language": "python",
   "name": "python3"
  },
  "language_info": {
   "codemirror_mode": {
    "name": "ipython",
    "version": 3
   },
   "file_extension": ".py",
   "mimetype": "text/x-python",
   "name": "python",
   "nbconvert_exporter": "python",
   "pygments_lexer": "ipython3",
   "version": "3.10.12"
  }
 },
 "nbformat": 4,
 "nbformat_minor": 2
}
