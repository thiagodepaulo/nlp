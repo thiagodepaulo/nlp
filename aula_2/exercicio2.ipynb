{
 "cells": [
  {
   "cell_type": "markdown",
   "metadata": {},
   "source": [
    "### Atividade: Criação de Modelo de Bigrama para Geração de Texto"
   ]
  },
  {
   "cell_type": "markdown",
   "metadata": {},
   "source": [
    "#### Objetivo\n",
    "\n",
    "Nesta atividade, você irá construir um modelo de bigrama para geração de texto. A atividade será realizada utilizando o tokenizador que você implementou na atividade anterior (algoritmo BPE). O objetivo é treinar e avaliar o modelo, bem como medir sua perplexidade em um conjunto de dados de teste."
   ]
  },
  {
   "cell_type": "markdown",
   "metadata": {},
   "source": [
    "#### 1. Preparação dos Dados\n",
    "- Utilize o tokenizador implementado na atividade anterior para segmentar o [conjunto de dados fornecido](https://unbbr-my.sharepoint.com/:u:/g/personal/thiagodepaulo_unb_br/ETRbkBjaKihNmsQI0eWq9RkB3I9tE-SluKccadGOFJYqmA?e=V9k4Vb).\n",
    "- Divida os arquivos em *treino* (80%) e *teste* (20%) de forma aleatória.\n"
   ]
  },
  {
   "cell_type": "markdown",
   "metadata": {},
   "source": [
    "##### 1.1. Divisão em sentenças"
   ]
  },
  {
   "cell_type": "code",
   "execution_count": null,
   "metadata": {},
   "outputs": [],
   "source": [
    "# Importa arquivo local\n",
    "from exercicio2 import ModeloBigramas\n",
    "modelo = ModeloBigramas()\n",
    "\n",
    "# Lê os JSONs e os quebra em Sentenças com paralelização de CPU - 1\n",
    "modelo.paralelizar(padrao='../corpus/*.json', funcao=modelo.sentenizar, tarefas='max');"
   ]
  },
  {
   "cell_type": "markdown",
   "metadata": {},
   "source": [
    "##### 1.2. Divisão em treino e teste"
   ]
  },
  {
   "cell_type": "code",
   "execution_count": null,
   "metadata": {},
   "outputs": [],
   "source": [
    "# Vou carregar treino e teste, mas não vou usar porque o teste deu muito ruim\n",
    "# Preciso da ajuda do professor para enteder como fazer esse teste\n",
    "modelo.separar_teste()"
   ]
  },
  {
   "cell_type": "markdown",
   "metadata": {},
   "source": [
    "#### 2. Implementação do Modelo de Bigrama\n",
    "- Implemente um modelo de bigrama em Python. O modelo deve calcular a probabilidade condicional de uma palavra dado a palavra anterior com base nos dados de treino.\n",
    "- A saída deve ser o modelo que calcula a distribuição de probabilidade das palavras baseando-se nas palavras anteriores.\n",
    "   "
   ]
  },
  {
   "cell_type": "markdown",
   "metadata": {},
   "source": [
    "##### 2.1. Cálculo das probabilidades (modelo)"
   ]
  },
  {
   "cell_type": "code",
   "execution_count": null,
   "metadata": {},
   "outputs": [],
   "source": [
    "# Calculando bigramas no conjunto de treino somente\n",
    "modelo.bigramas()"
   ]
  },
  {
   "cell_type": "markdown",
   "metadata": {},
   "source": [
    "#### 3. Cálculo da Perplexidade\n",
    "- Aplique o modelo de bigrama no conjunto de dados de teste para calcular a **perplexidade**, uma métrica usada para avaliar a capacidade preditiva do modelo. A perplexidade indica o quão bem o modelo prevê o próximo termo em uma sequência.\n"
   ]
  },
  {
   "cell_type": "markdown",
   "metadata": {},
   "source": [
    "##### 3.1. Calculando a perplexidade"
   ]
  },
  {
   "cell_type": "code",
   "execution_count": null,
   "metadata": {},
   "outputs": [],
   "source": [
    "# Cálculo da perplexidade\n",
    "modelo.perplexidade()"
   ]
  },
  {
   "cell_type": "markdown",
   "metadata": {},
   "source": [
    "##### 3.2. Resultado da perplexidade\n",
    "\n",
    "* Baixa perplexidade (1-100): modelo com boa predição\n",
    "* Alta perplexidade (100-1000): modelo não tem boa predição\n",
    "* Perplexidade perfeita: 1\n",
    "* Perplexidade imperfeita: infinito (modelo totalmente aleatório)"
   ]
  },
  {
   "cell_type": "markdown",
   "metadata": {},
   "source": [
    "#### 4. Geração de Texto\n",
    "- Implemente uma função que gera texto a partir do modelo de bigrama.\n",
    "- No *notebook*, gere um exemplo de texto com pelo menos 20 tokens para demonstrar o funcionamento do modelo.\n"
   ]
  },
  {
   "cell_type": "markdown",
   "metadata": {},
   "source": [
    "##### 4.1. Geração de texto sem raiz e sem parâmetros\n",
    "\n",
    "* `_______.` significa que o modelo encontrou uma palavra sem probabilidade para a palavra seguinte."
   ]
  },
  {
   "cell_type": "code",
   "execution_count": null,
   "metadata": {},
   "outputs": [],
   "source": [
    "# Geração de texto sem raiz e sem parâmetros\n",
    "modelo.gerar_texto()"
   ]
  },
  {
   "cell_type": "markdown",
   "metadata": {},
   "source": [
    "##### 4.2. Geração de texto com raiz e sem parâmetros\n",
    "\n",
    "* `_______.` significa que o modelo encontrou uma palavra sem probabilidade para a palavra seguinte."
   ]
  },
  {
   "cell_type": "code",
   "execution_count": null,
   "metadata": {},
   "outputs": [],
   "source": [
    "# Geração de texto com raiz e sem parâmetros\n",
    "modelo.gerar_texto(raiz='O município registrou')"
   ]
  },
  {
   "cell_type": "markdown",
   "metadata": {},
   "source": [
    "##### 4.3. Geração de texto sem raiz e com parâmetros\n",
    "\n",
    "* `_______.` significa que o modelo encontrou uma palavra sem probabilidade para a palavra seguinte."
   ]
  },
  {
   "cell_type": "code",
   "execution_count": null,
   "metadata": {},
   "outputs": [],
   "source": [
    "# Geração de texto sem raiz e com parâmetros\n",
    "modelo.gerar_texto(minimo=25, maximo=50)"
   ]
  },
  {
   "cell_type": "markdown",
   "metadata": {},
   "source": [
    "#### 5. Teste do modelo"
   ]
  },
  {
   "cell_type": "code",
   "execution_count": null,
   "metadata": {},
   "outputs": [],
   "source": [
    "# Roda o teste\n",
    "modelo.testar_modelo()"
   ]
  }
 ],
 "metadata": {
  "kernelspec": {
   "display_name": "venv",
   "language": "python",
   "name": "python3"
  },
  "language_info": {
   "codemirror_mode": {
    "name": "ipython",
    "version": 3
   },
   "file_extension": ".py",
   "mimetype": "text/x-python",
   "name": "python",
   "nbconvert_exporter": "python",
   "pygments_lexer": "ipython3",
   "version": "3.10.12"
  }
 },
 "nbformat": 4,
 "nbformat_minor": 2
}
