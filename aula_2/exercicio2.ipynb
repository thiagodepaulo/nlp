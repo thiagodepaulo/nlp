{
 "cells": [
  {
   "cell_type": "markdown",
   "metadata": {},
   "source": [
    "# Atividade: Criação de Modelo de Bigrama para Geração de Texto"
   ]
  },
  {
   "cell_type": "markdown",
   "metadata": {},
   "source": [
    "## Objetivo\n",
    "\n",
    "Nesta atividade, você irá construir um modelo de bigrama para geração de texto. A atividade será realizada utilizando o tokenizador que você implementou na atividade anterior (algoritmo BPE). O objetivo é treinar e avaliar o modelo, bem como medir sua perplexidade em um conjunto de dados de teste."
   ]
  },
  {
   "cell_type": "markdown",
   "metadata": {},
   "source": [
    "## 1. Preparação dos Dados\n",
    "- Utilize o tokenizador implementado na atividade anterior para segmentar o conjunto de dados fornecido.\n",
    "- Divida os arquivos em *treino* (80%) e *teste* (20%) de forma aleatória.\n"
   ]
  },
  {
   "cell_type": "markdown",
   "metadata": {},
   "source": [
    "### 1.1. Divisão em sentenças"
   ]
  },
  {
   "cell_type": "code",
   "execution_count": 1,
   "metadata": {},
   "outputs": [
    {
     "name": "stdout",
     "output_type": "stream",
     "text": [
      "==> Processando 10000 JSONs...\n",
      "==> Processando /Users/thyarles/SPAI/unb-fmc-nlp/aula_2/../corpus/63235.json...\n",
      "==> Processando /Users/thyarles/SPAI/unb-fmc-nlp/aula_2/../corpus/120541.json...\n",
      "==> Processando /Users/thyarles/SPAI/unb-fmc-nlp/aula_2/../corpus/52991.json...\n",
      "==> Processando /Users/thyarles/SPAI/unb-fmc-nlp/aula_2/../corpus/86166.json...\n",
      "==> Processando /Users/thyarles/SPAI/unb-fmc-nlp/aula_2/../corpus/86799.json...\n",
      "==> Processando /Users/thyarles/SPAI/unb-fmc-nlp/aula_2/../corpus/1419.json...\n",
      "==> Processando /Users/thyarles/SPAI/unb-fmc-nlp/aula_2/../corpus/63392.json...\n",
      "==> Processando /Users/thyarles/SPAI/unb-fmc-nlp/aula_2/../corpus/57459.json...\n",
      "==> Processando /Users/thyarles/SPAI/unb-fmc-nlp/aula_2/../corpus/37281.json...\n",
      "==> Processando /Users/thyarles/SPAI/unb-fmc-nlp/aula_2/../corpus/66037.json...\n",
      "==> Processando /Users/thyarles/SPAI/unb-fmc-nlp/aula_2/../corpus/26279.json...\n",
      "==> Processando /Users/thyarles/SPAI/unb-fmc-nlp/aula_2/../corpus/56287.json...\n",
      "==> Processando /Users/thyarles/SPAI/unb-fmc-nlp/aula_2/../corpus/117956.json...\n",
      "==> Processando /Users/thyarles/SPAI/unb-fmc-nlp/aula_2/../corpus/55852.json...\n",
      "==> Processando /Users/thyarles/SPAI/unb-fmc-nlp/aula_2/../corpus/45501.json...\n",
      "==> Processando /Users/thyarles/SPAI/unb-fmc-nlp/aula_2/../corpus/66332.json...\n",
      "==> Processando /Users/thyarles/SPAI/unb-fmc-nlp/aula_2/../corpus/13361.json...\n",
      "==> Processando /Users/thyarles/SPAI/unb-fmc-nlp/aula_2/../corpus/42397.json...\n",
      "==> Processando /Users/thyarles/SPAI/unb-fmc-nlp/aula_2/../corpus/59522.json...\n",
      "==> Processando /Users/thyarles/SPAI/unb-fmc-nlp/aula_2/../corpus/70419.json...\n",
      "==> Processando /Users/thyarles/SPAI/unb-fmc-nlp/aula_2/../corpus/22996.json...\n",
      "==> Processando /Users/thyarles/SPAI/unb-fmc-nlp/aula_2/../corpus/84008.json...\n",
      "==> Processando /Users/thyarles/SPAI/unb-fmc-nlp/aula_2/../corpus/68655.json...\n",
      "==> Processando /Users/thyarles/SPAI/unb-fmc-nlp/aula_2/../corpus/72424.json...\n",
      "==> Processando /Users/thyarles/SPAI/unb-fmc-nlp/aula_2/../corpus/116865.json...\n",
      "==> Processando /Users/thyarles/SPAI/unb-fmc-nlp/aula_2/../corpus/16765.json...\n",
      "==> Processando /Users/thyarles/SPAI/unb-fmc-nlp/aula_2/../corpus/6276.json...\n",
      "==> Processando /Users/thyarles/SPAI/unb-fmc-nlp/aula_2/../corpus/79897.json...\n",
      "==> Processando /Users/thyarles/SPAI/unb-fmc-nlp/aula_2/../corpus/78785.json...\n",
      "==> Processando /Users/thyarles/SPAI/unb-fmc-nlp/aula_2/../corpus/96865.json...\n",
      "==> Processando /Users/thyarles/SPAI/unb-fmc-nlp/aula_2/../corpus/102410.json...\n",
      "==> Processando /Users/thyarles/SPAI/unb-fmc-nlp/aula_2/../corpus/12415.json...\n",
      "==> Processando /Users/thyarles/SPAI/unb-fmc-nlp/aula_2/../corpus/76515.json...\n",
      "==> Processando /Users/thyarles/SPAI/unb-fmc-nlp/aula_2/../corpus/3853.json...\n",
      "==> Processando /Users/thyarles/SPAI/unb-fmc-nlp/aula_2/../corpus/88181.json...\n",
      "==> Processando /Users/thyarles/SPAI/unb-fmc-nlp/aula_2/../corpus/58256.json...\n",
      "==> Processando /Users/thyarles/SPAI/unb-fmc-nlp/aula_2/../corpus/67020.json...\n",
      "==> Processando /Users/thyarles/SPAI/unb-fmc-nlp/aula_2/../corpus/25766.json...\n",
      "==> Processando /Users/thyarles/SPAI/unb-fmc-nlp/aula_2/../corpus/121645.json...\n",
      "==> Processando /Users/thyarles/SPAI/unb-fmc-nlp/aula_2/../corpus/85249.json...\n",
      "==> Processando /Users/thyarles/SPAI/unb-fmc-nlp/aula_2/../corpus/116003.json...\n",
      "==> Processando /Users/thyarles/SPAI/unb-fmc-nlp/aula_2/../corpus/89769.json...\n",
      "APAGUEI UMA PARTE PORQUE ESTAVA GRANDE E O GITHUB NAO ESTAVA RENDERIZANDO\n",
      "OLHE OS DOIS COMMITS ANTERIORES PARA BAIXAR A VERSÃO COMPLETA\n",
      "    feito em 4.41 segundos.\n"
     ]
    }
   ],
   "source": [
    "# Importa arquivo local\n",
    "import exercicio2 as ex\n",
    "\n",
    "# Lê os JSONs e os quebra em Sentenças com paralelização de CPU - 1\n",
    "sentencas = ex.paralelizar(\n",
    "    padrao='../corpus/*.json',\n",
    "    funcao=ex.sentenizar,\n",
    "    tarefas='max'\n",
    ")"
   ]
  },
  {
   "cell_type": "markdown",
   "metadata": {},
   "source": [
    "### 1.2. Divisão em treino e teste"
   ]
  },
  {
   "cell_type": "code",
   "execution_count": 4,
   "metadata": {},
   "outputs": [],
   "source": [
    "# Vou carregar treino e teste, mas não vou usar porque o teste deu muito ruim\n",
    "# Preciso da ajuda do professor para enteder como fazer esse teste\n",
    "treino, teste = ex.separar_teste(\n",
    "    sentencas=sentencas,\n",
    "    percentual_teste=0.2\n",
    ")"
   ]
  },
  {
   "cell_type": "markdown",
   "metadata": {},
   "source": [
    "#### 1.2.1. Resultado da divisão (treino)"
   ]
  },
  {
   "cell_type": "code",
   "execution_count": 5,
   "metadata": {},
   "outputs": [
    {
     "data": {
      "text/plain": [
       "['A função da carcaça é conter todo o conjunto rotativo, composto pelo eixo e pelas palhetas, e adicionar as tubeiras (nozzles) fixos.',\n",
       " 'Por ser uma Lei Federal tem mais peso jurídico do que as Leis Estaduais, Municipais ou a Convenção do Condomínio e Assembléia de Moradores.',\n",
       " 'Nanoestruturas e mecanismos físicos que dão brilho às asas de algumas espécies de borboletas foram reproduzidas in silico por Greg Parker, professor de Ciências da Computação e Eletrônica na Universidade de Southampton, e o estudante e pesquisador Luca Plattner.',\n",
       " '1942 — Teddy Pilette, ex-automobilista belga.',\n",
       " 'Em março de 1984, Jackson lançou em VHS o videoclipe de\"Thriller\" acompanhado por um documentário sobre os bastidores da produção.',\n",
       " 'As respostas a essa pergunta são encontradas pela aplicação da hidrologia, ou seja, o estudo da ocorrência e distribuição das águas naturais no globo terrestre.',\n",
       " 'Roda Velha na Bahia em 1962',\n",
       " 'Branca uma resposta negativa, tal como o rei D. João antecipara, regressaram a Portugal, parando novamente em Ceuta pelo caminho.',\n",
       " 'Também sustentaram que as imagens não foram colocadas no filme por nenhum de seus animadores, mas sim no processo de pós-produção.',\n",
       " 'Na realidade, apenas as primeiras levas, que chegaram entre 1824 e 1830, tiveram esse benefício.',\n",
       " 'Após a formação do arraial de Itaverava, foi edificada a sua primeira igreja, dedicada a Santo Antônio de Lisboa, em 1726, que se transformou em matriz da localidade.',\n",
       " '«Tratava-se de refundar a Ordem do Templo que anterior bula papal de Clemente V havia condenado à extinção».',\n",
       " 'O brilho aparente (magnitude aparente) de um planeta depende de quão longe o observador está, quão reflexivo o planeta é (albedo) e quanta luz o planeta recebe de sua estrela, o que depende de quão longe o planeta está da estrela e quão brilhante é a estrela.',\n",
       " 'e ZDaemon têm o IRC incluído.',\n",
       " '11a Família: São Cristovão, Caju, Benfica, Barreira do Vasco e Bairro Vasco da Gama.',\n",
       " 'Pierre Allix (Alençon, Normandia, 5 de dezembro de 1641 - Londres, 3 de março de 1717) foi um teólogo, reformador, divino protestante e controversista francês.',\n",
       " 'Isto demonstrou pela primeira vez que o potencial vetorial, uma conveniência matemática, poderia ter efeitos físicos (quânticos) reais.',\n",
       " 'A prova Exaustiva para isto é dada no trabalho\"Die liturgische Gewandung im Occident und Orient\" (pp.',\n",
       " 'Durante o período que precedeu a sua morte, havia perdido parte da sua capacidade de compor devido às lesões cerebrais causadas pelo acidente.',\n",
       "APAGUEI UMA PARTE PORQUE ESTAVA GRANDE E O GITHUB NAO ESTAVA RENDERIZANDO\n",
       "OLHE OS DOIS COMMITS ANTERIORES PARA BAIXAR A VERSÃO COMPLETA\n",
       " ...]"
      ]
     },
     "execution_count": 5,
     "metadata": {},
     "output_type": "execute_result"
    }
   ],
   "source": [
    "# Treino\n",
    "treino"
   ]
  },
  {
   "cell_type": "markdown",
   "metadata": {},
   "source": [
    "#### 1.2.2. Resultado da divisão (teste)"
   ]
  },
  {
   "cell_type": "code",
   "execution_count": 6,
   "metadata": {},
   "outputs": [
    {
     "data": {
      "text/plain": [
       "['Os poderes de Varuna sobre o oceano e os rios, assim como sobre todos os répteis (crocodilos e serpentes principalmente), também revela um paralelismo com o titã Oceano, deus aquático da mitologia grega.',\n",
       " 'Já na comparação com cidades do país todo, ficava na posição 4821 de 5570 e 4351 de 5570, respectivamente.',\n",
       " 'Para fornecer um conceito de\"pessoa jurídica, é necessário antes definir pessoa.',\n",
       " 'Em decisão acertada, Maria Rita pôs, em 2016, seu elegante\"voz:piano\" na estrada, paralelo ao alegre\"Samba Da Maria, atendendo, assim, aos pedidos de seu público, que pôde matar as saudades do repertório antigo da cantora, e, ainda, disponibilizou aos contratantes de shows opções diversificadas de atrações, que alcançaram vários lugares do mundo...\"O Samba em Mim - Ao Vivo na Lapa\" (2016)..',\n",
       " 'A Orquestra Sinfónica da Póvoa de Varzim, com concertos regulares no auditório, é a orquestra residente durante o Festival Internacional de Música da Póvoa de Varzim.',\n",
       " 'Penguin Books, 1969, pp 94-95 (v 15) Para Maharishi Mahesh Yogi, o verso significa:\"Uma vez um homem tornou-se estabelecido na compreensão da realidade permanente da vida, sua mente se eleva acima da influência do prazer e da dor.',\n",
       " 'Ele está citando o livro de Boaventura Vulcânio,\"De literis et lingua Getarum sive Gothorum\"(Lyon, 1597) e Johannes Magnus Gothus,\"Historia de omnibus Gothorum Sueonumque regibus\" (Roma, 1554), uma obra na qual foi publicada, pela primeira vez, tanto o alfabeto gético quanto as leis do legislador geta Zamolxis.',\n",
       " 'Se for bem-sucedido, a tireoglobulina deve ser indetectável.',\n",
       " 'Em 2006, a mão de obra local gozava de um salário médio por hora de 18,62 euros (cerca de 20 dólares).Landeshauptstadt München, Direktorium, Statistisches Amt: Statistisches Jahrbuch 2007, page 206 (Statistical Yearbook of the City of Munich 2007) A classificação das cidades propriamente ditas (não de suas áreas metropolitanas) Global 500 citou Munique na 8a posição em 2009.',\n",
       " 'Os medicamentos que agem neste sintoma são chamados de antieméticos.',\n",
       " 'Em 1627, no contexto da Capitania do Grão-Pará (1621 - 1820) foi inicialmente fundada como a povoação de Vera Cruz, em Viseu.',\n",
       " 'Tendo como lema\"embriagados de amor pelo CRB, a Galo Chopp acompanha o CRB em seus jogos...',\n",
       " 'O INE considerava apenas 16 no censo de 2001.',\n",
       " 'events article Houston-s-public-higher-education-history-a-9175498.php Várias instituições privadas de ensino superior - que vão desde as faculdades de artes liberais, como a Universidade de São Tomás, a única universidade católica de Houston, até a Universidade Rice, com uma matrícula de mais de 3 mil alunos de graduação - estão localizadas dentro da cidade.',\n",
       "APAGUEI UMA PARTE PORQUE ESTAVA GRANDE E O GITHUB NAO ESTAVA RENDERIZANDO\n",
       "OLHE OS DOIS COMMITS ANTERIORES PARA BAIXAR A VERSÃO COMPLETA\n",
       " ...]"
      ]
     },
     "execution_count": 6,
     "metadata": {},
     "output_type": "execute_result"
    }
   ],
   "source": [
    "# Teste\n",
    "teste"
   ]
  },
  {
   "cell_type": "markdown",
   "metadata": {},
   "source": [
    "## 2. Implementação do Modelo de Bigrama\n",
    "- Implemente um modelo de bigrama em Python. O modelo deve calcular a probabilidade condicional de uma palavra dado a palavra anterior com base nos dados de treino.\n",
    "- A saída deve ser o modelo que calcula a distribuição de probabilidade das palavras baseando-se nas palavras anteriores.\n",
    "   "
   ]
  },
  {
   "cell_type": "markdown",
   "metadata": {},
   "source": [
    "### 2.1. Cálculo das probabilidades (modelo)"
   ]
  },
  {
   "cell_type": "code",
   "execution_count": 7,
   "metadata": {},
   "outputs": [
    {
     "name": "stdout",
     "output_type": "stream",
     "text": [
      "==> Calculando probabilidades dos bigramas...\n",
      "    feito em 7.23 segundos.\n",
      "    probabilidade gerada com 727208 termos.\n"
     ]
    }
   ],
   "source": [
    "# Como dito, aqui deveria ser utilizado o pacote de treino...\n",
    "# Mas vou usar o completo porque as tentativas de testar falharam!\n",
    "\n",
    "# Deveria ser isto...\n",
    "# modelo = ex.calcular_bigramas(treino)\n",
    "\n",
    "# Mas foi isto\n",
    "modelo = ex.calcular_bigramas(sentencas=sentencas)"
   ]
  },
  {
   "cell_type": "markdown",
   "metadata": {},
   "source": [
    "### 2.2. Impressão das probabilidades (modelo)"
   ]
  },
  {
   "cell_type": "code",
   "execution_count": 8,
   "metadata": {},
   "outputs": [
    {
     "data": {
      "text/plain": [
       "{'<s>': {'San': 0.000281921293615993,\n",
       "  'de': 0.0017066306881396718,\n",
       "  'O': 0.09412143759722509,\n",
       "  'Para': 0.006612564627939407,\n",
       "  'A': 0.10145642554005548,\n",
       "  'Esta': 0.005361538887518438,\n",
       "  'Essa': 0.002796558546494359,\n",
       "  'Uma': 0.006725836576267261,\n",
       "  'As': 0.01981503949415265,\n",
       "  'o': 0.00023661251428485125,\n",
       "  'Émile': 1.762008085099956e-05,\n",
       "  'Ele': 0.008563359293585787,\n",
       "  'Durkheim': 2.517154407285652e-06,\n",
       "  'Nas': 0.0022301988048550876,\n",
       "  'Com': 0.009315988461364198,\n",
       "  'Esses': 0.0014347780121528216,\n",
       "  'Portanto,': 0.0006116685209704134,\n",
       "  'Todos': 0.0011100650936129723,\n",
       "  'Eles': 0.0028947275683784994,\n",
       "  'É': 0.010330401687500315,\n",
       "  'De': 0.006982586325810398,\n",
       "  'Dicionário': 0.00013844349240071084,\n",
       "  'Esse': 0.0022981619738518,\n",
       "  'Termo': 1.510292644371391e-05,\n",
       "  'Seriam': 2.5171544072856517e-05,\n",
       "  '190-191': 2.517154407285652e-06,\n",
       "  'Assim,': 0.0027361468407195036,\n",
       "  'Visto': 9.313471306956911e-05,\n",
       "  'Sociedade': 2.2654389665570864e-05,\n",
       "  'Teoria': 8.558324984771216e-05,\n",
       "  'Cada': 0.0013466776078978238,\n",
       "  'Críticos': 5.0343088145713035e-05,\n",
       "  'Também': 0.0046491841902565985,\n",
       "  'Anthony': 5.537739696028434e-05,\n",
       "  'Como': 0.005618288637061574,\n",
       "  'Deste': 0.0003549187714272769,\n",
       "  'Ainda': 0.002643012127649934,\n",
       "  'Dentre': 0.0010320333069871173,\n",
       "  'foi': 0.0002189924334338517,\n",
       "  'Além': 0.006481672598760553,\n",
       "  'Brasil': 3.524016170199912e-05,\n",
       "  'começou': 1.0068617629142607e-05,\n",
       "  'Mas': 0.0024391226206597967,\n",
       "  'Outra': 0.0011654424905732568,\n",
       "  'pelos': 1.762008085099956e-05,\n",
       "  'se': 4.027447051657043e-05,\n",
       "  'Era': 0.0015631528869243898,\n",
       "  'E': 0.0021723042534875173,\n",
       "  'Já': 0.002927450575673213,\n",
       "  'e': 0.0007778007118512663,\n",
       "  'Em': 0.06087989649461077,\n",
       "  'promovia': 2.517154407285652e-06,\n",
       "  'em': 0.0002340953598775656,\n",
       "  'Estes': 0.001857659952576811,\n",
       "  'Após': 0.006655356252863263,\n",
       "  'indica': 3.524016170199912e-05,\n",
       "  'na': 7.048032340399825e-05,\n",
       "  'para': 0.00010572048510599738,\n",
       "  'Grindcore': 2.517154407285652e-06,\n",
       "  'Os': 0.029923931593811827,\n",
       "  'Muitas': 0.0010798592407255446,\n",
       "  'Existem': 0.001996103444977522,\n",
       "  'Naqueles': 2.2654389665570864e-05,\n",
       "  'Segundo': 0.00446291476411746,\n",
       "  '(O': 3.7757316109284776e-05,\n",
       "  'Outras': 0.0013466776078978238,\n",
       "  'Então': 0.00033226438176170604,\n",
       "  'Vale': 0.00021144097021199475,\n",
       "  'Também,': 0.00012837487477156823,\n",
       "  'Atualmente,': 0.0013919863872289655,\n",
       "  'Carcass': 2.517154407285652e-06,\n",
       "  'Isto': 0.001475052482669392,\n",
       "  'Deathgrind': 2.517154407285652e-06,\n",
       "  'Devido': 0.001676424835252244,\n",
       "  'Atuamente': 2.517154407285652e-06,\n",
       "  'Na': 0.014717801819399206,\n",
       "  'Isso': 0.002643012127649934,\n",
       "  'Outros': 0.0021521670182292323,\n",
       "  'Caracterizado': 1.0068617629142607e-05,\n",
       "  'Seu': 0.004060170058951756,\n",
       "  'Hacked': 5.034308814571304e-06,\n",
       "  'Benny': 1.0068617629142607e-05,\n",
       "  'Depois,': 0.0003121271465034208,\n",
       "  'Este': 0.005079617593902445,\n",
       "  '\"Benassi\"': 2.517154407285652e-06,\n",
       "  'Nos': 0.0035466705598654834,\n",
       "  'The': 0.002278024738593515,\n",
       "  '(No': 1.0068617629142607e-05,\n",
       "  'Paralelamente,': 8.81004042549978e-05,\n",
       "  'produziu': 2.517154407285652e-06,\n",
       "  '),': 0.0007702492486294095,\n",
       "  'Audio': 7.551463221856955e-06,\n",
       "  'Channing)\"': 2.517154407285652e-06,\n",
       "  'Foi': 0.008258783610304223,\n",
       "  'Benassi': 2.517154407285652e-06,\n",
       "  'Lista': 0.0009665872923976902,\n",
       "  '\"—\"': 2.517154407285652e-06,\n",
       "  '1994': 0.0002340953598775656,\n",
       "  'Nicole': 1.2585772036428259e-05,\n",
       "  '2005': 0.0001510292644371391,\n",
       "  'JD': 2.517154407285652e-06,\n",
       "  'Pharrell': 2.517154407285652e-06,\n",
       "  'Chris': 3.7757316109284776e-05,\n",
       "  'Ledisi': 2.517154407285652e-06,\n",
       "  'Kanye': 2.517154407285652e-06,\n",
       "  'Kesha': 2.517154407285652e-06,\n",
       "APAGUEI UMA PARTE PORQUE ESTAVA GRANDE E O GITHUB NAO ESTAVA RENDERIZANDO\n",
       "OLHE OS DOIS COMMITS ANTERIORES PARA BAIXAR A VERSÃO COMPLETA\n",
       " ...}"
      ]
     },
     "execution_count": 8,
     "metadata": {},
     "output_type": "execute_result"
    }
   ],
   "source": [
    "modelo"
   ]
  },
  {
   "cell_type": "markdown",
   "metadata": {},
   "source": [
    "## 3. Cálculo da Perplexidade\n",
    "- Aplique o modelo de bigrama no conjunto de dados de teste para calcular a **perplexidade**, uma métrica usada para avaliar a capacidade preditiva do modelo. A perplexidade indica o quão bem o modelo prevê o próximo termo em uma sequência.\n"
   ]
  },
  {
   "cell_type": "markdown",
   "metadata": {},
   "source": [
    "### 3.1. Calculando a perplexidade"
   ]
  },
  {
   "cell_type": "code",
   "execution_count": 9,
   "metadata": {},
   "outputs": [
    {
     "name": "stdout",
     "output_type": "stream",
     "text": [
      "==> Calculando a perplexidade...\n",
      "    perplexidade = 123.28.\n"
     ]
    }
   ],
   "source": [
    "# Cálculo da perplexidade\n",
    "perplexidade = ex.perplexidade(\n",
    "    probabilidades=modelo,\n",
    "    sentencas=sentencas\n",
    ")"
   ]
  },
  {
   "cell_type": "markdown",
   "metadata": {},
   "source": [
    "### 3.2. Resultado da perplexidade\n",
    "\n",
    "* Baixa perplexidade (1-100): modelo com boa predição\n",
    "* Alta perplexidade (100-1000): modelo não tem boa predição\n",
    "* Perplexidade perfeita: 1\n",
    "* Perplexidade imperfeita: infinito (modelo totalmente aleatório)"
   ]
  },
  {
   "cell_type": "code",
   "execution_count": 10,
   "metadata": {},
   "outputs": [
    {
     "data": {
      "text/plain": [
       "123.27871373314042"
      ]
     },
     "execution_count": 10,
     "metadata": {},
     "output_type": "execute_result"
    }
   ],
   "source": [
    "perplexidade"
   ]
  },
  {
   "cell_type": "markdown",
   "metadata": {},
   "source": [
    "## 4. Geração de Texto\n",
    "- Implemente uma função que gera texto a partir do modelo de bigrama.\n",
    "- No *notebook*, gere um exemplo de texto com pelo menos 20 tokens para demonstrar o funcionamento do modelo.\n"
   ]
  },
  {
   "cell_type": "markdown",
   "metadata": {},
   "source": [
    "### 4.1. Geração de texto sem raiz e sem parâmetros\n",
    "\n",
    "_* `_______.` significa que o modelo encontrou uma palavra sem probabilidade para a palavra seguinte._"
   ]
  },
  {
   "cell_type": "code",
   "execution_count": 13,
   "metadata": {},
   "outputs": [
    {
     "data": {
      "text/plain": [
       "'A iniciativa privada. _______. Fez bastante exorbitantes sobre tela sensível à agitação social. _______. Com um computador de empatia e cultural. _______. O território brasileiro, Álvaro Machado de Março). _______. 1986 7a Esquadra da cultura curda, juntamente com vários anos, acusado de uma espécie Polyodon e descrever a superfície dos anos na Escola e mais famosos contam-se às seguintes 23 jan 1998 Socorro LINEAR — Primeira Guerra Mundial, votou contra ele, acelerou nos últimos 80 apenas respeito do carro que deve ser de laranja (834 mil km2. _______. No culto às vezes para consolidar sozinho no Vietnã era comum do Atlântico ultraperiféricas da porta próximos 40 milhões de São Paulo Honório, vários edifícios qualificados são Serra Redonda, Resende, capítulo final do próprio Cristo.'"
      ]
     },
     "execution_count": 13,
     "metadata": {},
     "output_type": "execute_result"
    }
   ],
   "source": [
    "# Geração de texto sem raiz e sem parâmetros\n",
    "ex.gerar_texto(probabilidades=modelo)"
   ]
  },
  {
   "cell_type": "markdown",
   "metadata": {},
   "source": [
    "### 4.2. Geração de texto com raiz e sem parâmetros\n",
    "\n",
    "_* `_______.` significa que o modelo encontrou uma palavra sem probabilidade para a palavra seguinte._"
   ]
  },
  {
   "cell_type": "code",
   "execution_count": null,
   "metadata": {},
   "outputs": [
    {
     "data": {
      "text/plain": [
       "'O múnicipio registrou seu pai, também pela Tia Julieta morava. _______. O tempo para 1o Prêmio da paisagem foi a se repelem com a relação com a Nossa TV Rio Baixão da luz. _______. New York, mas também como relatórios da Lombardia, província de clorofila), dependendo do Suprema Corte. _______. Este é, também, dois lados norte da eliminação, supressão ou para permitir a possibilidade de Novembro de couro. _______. Depois disso, passou a 1969. _______. Cada uma completa da escola ter marcado o videoclipe de\"Stamp Your Boogie Shoes Filme Personagem Duda Salabert (PSOL) Carlos e conseqüente fragmentação e quais dois primeiros episódios da sociedade secreta presidida por vários traços do pentagrama invertido cristalizadas caldo de desviarem a alcançar a Brício de modo a Mary Carlini (posteriormente separada da Rare.'"
      ]
     },
     "execution_count": 17,
     "metadata": {},
     "output_type": "execute_result"
    }
   ],
   "source": [
    "# Geração de texto com raiz e sem parâmetros\n",
    "ex.gerar_texto(\n",
    "    probabilidades=modelo,\n",
    "    raiz='O múnicipio registrou'\n",
    ")"
   ]
  },
  {
   "cell_type": "markdown",
   "metadata": {},
   "source": [
    "### 4.3. Geração de texto sem raiz e com parâmetros\n",
    "\n",
    "_* `_______.` significa que o modelo encontrou uma palavra sem probabilidade para a palavra seguinte._"
   ]
  },
  {
   "cell_type": "code",
   "execution_count": 22,
   "metadata": {},
   "outputs": [
    {
     "name": "stdout",
     "output_type": "stream",
     "text": [
      "O texto gerado \"Além disso contém quatro quilômetros da Mantiqueira e espanhóis.Teatro Sociedade um organismo modelo se um cursinho com cristas): †Ceratosauria (normalmente contatos dos dólares. _______. Talvez em A construção da população estadual e o Atlanta e agressivo.\" tem 36 palavras.\n"
     ]
    }
   ],
   "source": [
    "# Geração de texto sem raiz e com parâmetros\n",
    "texto = ex.gerar_texto(\n",
    "    probabilidades=modelo,\n",
    "    minimo=25,\n",
    "    maximo=50\n",
    ")\n",
    "print(f'O texto gerado \"{texto}\" tem {len(texto.split())} palavras.')"
   ]
  },
  {
   "cell_type": "markdown",
   "metadata": {},
   "source": [
    "## 5. Entrega\n",
    "- Crie um arquivo `.py` com a implementação do modelo bigrama e a função de cálculo de perplexidade. Certifique-se de que o código está funcional e bem documentado.\n",
    "\n",
    "- No *notebook*, carregue o modelo e o conjunto de dados de teste, e aplique as seguintes funções:\n",
    "    - Exemplo de geração de texto a partir do modelo de bigrama.\n",
    "    - Apresentação do cálculo da perplexidade para o conjunto de teste."
   ]
  }
 ],
 "metadata": {
  "kernelspec": {
   "display_name": "venv",
   "language": "python",
   "name": "python3"
  },
  "language_info": {
   "codemirror_mode": {
    "name": "ipython",
    "version": 3
   },
   "file_extension": ".py",
   "mimetype": "text/x-python",
   "name": "python",
   "nbconvert_exporter": "python",
   "pygments_lexer": "ipython3",
   "version": "3.13.0"
  }
 },
 "nbformat": 4,
 "nbformat_minor": 2
}
