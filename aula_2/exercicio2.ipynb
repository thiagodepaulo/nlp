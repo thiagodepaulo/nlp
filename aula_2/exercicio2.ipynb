{
 "cells": [
  {
   "cell_type": "markdown",
   "metadata": {},
   "source": [
    "# Atividade: Criação de Modelo de Bigrama para Geração de Texto"
   ]
  },
  {
   "cell_type": "markdown",
   "metadata": {},
   "source": [
    "## Objetivo\n",
    "\n",
    "Nesta atividade, você irá construir um modelo de bigrama para geração de texto. A atividade será realizada utilizando o tokenizador que você implementou na atividade anterior (algoritmo BPE). O objetivo é treinar e avaliar o modelo, bem como medir sua perplexidade em um conjunto de dados de teste."
   ]
  },
  {
   "cell_type": "markdown",
   "metadata": {},
   "source": [
    "## 1. Preparação dos Dados\n",
    "- Utilize o tokenizador implementado na atividade anterior para segmentar o conjunto de dados fornecido.\n",
    "- Divida os arquivos em *treino* (80%) e *teste* (20%) de forma aleatória.\n"
   ]
  },
  {
   "cell_type": "markdown",
   "metadata": {},
   "source": [
    "### 1.1. Divisão em sentenças"
   ]
  },
  {
   "cell_type": "code",
   "execution_count": 1,
   "metadata": {},
   "outputs": [
    {
     "name": "stdout",
     "output_type": "stream",
     "text": [
      "==> Processando 10000 JSONs...\n",
      "    feito em 4.28 segundos.\n"
     ]
    }
   ],
   "source": [
    "# Importa arquivo local\n",
    "import exercicio2 as ex\n",
    "\n",
    "# Lê os JSONs e os quebra em Sentenças com paralelização de CPU - 1\n",
    "sentencas = ex.paralelizar(\n",
    "    padrao='../corpus/*.json',\n",
    "    funcao=ex.sentenizar,\n",
    "    tarefas='max'\n",
    ")"
   ]
  },
  {
   "cell_type": "markdown",
   "metadata": {},
   "source": [
    "### 1.2. Divisão em treino e teste"
   ]
  },
  {
   "cell_type": "code",
   "execution_count": 2,
   "metadata": {},
   "outputs": [],
   "source": [
    "# Vou carregar treino e teste, mas não vou usar porque o teste deu muito ruim\n",
    "# Preciso da ajuda do professor para enteder como fazer esse teste\n",
    "treino, teste = ex.separar_teste(\n",
    "    sentencas=sentencas,\n",
    "    percentual_teste=0.2\n",
    ")"
   ]
  },
  {
   "cell_type": "markdown",
   "metadata": {},
   "source": [
    "#### 1.2.1. Resultado da divisão (treino)"
   ]
  },
  {
   "cell_type": "code",
   "execution_count": 3,
   "metadata": {},
   "outputs": [
    {
     "data": {
      "text/plain": [
       "['O atraso também aumentou o déficit projetado pela Airbus até 2010 para € 4,8 bilhões.',\n",
       " 'O congado, congo ou congada mescla cultos católicos europeus com práticas de matriz africana, em um movimento sincrético.',\n",
       " 'A imortalidade não seria fruto de uma única invenção ou descoberta, mas um desenvolvimento contínuo da tecnologia relacionada à saúde e a medicina, fazendo a expectativa de vida tender a subir exponencialmente a ponto de considerar que o ser humano não irá mais morrer por conta de velhice.Imortalidade - Humanos chegarão a 1000 anos de idade no futuro segundo cientista A tecnologia também dificultaria, mas não impediria entretanto, uma morte causada por assassínio ou por um acidente convencional, como um acidente rodoviário ou um acidente de trabalho.',\n",
       " 'Editora da Biblioteca da Marinha e Exército do Brasil, 1939.',\n",
       " 'Os francêses, que eram a população maior de imigrantes, não queriam mais vir para a ilha porque a França era mais próspera, assim Jersey convidou os madeirenses para pessoal para a hospitalidade.',\n",
       " 'Os episódios originalmente eram semanais, e sempre terminavam com um convite ao público para assistir o subsequente.',\n",
       " 'Essa lei ocasionou na unidade de medida de volume para álcoois, utilizada para medir o volume de teor alcoólicos das bebidas Ex: 14°GL.',\n",
       " 'É produzida no município a Cachaça Abaíra (que leva o nome do lugar) pela Cooperativa dos Produtores de Cana e seus derivados da Microrregião de Abaíra (Coopama).',\n",
       " 'Ela permite movimentação em três eixos, de modo a produzir os movimentos de flexão e extensão, adução e abdução, circundução, rotação lateral e rotação medial do braço.',\n",
       " 'Em 2004, a Rolling Stone colocou-o na 39a posição em sua lista dos\"100 Maiores Artistas do Rock de Todos os Tempos\" e em 23o lugar na lista dos\"Melhores Cantores de Todos os Tempos.']"
      ]
     },
     "execution_count": 3,
     "metadata": {},
     "output_type": "execute_result"
    }
   ],
   "source": [
    "# Treino\n",
    "treino[:10]"
   ]
  },
  {
   "cell_type": "markdown",
   "metadata": {},
   "source": [
    "#### 1.2.2. Resultado da divisão (teste)"
   ]
  },
  {
   "cell_type": "code",
   "execution_count": 4,
   "metadata": {},
   "outputs": [
    {
     "data": {
      "text/plain": [
       "['Além da Cabocla FM, atualmente a cidade e principalmente os seus conterrâneos contam com a Rádio Clube Web de Fonte Boa, que tem uma programação variada disponível na internet através do site, levando informação da cidade e região, através da internet, em suas redes sociais e aplicativos.',\n",
       " 'Boll ainda afirmou que os Estados Unidos reconhecem Feira de Santana como uma das principais cidades do Brasil, garantindo possibilidade de intercâmbios de estudantes, professores e profissionais técnico-administrativos.',\n",
       " 'O apelido regional e dialeto das pessoas de Newcastle e área circundante é chamado de Geordie.',\n",
       " 'O Partido Liberal (PL) é um antigo partido político português que foi criado em 28 de Maio de 1974 por dissidentes da Convergência Monárquica, que não concordaram com a criação do PPM.Partido Liberal (1974), Antologia do Pensamento Político Português, por José Adelino Maltez, Centro de Estudos do Pensamento Político, Instituto Superior de Ciências Sociais e Políticas da Universidade Técnica de Lisboa Fará o seu primeiro comício a 15 de Agosto no Teatro São Luís, tem no jornal o\"Tempo Novo\" o seu órgão de informação e teria ligações com movimentos africanos que se opunham à descolonização.Spinolismo: Viragem Política e Movimentos Sociais, por Francisco Felgueiras Bairrão Ruivo,Tese de Doutoramento em História Contemporânea, Faculdade de Ciências Sociais e Humanas, Universidade Nova de Lisboa, Julho, 2013, pág.',\n",
       " 'Na madrugada de 19 de Julho de 2010, o ex-ditador Desi Bouterse foi restabelecido no governo surinamês em votação realizada no Parlamento do país, conseguindo 36 dos 50 votos possíveis.',\n",
       " 'Em 23 de novembro, Manuel Bandeira enviou uma carta pedindo o segundo romance e alguns poemas para publicação em antologia.',\n",
       " 'Na primeira partida, a partida terminaria em 0 a 0 em solo angolano.',\n",
       " 'Cantores do meio católico também se manifestaram, como Adriana Arydes... Presidente da República à época, Jair Messias Bolsonaro, afirmou que Jonas Abib foi\"um fiel servo de Deus\" e desejou condolências, em nome do governo federal, aos seus familiares e amigos.',\n",
       " 'A população de todo o município cresceu apenas 1% entre 1981 e 1991, acelerando para 15,9% entre 1991 e 2001.',\n",
       " 'Chris True afirmou que durante seu relacionamento com Michael Hutchence,\"seu desprendimento da fachada quase virginal que dominou seus dois primeiros álbuns, começou a ter um efeito, não apenas em como a imprensa e seus fãs a tratavam, mas na evolução de sua música.']"
      ]
     },
     "execution_count": 4,
     "metadata": {},
     "output_type": "execute_result"
    }
   ],
   "source": [
    "# Teste\n",
    "teste[:10]"
   ]
  },
  {
   "cell_type": "markdown",
   "metadata": {},
   "source": [
    "## 2. Implementação do Modelo de Bigrama\n",
    "- Implemente um modelo de bigrama em Python. O modelo deve calcular a probabilidade condicional de uma palavra dado a palavra anterior com base nos dados de treino.\n",
    "- A saída deve ser o modelo que calcula a distribuição de probabilidade das palavras baseando-se nas palavras anteriores.\n",
    "   "
   ]
  },
  {
   "cell_type": "markdown",
   "metadata": {},
   "source": [
    "### 2.1. Cálculo das probabilidades (modelo)"
   ]
  },
  {
   "cell_type": "code",
   "execution_count": 5,
   "metadata": {},
   "outputs": [
    {
     "name": "stdout",
     "output_type": "stream",
     "text": [
      "==> Calculando probabilidades dos bigramas...\n",
      "    feito em 7.41 segundos.\n",
      "    probabilidade gerada com 727208 termos.\n"
     ]
    }
   ],
   "source": [
    "# Como dito, aqui deveria ser utilizado o pacote de treino...\n",
    "# Mas vou usar o completo porque as tentativas de testar falharam!\n",
    "\n",
    "# Deveria ser isto...\n",
    "# modelo = ex.calcular_bigramas(treino)\n",
    "\n",
    "# Mas foi isto\n",
    "modelo = ex.calcular_bigramas(sentencas=sentencas)"
   ]
  },
  {
   "cell_type": "markdown",
   "metadata": {},
   "source": [
    "### 2.2. Impressão das probabilidades (modelo)"
   ]
  },
  {
   "cell_type": "code",
   "execution_count": 6,
   "metadata": {},
   "outputs": [
    {
     "name": "stdout",
     "output_type": "stream",
     "text": [
      "<s>: {'San': 0.000281921293615993, 'de': 0.0017066306881396718, 'O': 0.09412143759722509, 'Para': 0.006612564627939407, 'A': 0.10145642554005548, 'CORTEI AQUI PARA NAO POLUIR': 0}\n",
      "San: {'José': 0.018494055482166448, 'Canzian': 0.0006605019815059445, 'Pier': 0.0019815059445178335, 'Jacinto,': 0.002642007926023778, 'CORTEI AQUI PARA NAO POLUIR,': 0}\n",
      "José: {'Poaquil': 0.0006422607578676942, 'Gurgel': 0.00021408691928923143, 'Olympio,': 0.002569043031470777, 'Geraldo': 0.001070434596446157, 'CORTEI AQUI PARA NAO POLUIR': 0}\n",
      "Poaquil: {'é': 0.3333333333333333, '</s>': 0.3333333333333333, '#': 0.3333333333333333}\n",
      "é: {'uma': 0.10812476298824422, 'um': 0.09802806219188472, 'exterior,': 1.5800783718872457e-05, 'a': 0.07892491467576791, 'significativo': 4.7402351156617366e-05, 'CORTEI AQUI PARA NAO POLUIR': 0}\n"
     ]
    }
   ],
   "source": [
    "from itertools import islice\n",
    "count = 0\n",
    "for key, value in islice(modelo.items(), 5):\n",
    "    print(f\"{key}: {value}\")\n",
    "    count += 1\n",
    "    if count > 10: break"
   ]
  },
  {
   "cell_type": "markdown",
   "metadata": {},
   "source": [
    "## 3. Cálculo da Perplexidade\n",
    "- Aplique o modelo de bigrama no conjunto de dados de teste para calcular a **perplexidade**, uma métrica usada para avaliar a capacidade preditiva do modelo. A perplexidade indica o quão bem o modelo prevê o próximo termo em uma sequência.\n"
   ]
  },
  {
   "cell_type": "markdown",
   "metadata": {},
   "source": [
    "### 3.1. Calculando a perplexidade"
   ]
  },
  {
   "cell_type": "code",
   "execution_count": 7,
   "metadata": {},
   "outputs": [
    {
     "name": "stdout",
     "output_type": "stream",
     "text": [
      "==> Calculando a perplexidade...\n",
      "    perplexidade = 123.28.\n"
     ]
    }
   ],
   "source": [
    "# Cálculo da perplexidade\n",
    "perplexidade = ex.perplexidade(\n",
    "    probabilidades=modelo,\n",
    "    sentencas=sentencas\n",
    ")"
   ]
  },
  {
   "cell_type": "markdown",
   "metadata": {},
   "source": [
    "### 3.2. Resultado da perplexidade\n",
    "\n",
    "* Baixa perplexidade (1-100): modelo com boa predição\n",
    "* Alta perplexidade (100-1000): modelo não tem boa predição\n",
    "* Perplexidade perfeita: 1\n",
    "* Perplexidade imperfeita: infinito (modelo totalmente aleatório)"
   ]
  },
  {
   "cell_type": "code",
   "execution_count": 9,
   "metadata": {},
   "outputs": [
    {
     "name": "stdout",
     "output_type": "stream",
     "text": [
      "A perplexidade foi de 123.28\n"
     ]
    }
   ],
   "source": [
    "print(f'A perplexidade foi de {perplexidade:.2f}')"
   ]
  },
  {
   "cell_type": "markdown",
   "metadata": {},
   "source": [
    "## 4. Geração de Texto\n",
    "- Implemente uma função que gera texto a partir do modelo de bigrama.\n",
    "- No *notebook*, gere um exemplo de texto com pelo menos 20 tokens para demonstrar o funcionamento do modelo.\n"
   ]
  },
  {
   "cell_type": "markdown",
   "metadata": {},
   "source": [
    "### 4.1. Geração de texto sem raiz e sem parâmetros\n",
    "\n",
    "* `_______.` significa que o modelo encontrou uma palavra sem probabilidade para a palavra seguinte."
   ]
  },
  {
   "cell_type": "code",
   "execution_count": 10,
   "metadata": {},
   "outputs": [
    {
     "data": {
      "text/plain": [
       "'Apesar da tabela é de Paços Novos. _______. A estação dos livros, periódicos O início de carros (1 de planos permaneceram na Underground A sua própria Teosofia, atribuem preferivelmente estejam locadas ao ano da Rainha e esculturas de modo que predominam florestas tropicais, que esquimó por isso, seu nome, passando a TV Ponta Grossa está sujeita à suinocultura, apicultura e animais que não têm letra C no oeste e seu single, Caravan, que estavam ocupadas sem perda de munições. _______. O ELP de seus principais áreas úmidas com 8 vagas conquistadas aos clubes do projeto e arcebispo Hermano 2a Fase de seu projecto de Janeiro - durante o seu terceiro Senhor Quincas Borba para alterar ou Auxiliares Internacionais\" (IALs, na sua participação especial o Papa- Léguas (Caxias do canteiro central, os quais o gasto das aplicações.'"
      ]
     },
     "execution_count": 10,
     "metadata": {},
     "output_type": "execute_result"
    }
   ],
   "source": [
    "# Geração de texto sem raiz e sem parâmetros\n",
    "ex.gerar_texto(probabilidades=modelo)"
   ]
  },
  {
   "cell_type": "markdown",
   "metadata": {},
   "source": [
    "### 4.2. Geração de texto com raiz e sem parâmetros\n",
    "\n",
    "* `_______.` significa que o modelo encontrou uma palavra sem probabilidade para a palavra seguinte."
   ]
  },
  {
   "cell_type": "code",
   "execution_count": 11,
   "metadata": {},
   "outputs": [
    {
     "data": {
      "text/plain": [
       "'O município registrou um viés espiritualista italiano, Antonio Amâncio Leite Pereira, de dados trocados no Kansas, na Rede pessoal de Dezembro de cerca de Einstein do Sol. _______. 1935) José Maria amamentando seu colega cientista Alan Wilson, trouxe os músicos formaram um indivíduo vivo e Medicina - 2008 (3), 2012 a Croia (Kruja). _______. Eles são grandes empresas em 19 de elétron orbitando a agricultura e instalados diversos tipos de brincar com William B. Johnson fez várias casas na divisão húngaro: na década, os editores manuais com a parte dessa teoria do Rio Grande Batalha de apoio (1975 1979), Arthur Friedenreich: 2009 a variação dos universais.'"
      ]
     },
     "execution_count": 11,
     "metadata": {},
     "output_type": "execute_result"
    }
   ],
   "source": [
    "# Geração de texto com raiz e sem parâmetros\n",
    "ex.gerar_texto(\n",
    "    probabilidades=modelo,\n",
    "    raiz='O município registrou'\n",
    ")"
   ]
  },
  {
   "cell_type": "markdown",
   "metadata": {},
   "source": [
    "### 4.3. Geração de texto sem raiz e com parâmetros\n",
    "\n",
    "* `_______.` significa que o modelo encontrou uma palavra sem probabilidade para a palavra seguinte."
   ]
  },
  {
   "cell_type": "code",
   "execution_count": 12,
   "metadata": {},
   "outputs": [
    {
     "name": "stdout",
     "output_type": "stream",
     "text": [
      "O texto gerado \"A dependência é nacional Santiago, Alcácer Alcáçova Forte de 2016 a implementação das mais acostumado. _______. Nesses anos 70, mais distantes, como pimenta chili (a metade branca típica da Apresentação (padroeira) (21 de 1962.\" tem 34 palavras.\n"
     ]
    }
   ],
   "source": [
    "# Geração de texto sem raiz e com parâmetros\n",
    "texto = ex.gerar_texto(\n",
    "    probabilidades=modelo,\n",
    "    minimo=25,\n",
    "    maximo=50\n",
    ")\n",
    "print(f'O texto gerado \"{texto}\" tem {len(texto.split())} palavras.')"
   ]
  }
 ],
 "metadata": {
  "kernelspec": {
   "display_name": "venv",
   "language": "python",
   "name": "python3"
  },
  "language_info": {
   "codemirror_mode": {
    "name": "ipython",
    "version": 3
   },
   "file_extension": ".py",
   "mimetype": "text/x-python",
   "name": "python",
   "nbconvert_exporter": "python",
   "pygments_lexer": "ipython3",
   "version": "3.13.0"
  }
 },
 "nbformat": 4,
 "nbformat_minor": 2
}
